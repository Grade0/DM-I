{
 "cells": [
  {
   "cell_type": "code",
   "execution_count": 1,
   "id": "738c0acd",
   "metadata": {},
   "outputs": [],
   "source": [
    "import numpy as np\n",
    "import pandas as pd\n",
    "\n",
    "import matplotlib.pyplot as plt\n",
    "%matplotlib inline"
   ]
  },
  {
   "cell_type": "code",
   "execution_count": 2,
   "id": "a812fa27",
   "metadata": {},
   "outputs": [],
   "source": [
    "df = pd.read_csv(\"seismic-bumps.csv\")"
   ]
  },
  {
   "cell_type": "code",
   "execution_count": 3,
   "id": "05d22e15",
   "metadata": {},
   "outputs": [
    {
     "data": {
      "text/html": [
       "<div>\n",
       "<style scoped>\n",
       "    .dataframe tbody tr th:only-of-type {\n",
       "        vertical-align: middle;\n",
       "    }\n",
       "\n",
       "    .dataframe tbody tr th {\n",
       "        vertical-align: top;\n",
       "    }\n",
       "\n",
       "    .dataframe thead th {\n",
       "        text-align: right;\n",
       "    }\n",
       "</style>\n",
       "<table border=\"1\" class=\"dataframe\">\n",
       "  <thead>\n",
       "    <tr style=\"text-align: right;\">\n",
       "      <th></th>\n",
       "      <th>seismic</th>\n",
       "      <th>seismoacoustic</th>\n",
       "      <th>shift</th>\n",
       "      <th>genergy</th>\n",
       "      <th>gpuls</th>\n",
       "      <th>gdenergy</th>\n",
       "      <th>gdpuls</th>\n",
       "      <th>hazard</th>\n",
       "      <th>nbumps</th>\n",
       "      <th>nbumps2</th>\n",
       "      <th>nbumps3</th>\n",
       "      <th>nbumps4</th>\n",
       "      <th>nbumps5</th>\n",
       "      <th>nbumps6</th>\n",
       "      <th>nbumps7</th>\n",
       "      <th>nbumps89</th>\n",
       "      <th>energy</th>\n",
       "      <th>maxenergy</th>\n",
       "      <th>class</th>\n",
       "    </tr>\n",
       "  </thead>\n",
       "  <tbody>\n",
       "    <tr>\n",
       "      <th>0</th>\n",
       "      <td>a</td>\n",
       "      <td>a</td>\n",
       "      <td>N</td>\n",
       "      <td>15180</td>\n",
       "      <td>48</td>\n",
       "      <td>-72</td>\n",
       "      <td>-72</td>\n",
       "      <td>a</td>\n",
       "      <td>0</td>\n",
       "      <td>0</td>\n",
       "      <td>0</td>\n",
       "      <td>0</td>\n",
       "      <td>0</td>\n",
       "      <td>0</td>\n",
       "      <td>0</td>\n",
       "      <td>0</td>\n",
       "      <td>0</td>\n",
       "      <td>0</td>\n",
       "      <td>0</td>\n",
       "    </tr>\n",
       "    <tr>\n",
       "      <th>1</th>\n",
       "      <td>a</td>\n",
       "      <td>a</td>\n",
       "      <td>N</td>\n",
       "      <td>14720</td>\n",
       "      <td>33</td>\n",
       "      <td>-70</td>\n",
       "      <td>-79</td>\n",
       "      <td>a</td>\n",
       "      <td>1</td>\n",
       "      <td>0</td>\n",
       "      <td>1</td>\n",
       "      <td>0</td>\n",
       "      <td>0</td>\n",
       "      <td>0</td>\n",
       "      <td>0</td>\n",
       "      <td>0</td>\n",
       "      <td>2000</td>\n",
       "      <td>2000</td>\n",
       "      <td>0</td>\n",
       "    </tr>\n",
       "    <tr>\n",
       "      <th>2</th>\n",
       "      <td>a</td>\n",
       "      <td>a</td>\n",
       "      <td>N</td>\n",
       "      <td>8050</td>\n",
       "      <td>30</td>\n",
       "      <td>-81</td>\n",
       "      <td>-78</td>\n",
       "      <td>a</td>\n",
       "      <td>0</td>\n",
       "      <td>0</td>\n",
       "      <td>0</td>\n",
       "      <td>0</td>\n",
       "      <td>0</td>\n",
       "      <td>0</td>\n",
       "      <td>0</td>\n",
       "      <td>0</td>\n",
       "      <td>0</td>\n",
       "      <td>0</td>\n",
       "      <td>0</td>\n",
       "    </tr>\n",
       "    <tr>\n",
       "      <th>3</th>\n",
       "      <td>a</td>\n",
       "      <td>a</td>\n",
       "      <td>N</td>\n",
       "      <td>28820</td>\n",
       "      <td>171</td>\n",
       "      <td>-23</td>\n",
       "      <td>40</td>\n",
       "      <td>a</td>\n",
       "      <td>1</td>\n",
       "      <td>0</td>\n",
       "      <td>1</td>\n",
       "      <td>0</td>\n",
       "      <td>0</td>\n",
       "      <td>0</td>\n",
       "      <td>0</td>\n",
       "      <td>0</td>\n",
       "      <td>3000</td>\n",
       "      <td>3000</td>\n",
       "      <td>0</td>\n",
       "    </tr>\n",
       "    <tr>\n",
       "      <th>4</th>\n",
       "      <td>a</td>\n",
       "      <td>a</td>\n",
       "      <td>N</td>\n",
       "      <td>12640</td>\n",
       "      <td>57</td>\n",
       "      <td>-63</td>\n",
       "      <td>-52</td>\n",
       "      <td>a</td>\n",
       "      <td>0</td>\n",
       "      <td>0</td>\n",
       "      <td>0</td>\n",
       "      <td>0</td>\n",
       "      <td>0</td>\n",
       "      <td>0</td>\n",
       "      <td>0</td>\n",
       "      <td>0</td>\n",
       "      <td>0</td>\n",
       "      <td>0</td>\n",
       "      <td>0</td>\n",
       "    </tr>\n",
       "  </tbody>\n",
       "</table>\n",
       "</div>"
      ],
      "text/plain": [
       "  seismic seismoacoustic shift  genergy  gpuls  gdenergy  gdpuls hazard  \\\n",
       "0       a              a     N    15180     48       -72     -72      a   \n",
       "1       a              a     N    14720     33       -70     -79      a   \n",
       "2       a              a     N     8050     30       -81     -78      a   \n",
       "3       a              a     N    28820    171       -23      40      a   \n",
       "4       a              a     N    12640     57       -63     -52      a   \n",
       "\n",
       "   nbumps  nbumps2  nbumps3  nbumps4  nbumps5  nbumps6  nbumps7  nbumps89  \\\n",
       "0       0        0        0        0        0        0        0         0   \n",
       "1       1        0        1        0        0        0        0         0   \n",
       "2       0        0        0        0        0        0        0         0   \n",
       "3       1        0        1        0        0        0        0         0   \n",
       "4       0        0        0        0        0        0        0         0   \n",
       "\n",
       "   energy  maxenergy  class  \n",
       "0       0          0      0  \n",
       "1    2000       2000      0  \n",
       "2       0          0      0  \n",
       "3    3000       3000      0  \n",
       "4       0          0      0  "
      ]
     },
     "execution_count": 3,
     "metadata": {},
     "output_type": "execute_result"
    }
   ],
   "source": [
    "df.head()"
   ]
  },
  {
   "cell_type": "markdown",
   "id": "e741ffb0",
   "metadata": {},
   "source": [
    "## Feature preprocessing (light)"
   ]
  },
  {
   "cell_type": "code",
   "execution_count": 4,
   "id": "5e0c3e4b",
   "metadata": {},
   "outputs": [],
   "source": [
    "#missing values\n",
    "df['Embarked'] = df['Embarked'].fillna(df['Embarked'].mode()[0])\n",
    "df['Age'] = df['Age'].groupby([df['Sex'], df['Pclass']]).apply(lambda x: x.fillna(x.median()))\n",
    "\n",
    "#remove useless variables from the dataset\n",
    "column2drop = ['seismoacoustic', 'gdenergy', 'gdpuls', 'hazard','nbumps2', 'nbumps3', 'nbumps4', 'nbumps5', 'nbumps6', 'nbumps7', 'nbumps89', 'energy', 'maxenergy']\n",
    "df.drop(column2drop, axis=1, inplace=True)"
   ]
  },
  {
   "cell_type": "code",
   "execution_count": 5,
   "id": "265ed998",
   "metadata": {},
   "outputs": [
    {
     "data": {
      "text/html": [
       "<div>\n",
       "<style scoped>\n",
       "    .dataframe tbody tr th:only-of-type {\n",
       "        vertical-align: middle;\n",
       "    }\n",
       "\n",
       "    .dataframe tbody tr th {\n",
       "        vertical-align: top;\n",
       "    }\n",
       "\n",
       "    .dataframe thead th {\n",
       "        text-align: right;\n",
       "    }\n",
       "</style>\n",
       "<table border=\"1\" class=\"dataframe\">\n",
       "  <thead>\n",
       "    <tr style=\"text-align: right;\">\n",
       "      <th></th>\n",
       "      <th>Survived</th>\n",
       "      <th>Pclass</th>\n",
       "      <th>Sex</th>\n",
       "      <th>Age</th>\n",
       "      <th>Fare</th>\n",
       "      <th>Embarked</th>\n",
       "    </tr>\n",
       "  </thead>\n",
       "  <tbody>\n",
       "    <tr>\n",
       "      <th>0</th>\n",
       "      <td>0</td>\n",
       "      <td>3</td>\n",
       "      <td>male</td>\n",
       "      <td>22.0</td>\n",
       "      <td>7.2500</td>\n",
       "      <td>S</td>\n",
       "    </tr>\n",
       "    <tr>\n",
       "      <th>1</th>\n",
       "      <td>1</td>\n",
       "      <td>1</td>\n",
       "      <td>female</td>\n",
       "      <td>38.0</td>\n",
       "      <td>71.2833</td>\n",
       "      <td>C</td>\n",
       "    </tr>\n",
       "    <tr>\n",
       "      <th>2</th>\n",
       "      <td>1</td>\n",
       "      <td>3</td>\n",
       "      <td>female</td>\n",
       "      <td>26.0</td>\n",
       "      <td>7.9250</td>\n",
       "      <td>S</td>\n",
       "    </tr>\n",
       "    <tr>\n",
       "      <th>3</th>\n",
       "      <td>1</td>\n",
       "      <td>1</td>\n",
       "      <td>female</td>\n",
       "      <td>35.0</td>\n",
       "      <td>53.1000</td>\n",
       "      <td>S</td>\n",
       "    </tr>\n",
       "    <tr>\n",
       "      <th>4</th>\n",
       "      <td>0</td>\n",
       "      <td>3</td>\n",
       "      <td>male</td>\n",
       "      <td>35.0</td>\n",
       "      <td>8.0500</td>\n",
       "      <td>S</td>\n",
       "    </tr>\n",
       "  </tbody>\n",
       "</table>\n",
       "</div>"
      ],
      "text/plain": [
       "   Survived  Pclass     Sex   Age     Fare Embarked\n",
       "0         0       3    male  22.0   7.2500        S\n",
       "1         1       1  female  38.0  71.2833        C\n",
       "2         1       3  female  26.0   7.9250        S\n",
       "3         1       1  female  35.0  53.1000        S\n",
       "4         0       3    male  35.0   8.0500        S"
      ]
     },
     "execution_count": 5,
     "metadata": {},
     "output_type": "execute_result"
    }
   ],
   "source": [
    "df.head()"
   ]
  },
  {
   "cell_type": "markdown",
   "id": "0094a39e",
   "metadata": {},
   "source": [
    "## Pattern mining preprocessing"
   ]
  },
  {
   "cell_type": "code",
   "execution_count": 6,
   "id": "b8035880",
   "metadata": {},
   "outputs": [],
   "source": [
    "#df['AgeBin'] = pd.cut(df['Age'], 4)\n",
    "df['AgeBin'] = pd.qcut(df['Age'], 4)\n",
    "df['FareBin'] = pd.qcut(df['Fare'], 4)\n",
    "\n",
    "df.drop(['Age', 'Fare'], axis=1, inplace=True)"
   ]
  },
  {
   "cell_type": "code",
   "execution_count": 7,
   "id": "b1429a30",
   "metadata": {},
   "outputs": [
    {
     "data": {
      "text/html": [
       "<div>\n",
       "<style scoped>\n",
       "    .dataframe tbody tr th:only-of-type {\n",
       "        vertical-align: middle;\n",
       "    }\n",
       "\n",
       "    .dataframe tbody tr th {\n",
       "        vertical-align: top;\n",
       "    }\n",
       "\n",
       "    .dataframe thead th {\n",
       "        text-align: right;\n",
       "    }\n",
       "</style>\n",
       "<table border=\"1\" class=\"dataframe\">\n",
       "  <thead>\n",
       "    <tr style=\"text-align: right;\">\n",
       "      <th></th>\n",
       "      <th>Survived</th>\n",
       "      <th>Pclass</th>\n",
       "      <th>Sex</th>\n",
       "      <th>Embarked</th>\n",
       "      <th>AgeBin</th>\n",
       "      <th>FareBin</th>\n",
       "    </tr>\n",
       "  </thead>\n",
       "  <tbody>\n",
       "    <tr>\n",
       "      <th>0</th>\n",
       "      <td>0</td>\n",
       "      <td>3</td>\n",
       "      <td>male</td>\n",
       "      <td>S</td>\n",
       "      <td>(21.5, 26.0]</td>\n",
       "      <td>(-0.001, 7.91]</td>\n",
       "    </tr>\n",
       "    <tr>\n",
       "      <th>1</th>\n",
       "      <td>1</td>\n",
       "      <td>1</td>\n",
       "      <td>female</td>\n",
       "      <td>C</td>\n",
       "      <td>(36.0, 80.0]</td>\n",
       "      <td>(31.0, 512.329]</td>\n",
       "    </tr>\n",
       "    <tr>\n",
       "      <th>2</th>\n",
       "      <td>1</td>\n",
       "      <td>3</td>\n",
       "      <td>female</td>\n",
       "      <td>S</td>\n",
       "      <td>(21.5, 26.0]</td>\n",
       "      <td>(7.91, 14.454]</td>\n",
       "    </tr>\n",
       "    <tr>\n",
       "      <th>3</th>\n",
       "      <td>1</td>\n",
       "      <td>1</td>\n",
       "      <td>female</td>\n",
       "      <td>S</td>\n",
       "      <td>(26.0, 36.0]</td>\n",
       "      <td>(31.0, 512.329]</td>\n",
       "    </tr>\n",
       "    <tr>\n",
       "      <th>4</th>\n",
       "      <td>0</td>\n",
       "      <td>3</td>\n",
       "      <td>male</td>\n",
       "      <td>S</td>\n",
       "      <td>(26.0, 36.0]</td>\n",
       "      <td>(7.91, 14.454]</td>\n",
       "    </tr>\n",
       "  </tbody>\n",
       "</table>\n",
       "</div>"
      ],
      "text/plain": [
       "   Survived  Pclass     Sex Embarked        AgeBin          FareBin\n",
       "0         0       3    male        S  (21.5, 26.0]   (-0.001, 7.91]\n",
       "1         1       1  female        C  (36.0, 80.0]  (31.0, 512.329]\n",
       "2         1       3  female        S  (21.5, 26.0]   (7.91, 14.454]\n",
       "3         1       1  female        S  (26.0, 36.0]  (31.0, 512.329]\n",
       "4         0       3    male        S  (26.0, 36.0]   (7.91, 14.454]"
      ]
     },
     "execution_count": 7,
     "metadata": {},
     "output_type": "execute_result"
    }
   ],
   "source": [
    "df.head()"
   ]
  },
  {
   "cell_type": "code",
   "execution_count": 8,
   "id": "d8a2b02c",
   "metadata": {},
   "outputs": [],
   "source": [
    "df['AgeBin'] = df['AgeBin'].astype(str) + '_Age'\n",
    "df['FareBin'] = df['FareBin'].astype(str) + '_Fare'"
   ]
  },
  {
   "cell_type": "code",
   "execution_count": 9,
   "id": "3603ae1d",
   "metadata": {},
   "outputs": [
    {
     "data": {
      "text/html": [
       "<div>\n",
       "<style scoped>\n",
       "    .dataframe tbody tr th:only-of-type {\n",
       "        vertical-align: middle;\n",
       "    }\n",
       "\n",
       "    .dataframe tbody tr th {\n",
       "        vertical-align: top;\n",
       "    }\n",
       "\n",
       "    .dataframe thead th {\n",
       "        text-align: right;\n",
       "    }\n",
       "</style>\n",
       "<table border=\"1\" class=\"dataframe\">\n",
       "  <thead>\n",
       "    <tr style=\"text-align: right;\">\n",
       "      <th></th>\n",
       "      <th>Survived</th>\n",
       "      <th>Pclass</th>\n",
       "      <th>Sex</th>\n",
       "      <th>Embarked</th>\n",
       "      <th>AgeBin</th>\n",
       "      <th>FareBin</th>\n",
       "    </tr>\n",
       "  </thead>\n",
       "  <tbody>\n",
       "    <tr>\n",
       "      <th>0</th>\n",
       "      <td>0</td>\n",
       "      <td>3</td>\n",
       "      <td>male</td>\n",
       "      <td>S</td>\n",
       "      <td>(21.5, 26.0]_Age</td>\n",
       "      <td>(-0.001, 7.91]_Fare</td>\n",
       "    </tr>\n",
       "    <tr>\n",
       "      <th>1</th>\n",
       "      <td>1</td>\n",
       "      <td>1</td>\n",
       "      <td>female</td>\n",
       "      <td>C</td>\n",
       "      <td>(36.0, 80.0]_Age</td>\n",
       "      <td>(31.0, 512.329]_Fare</td>\n",
       "    </tr>\n",
       "    <tr>\n",
       "      <th>2</th>\n",
       "      <td>1</td>\n",
       "      <td>3</td>\n",
       "      <td>female</td>\n",
       "      <td>S</td>\n",
       "      <td>(21.5, 26.0]_Age</td>\n",
       "      <td>(7.91, 14.454]_Fare</td>\n",
       "    </tr>\n",
       "    <tr>\n",
       "      <th>3</th>\n",
       "      <td>1</td>\n",
       "      <td>1</td>\n",
       "      <td>female</td>\n",
       "      <td>S</td>\n",
       "      <td>(26.0, 36.0]_Age</td>\n",
       "      <td>(31.0, 512.329]_Fare</td>\n",
       "    </tr>\n",
       "    <tr>\n",
       "      <th>4</th>\n",
       "      <td>0</td>\n",
       "      <td>3</td>\n",
       "      <td>male</td>\n",
       "      <td>S</td>\n",
       "      <td>(26.0, 36.0]_Age</td>\n",
       "      <td>(7.91, 14.454]_Fare</td>\n",
       "    </tr>\n",
       "  </tbody>\n",
       "</table>\n",
       "</div>"
      ],
      "text/plain": [
       "   Survived  Pclass     Sex Embarked            AgeBin               FareBin\n",
       "0         0       3    male        S  (21.5, 26.0]_Age   (-0.001, 7.91]_Fare\n",
       "1         1       1  female        C  (36.0, 80.0]_Age  (31.0, 512.329]_Fare\n",
       "2         1       3  female        S  (21.5, 26.0]_Age   (7.91, 14.454]_Fare\n",
       "3         1       1  female        S  (26.0, 36.0]_Age  (31.0, 512.329]_Fare\n",
       "4         0       3    male        S  (26.0, 36.0]_Age   (7.91, 14.454]_Fare"
      ]
     },
     "execution_count": 9,
     "metadata": {},
     "output_type": "execute_result"
    }
   ],
   "source": [
    "df.head()"
   ]
  },
  {
   "cell_type": "code",
   "execution_count": 10,
   "id": "bc2511b3",
   "metadata": {},
   "outputs": [],
   "source": [
    "surv_dict = {0: 'Not Survived', 1: 'Survived'}\n",
    "df['Survived'] = df['Survived'].map(surv_dict)\n",
    "\n",
    "pclass_dict = {1: '1st', 2: '2nd', 3: '3rd'}\n",
    "df['Pclass'] = df['Pclass'].map(pclass_dict)"
   ]
  },
  {
   "cell_type": "code",
   "execution_count": 11,
   "id": "09ecc4a3",
   "metadata": {},
   "outputs": [
    {
     "data": {
      "text/html": [
       "<div>\n",
       "<style scoped>\n",
       "    .dataframe tbody tr th:only-of-type {\n",
       "        vertical-align: middle;\n",
       "    }\n",
       "\n",
       "    .dataframe tbody tr th {\n",
       "        vertical-align: top;\n",
       "    }\n",
       "\n",
       "    .dataframe thead th {\n",
       "        text-align: right;\n",
       "    }\n",
       "</style>\n",
       "<table border=\"1\" class=\"dataframe\">\n",
       "  <thead>\n",
       "    <tr style=\"text-align: right;\">\n",
       "      <th></th>\n",
       "      <th>Survived</th>\n",
       "      <th>Pclass</th>\n",
       "      <th>Sex</th>\n",
       "      <th>Embarked</th>\n",
       "      <th>AgeBin</th>\n",
       "      <th>FareBin</th>\n",
       "    </tr>\n",
       "  </thead>\n",
       "  <tbody>\n",
       "    <tr>\n",
       "      <th>0</th>\n",
       "      <td>Not Survived</td>\n",
       "      <td>3rd</td>\n",
       "      <td>male</td>\n",
       "      <td>S</td>\n",
       "      <td>(21.5, 26.0]_Age</td>\n",
       "      <td>(-0.001, 7.91]_Fare</td>\n",
       "    </tr>\n",
       "    <tr>\n",
       "      <th>1</th>\n",
       "      <td>Survived</td>\n",
       "      <td>1st</td>\n",
       "      <td>female</td>\n",
       "      <td>C</td>\n",
       "      <td>(36.0, 80.0]_Age</td>\n",
       "      <td>(31.0, 512.329]_Fare</td>\n",
       "    </tr>\n",
       "    <tr>\n",
       "      <th>2</th>\n",
       "      <td>Survived</td>\n",
       "      <td>3rd</td>\n",
       "      <td>female</td>\n",
       "      <td>S</td>\n",
       "      <td>(21.5, 26.0]_Age</td>\n",
       "      <td>(7.91, 14.454]_Fare</td>\n",
       "    </tr>\n",
       "    <tr>\n",
       "      <th>3</th>\n",
       "      <td>Survived</td>\n",
       "      <td>1st</td>\n",
       "      <td>female</td>\n",
       "      <td>S</td>\n",
       "      <td>(26.0, 36.0]_Age</td>\n",
       "      <td>(31.0, 512.329]_Fare</td>\n",
       "    </tr>\n",
       "    <tr>\n",
       "      <th>4</th>\n",
       "      <td>Not Survived</td>\n",
       "      <td>3rd</td>\n",
       "      <td>male</td>\n",
       "      <td>S</td>\n",
       "      <td>(26.0, 36.0]_Age</td>\n",
       "      <td>(7.91, 14.454]_Fare</td>\n",
       "    </tr>\n",
       "  </tbody>\n",
       "</table>\n",
       "</div>"
      ],
      "text/plain": [
       "       Survived Pclass     Sex Embarked            AgeBin  \\\n",
       "0  Not Survived    3rd    male        S  (21.5, 26.0]_Age   \n",
       "1      Survived    1st  female        C  (36.0, 80.0]_Age   \n",
       "2      Survived    3rd  female        S  (21.5, 26.0]_Age   \n",
       "3      Survived    1st  female        S  (26.0, 36.0]_Age   \n",
       "4  Not Survived    3rd    male        S  (26.0, 36.0]_Age   \n",
       "\n",
       "                FareBin  \n",
       "0   (-0.001, 7.91]_Fare  \n",
       "1  (31.0, 512.329]_Fare  \n",
       "2   (7.91, 14.454]_Fare  \n",
       "3  (31.0, 512.329]_Fare  \n",
       "4   (7.91, 14.454]_Fare  "
      ]
     },
     "execution_count": 11,
     "metadata": {},
     "output_type": "execute_result"
    }
   ],
   "source": [
    "df.head()"
   ]
  },
  {
   "cell_type": "code",
   "execution_count": 12,
   "id": "bb5a528d",
   "metadata": {},
   "outputs": [],
   "source": [
    "X = df.values.tolist()"
   ]
  },
  {
   "cell_type": "code",
   "execution_count": 13,
   "id": "3deb352f",
   "metadata": {},
   "outputs": [
    {
     "data": {
      "text/plain": [
       "['Not Survived', '3rd', 'male', 'S', '(21.5, 26.0]_Age', '(-0.001, 7.91]_Fare']"
      ]
     },
     "execution_count": 13,
     "metadata": {},
     "output_type": "execute_result"
    }
   ],
   "source": [
    "X[0]"
   ]
  },
  {
   "cell_type": "code",
   "execution_count": 14,
   "id": "ff56abf4",
   "metadata": {},
   "outputs": [],
   "source": [
    "# !pip install pyfim\n",
    "from fim import apriori"
   ]
  },
  {
   "cell_type": "code",
   "execution_count": 15,
   "id": "0122bd50",
   "metadata": {},
   "outputs": [
    {
     "name": "stdout",
     "output_type": "stream",
     "text": [
      "Help on built-in function apriori in module fim:\n",
      "\n",
      "apriori(...)\n",
      "    apriori (tracts, target='s', supp=10, zmin=1, zmax=None, report='a',\n",
      "             eval='x', agg='x', thresh=10, prune=None, algo='b', mode='',\n",
      "             border=None)\n",
      "    Find frequent item sets with the Apriori algorithm.\n",
      "    tracts  transaction database to mine (mandatory)\n",
      "            The database must be an iterable of transactions;\n",
      "            each transaction must be an iterable of items;\n",
      "            each item must be a hashable object.\n",
      "            If the database is a dictionary, the transactions are\n",
      "            the keys, the values their (integer) multiplicities.\n",
      "    target  type of frequent item sets to find     (default: s)\n",
      "            s/a   sets/all   all     frequent item sets\n",
      "            c     closed     closed  frequent item sets\n",
      "            m     maximal    maximal frequent item sets\n",
      "            g     gens       generators\n",
      "            r     rules      association rules\n",
      "    supp    minimum support of an item set         (default: 10)\n",
      "            (positive: percentage, negative: absolute number)\n",
      "    conf    minimum confidence of an assoc. rule   (default: 80%)\n",
      "    zmin    minimum number of items per item set   (default: 1)\n",
      "    zmax    maximum number of items per item set   (default: no limit)\n",
      "    report  values to report with an item set      (default: a)\n",
      "            a     absolute item set support (number of transactions)\n",
      "            s     relative item set support as a fraction\n",
      "            S     relative item set support as a percentage\n",
      "            e     value of item set evaluation measure\n",
      "            E     value of item set evaluation measure as a percentage\n",
      "            (     combine values in a tuple (must be first character)\n",
      "            [     combine values in a list  (must be first character)\n",
      "            #     pattern spectrum as a dictionary  (no patterns)\n",
      "            =     pattern spectrum as a list        (no patterns)\n",
      "            |     pattern spectrum as three columns (no patterns)\n",
      "            for target 'r' (association rules) also available:\n",
      "            b     absolute body set  support (number of transactions)\n",
      "            x     relative body set  support as a fraction\n",
      "            X     relative body set  support as a percentage\n",
      "            h     absolute head item support (number of transactions)\n",
      "            y     relative head item support as a fraction\n",
      "            Y     relative head item support as a percentage\n",
      "            c     rule confidence as a fraction\n",
      "            C     rule confidence as a percentage\n",
      "            l     lift value of a rule (confidence/prior)\n",
      "            L     lift value of a rule as a percentage\n",
      "            Q     support of the empty set (total number of transactions)\n",
      "    eval    measure for item set evaluation        (default: x)\n",
      "            x     none       no measure / zero (default)\n",
      "            b     ldratio    binary logarithm of support quotient       (+)\n",
      "            c     conf       rule confidence                            (+)\n",
      "            d     confdiff   absolute confidence difference to prior    (+)\n",
      "            l     lift       lift value (confidence divided by prior)   (+)\n",
      "            a     liftdiff   absolute difference of lift value to 1     (+)\n",
      "            q     liftquot   difference of lift quotient to 1           (+)\n",
      "            v     cvct       conviction (inverse lift for negated head) (+)\n",
      "            e     cvctdiff   absolute difference of conviction to 1     (+)\n",
      "            r     cvctquot   difference of conviction quotient to 1     (+)\n",
      "            k     cprob      conditional probability ratio              (+)\n",
      "            j     import     importance (binary log. of prob. ratio)    (+)\n",
      "            z     cert       certainty factor (relative conf. change)   (+)\n",
      "            n     chi2       normalized chi^2 measure                   (+)\n",
      "            p     chi2pval   p-value from (unnormalized) chi^2 measure  (-)\n",
      "            y     yates      normalized chi^2 with Yates' correction    (+)\n",
      "            t     yatespval  p-value from Yates-corrected chi^2 measure (-)\n",
      "            i     info       information difference to prior            (+)\n",
      "            g     infopval   p-value from G statistic/info. difference  (-)\n",
      "            f     fetprob    Fisher's exact test (table probability)    (-)\n",
      "            h     fetchi2    Fisher's exact test (chi^2 measure)        (-)\n",
      "            m     fetinfo    Fisher's exact test (mutual information)   (-)\n",
      "            s     fetsupp    Fisher's exact test (support)              (-)\n",
      "            Measures marked with (+) must meet or exceed the threshold,\n",
      "            measures marked with (-) must not exceed the threshold\n",
      "            in order for the item set to be reported.\n",
      "    agg     evaluation measure aggregation mode    (default: x)\n",
      "            x     none       no aggregation (use first value)\n",
      "            m     min        minimum of individual measure values\n",
      "            n     max        maximum of individual measure values\n",
      "            a     avg        average of individual measure values\n",
      "    thresh  threshold for evaluation measure       (default: 10%)\n",
      "    prune   min. size for evaluation filtering     (default: no pruning)\n",
      "            = 0   backward filtering       (no subset check)\n",
      "            < 0   weak   forward filtering (one subset  must qualify)\n",
      "            > 0   strong forward filtering (all subsets must qualify)\n",
      "    algo    algorithm variant to use               (default: a)\n",
      "            b     basic      standard algorithm (only choice)\n",
      "    mode    operation mode indicators/flags        (default: None)\n",
      "            x     do not use perfect extension pruning\n",
      "            t/T   do not organize transactions as a prefix tree\n",
      "            y     a-posteriori pruning of infrequent item sets\n",
      "            z     invalidate evaluation below expected support\n",
      "            o     use original rule support definition (body & head)\n",
      "    border  support border for filtering item sets (default: None)\n",
      "            Must be a list or tuple of (absolute) minimum support values\n",
      "            per item set size (by which the list/tuple is indexed).\n",
      "    appear  dictionary mapping items to item appearance indicators,\n",
      "            with the key None referring to the default item appearance.\n",
      "            (If None does not occur as a key or no dictionary is given,\n",
      "            the default item appearance indicator is 'both'.)\n",
      "            This parameter is only used if the target type is rules.\n",
      "            * item may not appear anywhere in a rule:\n",
      "              '-', 'n', 'none', 'neither', 'ignore'\n",
      "            * item may appear only in rule body/antecedent:\n",
      "              'i', 'in', 'inp', 'input', 'b', 'body',\n",
      "              'a', 'ante', 'antecedent'\n",
      "            * item may appear only in rule head/consequent:\n",
      "              'o', 'out',      'output', 'h', 'head',\n",
      "              'c', 'cons', 'consequent'\n",
      "            * item may appear anywhere in a rule:\n",
      "              'io', 'i&o', 'inout', 'in&out', 'bh', 'b&h', 'both'\n",
      "    returns if report is not in ['#','=','|']:\n",
      "              if the target is association rules:\n",
      "                a list of rules (i.e. tuples with two or more elements),\n",
      "                each consisting of a head/consequent item, a tuple with\n",
      "                a body/antecedent item set, and the values selected by\n",
      "                the parameter 'report', which may be combined into a\n",
      "                tuple or a list if report[0] is '(' or '[', respectively.\n",
      "              if the target is a type of item sets:\n",
      "                a list of patterns (i.e. tuples with one or more elements),\n",
      "                each consisting of a tuple with a found frequent item set\n",
      "                and the values selected by the parameter 'report', which\n",
      "                may be combined into a tuple or list if report[0] is '('\n",
      "                or '[', respectively\n",
      "            if report in ['#','=','|']:\n",
      "              a pattern spectrum as a dictionary mapping pattern sizes\n",
      "              to the corresponding occurrence support ranges, as a list\n",
      "              of triplets (size, min. support, max. support) or as three\n",
      "              columns for sizes and minimum and maximum support values\n",
      "\n"
     ]
    }
   ],
   "source": [
    "help(apriori)"
   ]
  },
  {
   "cell_type": "code",
   "execution_count": 16,
   "id": "cc120469",
   "metadata": {},
   "outputs": [],
   "source": [
    "#supp=2 ; 0.02\n",
    "#supp=20 ; 0.2\n",
    "\n",
    "itemsets = apriori(X, target='s', supp=2, zmin=3, report='S')"
   ]
  },
  {
   "cell_type": "code",
   "execution_count": 17,
   "id": "91c6ebfa",
   "metadata": {},
   "outputs": [
    {
     "data": {
      "text/plain": [
       "[(('Q', '(21.5, 26.0]_Age', '3rd'), 3.0303030303030303),\n",
       " (('Q', '(21.5, 26.0]_Age', '(-0.001, 7.91]_Fare', '3rd'), 2.244668911335578),\n",
       " (('Q', '(21.5, 26.0]_Age', '(-0.001, 7.91]_Fare'), 2.244668911335578),\n",
       " (('Q',\n",
       "   '(21.5, 26.0]_Age',\n",
       "   '(-0.001, 7.91]_Fare',\n",
       "   'Not Survived',\n",
       "   '3rd',\n",
       "   'male'),\n",
       "  2.0202020202020203),\n",
       " (('Q', '(21.5, 26.0]_Age', '(-0.001, 7.91]_Fare', 'Not Survived', '3rd'),\n",
       "  2.0202020202020203)]"
      ]
     },
     "execution_count": 17,
     "metadata": {},
     "output_type": "execute_result"
    }
   ],
   "source": [
    "itemsets[:5]"
   ]
  },
  {
   "cell_type": "code",
   "execution_count": 18,
   "id": "27ea8fb6",
   "metadata": {},
   "outputs": [
    {
     "data": {
      "text/plain": [
       "('Q', '(21.5, 26.0]_Age', '3rd')"
      ]
     },
     "execution_count": 18,
     "metadata": {},
     "output_type": "execute_result"
    }
   ],
   "source": [
    "# frequent itemset\n",
    "itemsets[0][0]"
   ]
  },
  {
   "cell_type": "code",
   "execution_count": 19,
   "id": "187e0083",
   "metadata": {},
   "outputs": [
    {
     "data": {
      "text/plain": [
       "3.0303030303030303"
      ]
     },
     "execution_count": 19,
     "metadata": {},
     "output_type": "execute_result"
    }
   ],
   "source": [
    "# support\n",
    "itemsets[0][1]"
   ]
  },
  {
   "cell_type": "code",
   "execution_count": 20,
   "id": "355d068e",
   "metadata": {},
   "outputs": [],
   "source": [
    "itemsets = apriori(X, target='m', supp=2, zmin=3, report='S')"
   ]
  },
  {
   "cell_type": "code",
   "execution_count": 21,
   "id": "cc2c0ebc",
   "metadata": {},
   "outputs": [
    {
     "data": {
      "text/plain": [
       "[(('Q',\n",
       "   '(21.5, 26.0]_Age',\n",
       "   '(-0.001, 7.91]_Fare',\n",
       "   '3rd',\n",
       "   'Not Survived',\n",
       "   'male'),\n",
       "  2.0202020202020203),\n",
       " (('Q', '(14.454, 31.0]_Fare', '3rd'), 2.0202020202020203),\n",
       " (('Q', '(-0.001, 7.91]_Fare', '(0.419, 21.5]_Age', 'female', '3rd'),\n",
       "  2.4691358024691357),\n",
       " (('Q', '(-0.001, 7.91]_Fare', 'female', 'Survived', '3rd'),\n",
       "  2.0202020202020203),\n",
       " (('Q', '(0.419, 21.5]_Age', 'female', 'Survived', '3rd'), 2.581369248035915)]"
      ]
     },
     "execution_count": 21,
     "metadata": {},
     "output_type": "execute_result"
    }
   ],
   "source": [
    "itemsets[:5]"
   ]
  },
  {
   "cell_type": "code",
   "execution_count": 22,
   "id": "5325f9a3",
   "metadata": {},
   "outputs": [
    {
     "data": {
      "text/plain": [
       "('Q', '(21.5, 26.0]_Age', '(-0.001, 7.91]_Fare', '3rd', 'Not Survived', 'male')"
      ]
     },
     "execution_count": 22,
     "metadata": {},
     "output_type": "execute_result"
    }
   ],
   "source": [
    "itemsets[0][0]"
   ]
  },
  {
   "cell_type": "code",
   "execution_count": 23,
   "id": "c80a4d6b",
   "metadata": {},
   "outputs": [
    {
     "data": {
      "image/png": "[encoded data removed]",
      "text/plain": [
       "<Figure size 432x288 with 1 Axes>"
      ]
     },
     "metadata": {
      "needs_background": "light"
     },
     "output_type": "display_data"
    }
   ],
   "source": [
    "len_max_it = []\n",
    "len_cl_it = []\n",
    "for i in range(2, 20+1):\n",
    "    max_itemsets = apriori(X, target='m', supp=i, zmin=3)\n",
    "    cl_itemsets = apriori(X, target='c', supp=i, zmin=3)\n",
    "    len_max_it.append( len(max_itemsets)  )\n",
    "    len_cl_it.append( len(cl_itemsets) )\n",
    "    \n",
    "plt.plot(len_max_it, label='maximal')\n",
    "plt.plot(len_cl_it, label='closed')\n",
    "plt.legend(fontsize=20)\n",
    "plt.xticks(fontsize=20)\n",
    "plt.xlabel('%support', fontsize=15)\n",
    "\n",
    "plt.show()"
   ]
  },
  {
   "cell_type": "code",
   "execution_count": 24,
   "id": "b36eedd6",
   "metadata": {},
   "outputs": [
    {
     "data": {
      "image/png": "[encoded data removed]",
      "text/plain": [
       "<Figure size 432x288 with 1 Axes>"
      ]
     },
     "metadata": {
      "needs_background": "light"
     },
     "output_type": "display_data"
    }
   ],
   "source": [
    "filter_1 = []\n",
    "filter_2 = []\n",
    "for i in range(2, 20+1):\n",
    "    max_itemsets = apriori(X, target='m', supp=i, zmin=3)\n",
    "    \n",
    "    filter_1.append( len([item for item in max_itemsets if 'Survived' in item[0]])  )\n",
    "    filter_2.append( len([item for item in max_itemsets if 'Not Survived' in item[0]]) )\n",
    "    \n",
    "plt.plot(filter_1, label='w/ Survived')\n",
    "plt.plot(filter_2, label='w/ Not Survived')\n",
    "plt.legend(fontsize=20)\n",
    "plt.xticks(fontsize=20)\n",
    "plt.xlabel('%support', fontsize=15)\n",
    "\n",
    "plt.show()"
   ]
  },
  {
   "cell_type": "code",
   "execution_count": 25,
   "id": "434c11dd",
   "metadata": {},
   "outputs": [],
   "source": [
    "rules = apriori(X, target='r', supp=10, zmin=3, conf=60, report='aScl')"
   ]
  },
  {
   "cell_type": "code",
   "execution_count": 26,
   "id": "c8412b01",
   "metadata": {},
   "outputs": [
    {
     "data": {
      "text/plain": [
       "[('1st',\n",
       "  ('C', 'Survived'),\n",
       "  59,\n",
       "  6.621773288439956,\n",
       "  0.6344086021505376,\n",
       "  2.6169354838709675),\n",
       " ('female',\n",
       "  ('C', 'Survived'),\n",
       "  64,\n",
       "  7.182940516273851,\n",
       "  0.6881720430107527,\n",
       "  1.9527429628107664),\n",
       " ('Not Survived',\n",
       "  ('C', 'male'),\n",
       "  66,\n",
       "  7.4074074074074066,\n",
       "  0.6947368421052632,\n",
       "  1.127523727351165),\n",
       " ('S',\n",
       "  ('2nd', 'Not Survived', 'male'),\n",
       "  82,\n",
       "  9.20314253647587,\n",
       "  0.9010989010989011,\n",
       "  1.2428469363453885),\n",
       " ('Not Survived',\n",
       "  ('2nd', 'male', 'S'),\n",
       "  82,\n",
       "  9.20314253647587,\n",
       "  0.845360824742268,\n",
       "  1.3719790434341728)]"
      ]
     },
     "execution_count": 26,
     "metadata": {},
     "output_type": "execute_result"
    }
   ],
   "source": [
    "rules[:5]"
   ]
  },
  {
   "cell_type": "code",
   "execution_count": 27,
   "id": "f5129968",
   "metadata": {},
   "outputs": [
    {
     "data": {
      "text/plain": [
       "('1st', ('C', 'Survived'))"
      ]
     },
     "execution_count": 27,
     "metadata": {},
     "output_type": "execute_result"
    }
   ],
   "source": [
    "# <--\n",
    "rules[0][0], rules[0][1]"
   ]
  },
  {
   "cell_type": "code",
   "execution_count": 28,
   "id": "d39753a2",
   "metadata": {},
   "outputs": [
    {
     "data": {
      "text/plain": [
       "59"
      ]
     },
     "execution_count": 28,
     "metadata": {},
     "output_type": "execute_result"
    }
   ],
   "source": [
    "# asbolute support\n",
    "rules[0][2]"
   ]
  },
  {
   "cell_type": "code",
   "execution_count": 29,
   "id": "827e3808",
   "metadata": {},
   "outputs": [
    {
     "data": {
      "text/plain": [
       "6.621773288439956"
      ]
     },
     "execution_count": 29,
     "metadata": {},
     "output_type": "execute_result"
    }
   ],
   "source": [
    "# support as percentage\n",
    "rules[0][3]"
   ]
  },
  {
   "cell_type": "code",
   "execution_count": 30,
   "id": "57d5a001",
   "metadata": {},
   "outputs": [
    {
     "data": {
      "text/plain": [
       "0.6344086021505376"
      ]
     },
     "execution_count": 30,
     "metadata": {},
     "output_type": "execute_result"
    }
   ],
   "source": [
    "# confidence\n",
    "rules[0][4]"
   ]
  },
  {
   "cell_type": "code",
   "execution_count": 31,
   "id": "0d55aa1a",
   "metadata": {},
   "outputs": [
    {
     "data": {
      "text/plain": [
       "2.6169354838709675"
      ]
     },
     "execution_count": 31,
     "metadata": {},
     "output_type": "execute_result"
    }
   ],
   "source": [
    "# lift\n",
    "rules[0][5]"
   ]
  },
  {
   "cell_type": "code",
   "execution_count": 32,
   "id": "dd6975f8",
   "metadata": {},
   "outputs": [
    {
     "name": "stdout",
     "output_type": "stream",
     "text": [
      "('Survived', ('1st', '(31.0, 512.329]_Fare'), 109, 12.2334455667789, 0.6855345911949685, 1.7859980139026812)\n",
      "('Survived', ('1st', 'female'), 91, 10.21324354657688, 0.9680851063829787, 2.5221164613661813)\n",
      "('Survived', ('(31.0, 512.329]_Fare', 'female'), 95, 10.662177328843995, 0.8558558558558559, 2.22972972972973)\n",
      "('Survived', ('(14.454, 31.0]_Fare', 'female'), 65, 7.295173961840629, 0.6989247311827957, 1.8208828522920204)\n",
      "('Survived', ('(0.419, 21.5]_Age', 'female'), 82, 9.20314253647587, 0.6507936507936508, 1.6954887218045114)\n",
      "('Survived', ('female', 'S'), 142, 15.937149270482603, 0.6926829268292682, 1.8046213093709884)\n"
     ]
    }
   ],
   "source": [
    "for r in rules:\n",
    "    if r[0] == 'Survived':\n",
    "        print(r)"
   ]
  },
  {
   "cell_type": "code",
   "execution_count": 33,
   "id": "3ef10736",
   "metadata": {},
   "outputs": [
    {
     "data": {
      "text/plain": [
       "('Survived',\n",
       " ('1st', '(31.0, 512.329]_Fare'),\n",
       " 109,\n",
       " 12.2334455667789,\n",
       " 0.6855345911949685,\n",
       " 1.7859980139026812)"
      ]
     },
     "execution_count": 33,
     "metadata": {},
     "output_type": "execute_result"
    }
   ],
   "source": [
    "[r for r in rules if r[0] == 'Survived'][0]"
   ]
  },
  {
   "cell_type": "code",
   "execution_count": 34,
   "id": "b73e3b3a",
   "metadata": {},
   "outputs": [
    {
     "name": "stdout",
     "output_type": "stream",
     "text": [
      "to_predict: Survived\n",
      "how? ('1st', '(31.0, 512.329]_Fare')\n"
     ]
    }
   ],
   "source": [
    "print( 'to_predict:', [r for r in rules if r[0] == 'Survived'][0][0])\n",
    "print( 'how?', [r for r in rules if r[0] == 'Survived'][0][1])"
   ]
  },
  {
   "cell_type": "code",
   "execution_count": 35,
   "id": "d7f8c4cb",
   "metadata": {},
   "outputs": [],
   "source": [
    "# left for exercise\n",
    "\n",
    "# using the same test set for classification (w/ random_state):\n",
    "# predict the target variable with the most interesting rule:\n",
    "# .... e.g., the most frequent;\n",
    "# .... e.g., the one w/ max lift\n",
    "# build a list of prediction, e.g. ['Survived', 'Not Survived', 'Survived']\n",
    "# evaluate this prediction with precision/recall/confusion matrix etc."
   ]
  },
  {
   "cell_type": "code",
   "execution_count": 36,
   "id": "e9e68ade",
   "metadata": {},
   "outputs": [],
   "source": [
    "len_r = []\n",
    "for i in range(1, 20+1): #support\n",
    "    len_r_wrt_i = []\n",
    "    for j in range(60, 80+1): #confidence\n",
    "        rules = apriori(X, target='r', supp=i, zmin=3, conf=j, report='aScl')\n",
    "        \n",
    "        len_r_wrt_i.append(len(rules)) # study your characteristics/properties here\n",
    "        \n",
    "    len_r.append(len_r_wrt_i)"
   ]
  },
  {
   "cell_type": "code",
   "execution_count": 37,
   "id": "d149ca05",
   "metadata": {},
   "outputs": [
    {
     "data": {
      "image/png": "[encoded data removed]",
      "text/plain": [
       "<Figure size 432x288 with 2 Axes>"
      ]
     },
     "metadata": {
      "needs_background": "light"
     },
     "output_type": "display_data"
    }
   ],
   "source": [
    "plt.imshow( len_r, cmap='Blues', alpha=0.8 )\n",
    "plt.xlabel('%support', fontsize=20)\n",
    "plt.ylabel('%confidence', fontsize=20)\n",
    "plt.xticks(fontsize=20)\n",
    "plt.yticks( np.arange(0,20+1,4), np.arange(60,80+1,4), fontsize=20  )\n",
    "plt.colorbar()\n",
    "\n",
    "plt.show()"
   ]
  },
  {
   "cell_type": "code",
   "execution_count": null,
   "id": "1f0a473f",
   "metadata": {},
   "outputs": [],
   "source": []
  }
 ],
 "metadata": {
  "kernelspec": {
   "display_name": "Python 3",
   "language": "python",
   "name": "python3"
  },
  "language_info": {
   "codemirror_mode": {
    "name": "ipython",
    "version": 3
   },
   "file_extension": ".py",
   "mimetype": "text/x-python",
   "name": "python",
   "nbconvert_exporter": "python",
   "pygments_lexer": "ipython3",
   "version": "3.8.8"
  }
 },
 "nbformat": 4,
 "nbformat_minor": 5
}
