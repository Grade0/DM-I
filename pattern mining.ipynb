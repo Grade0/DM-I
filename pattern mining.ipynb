{
 "cells": [
  {
   "cell_type": "code",
   "execution_count": 1,
   "id": "738c0acd",
   "metadata": {},
   "outputs": [],
   "source": [
    "import numpy as np\n",
    "import pandas as pd\n",
    "\n",
    "import matplotlib.pyplot as plt\n",
    "%matplotlib inline"
   ]
  },
  {
   "cell_type": "code",
   "execution_count": 2,
   "id": "a812fa27",
   "metadata": {},
   "outputs": [],
   "source": [
    "df = pd.read_csv(\"seismic-bumps.csv\")"
   ]
  },
  {
   "cell_type": "code",
   "execution_count": 3,
   "id": "05d22e15",
   "metadata": {},
   "outputs": [
    {
     "data": {
      "text/html": [
       "<div>\n",
       "<style scoped>\n",
       "    .dataframe tbody tr th:only-of-type {\n",
       "        vertical-align: middle;\n",
       "    }\n",
       "\n",
       "    .dataframe tbody tr th {\n",
       "        vertical-align: top;\n",
       "    }\n",
       "\n",
       "    .dataframe thead th {\n",
       "        text-align: right;\n",
       "    }\n",
       "</style>\n",
       "<table border=\"1\" class=\"dataframe\">\n",
       "  <thead>\n",
       "    <tr style=\"text-align: right;\">\n",
       "      <th></th>\n",
       "      <th>seismic</th>\n",
       "      <th>seismoacoustic</th>\n",
       "      <th>shift</th>\n",
       "      <th>genergy</th>\n",
       "      <th>gpuls</th>\n",
       "      <th>gdenergy</th>\n",
       "      <th>gdpuls</th>\n",
       "      <th>hazard</th>\n",
       "      <th>nbumps</th>\n",
       "      <th>nbumps2</th>\n",
       "      <th>nbumps3</th>\n",
       "      <th>nbumps4</th>\n",
       "      <th>nbumps5</th>\n",
       "      <th>nbumps6</th>\n",
       "      <th>nbumps7</th>\n",
       "      <th>nbumps89</th>\n",
       "      <th>energy</th>\n",
       "      <th>maxenergy</th>\n",
       "      <th>class</th>\n",
       "    </tr>\n",
       "  </thead>\n",
       "  <tbody>\n",
       "    <tr>\n",
       "      <th>0</th>\n",
       "      <td>a</td>\n",
       "      <td>a</td>\n",
       "      <td>N</td>\n",
       "      <td>15180</td>\n",
       "      <td>48</td>\n",
       "      <td>-72</td>\n",
       "      <td>-72</td>\n",
       "      <td>a</td>\n",
       "      <td>0</td>\n",
       "      <td>0</td>\n",
       "      <td>0</td>\n",
       "      <td>0</td>\n",
       "      <td>0</td>\n",
       "      <td>0</td>\n",
       "      <td>0</td>\n",
       "      <td>0</td>\n",
       "      <td>0</td>\n",
       "      <td>0</td>\n",
       "      <td>0</td>\n",
       "    </tr>\n",
       "    <tr>\n",
       "      <th>1</th>\n",
       "      <td>a</td>\n",
       "      <td>a</td>\n",
       "      <td>N</td>\n",
       "      <td>14720</td>\n",
       "      <td>33</td>\n",
       "      <td>-70</td>\n",
       "      <td>-79</td>\n",
       "      <td>a</td>\n",
       "      <td>1</td>\n",
       "      <td>0</td>\n",
       "      <td>1</td>\n",
       "      <td>0</td>\n",
       "      <td>0</td>\n",
       "      <td>0</td>\n",
       "      <td>0</td>\n",
       "      <td>0</td>\n",
       "      <td>2000</td>\n",
       "      <td>2000</td>\n",
       "      <td>0</td>\n",
       "    </tr>\n",
       "    <tr>\n",
       "      <th>2</th>\n",
       "      <td>a</td>\n",
       "      <td>a</td>\n",
       "      <td>N</td>\n",
       "      <td>8050</td>\n",
       "      <td>30</td>\n",
       "      <td>-81</td>\n",
       "      <td>-78</td>\n",
       "      <td>a</td>\n",
       "      <td>0</td>\n",
       "      <td>0</td>\n",
       "      <td>0</td>\n",
       "      <td>0</td>\n",
       "      <td>0</td>\n",
       "      <td>0</td>\n",
       "      <td>0</td>\n",
       "      <td>0</td>\n",
       "      <td>0</td>\n",
       "      <td>0</td>\n",
       "      <td>0</td>\n",
       "    </tr>\n",
       "    <tr>\n",
       "      <th>3</th>\n",
       "      <td>a</td>\n",
       "      <td>a</td>\n",
       "      <td>N</td>\n",
       "      <td>28820</td>\n",
       "      <td>171</td>\n",
       "      <td>-23</td>\n",
       "      <td>40</td>\n",
       "      <td>a</td>\n",
       "      <td>1</td>\n",
       "      <td>0</td>\n",
       "      <td>1</td>\n",
       "      <td>0</td>\n",
       "      <td>0</td>\n",
       "      <td>0</td>\n",
       "      <td>0</td>\n",
       "      <td>0</td>\n",
       "      <td>3000</td>\n",
       "      <td>3000</td>\n",
       "      <td>0</td>\n",
       "    </tr>\n",
       "    <tr>\n",
       "      <th>4</th>\n",
       "      <td>a</td>\n",
       "      <td>a</td>\n",
       "      <td>N</td>\n",
       "      <td>12640</td>\n",
       "      <td>57</td>\n",
       "      <td>-63</td>\n",
       "      <td>-52</td>\n",
       "      <td>a</td>\n",
       "      <td>0</td>\n",
       "      <td>0</td>\n",
       "      <td>0</td>\n",
       "      <td>0</td>\n",
       "      <td>0</td>\n",
       "      <td>0</td>\n",
       "      <td>0</td>\n",
       "      <td>0</td>\n",
       "      <td>0</td>\n",
       "      <td>0</td>\n",
       "      <td>0</td>\n",
       "    </tr>\n",
       "  </tbody>\n",
       "</table>\n",
       "</div>"
      ],
      "text/plain": [
       "  seismic seismoacoustic shift  genergy  gpuls  gdenergy  gdpuls hazard  \\\n",
       "0       a              a     N    15180     48       -72     -72      a   \n",
       "1       a              a     N    14720     33       -70     -79      a   \n",
       "2       a              a     N     8050     30       -81     -78      a   \n",
       "3       a              a     N    28820    171       -23      40      a   \n",
       "4       a              a     N    12640     57       -63     -52      a   \n",
       "\n",
       "   nbumps  nbumps2  nbumps3  nbumps4  nbumps5  nbumps6  nbumps7  nbumps89  \\\n",
       "0       0        0        0        0        0        0        0         0   \n",
       "1       1        0        1        0        0        0        0         0   \n",
       "2       0        0        0        0        0        0        0         0   \n",
       "3       1        0        1        0        0        0        0         0   \n",
       "4       0        0        0        0        0        0        0         0   \n",
       "\n",
       "   energy  maxenergy  class  \n",
       "0       0          0      0  \n",
       "1    2000       2000      0  \n",
       "2       0          0      0  \n",
       "3    3000       3000      0  \n",
       "4       0          0      0  "
      ]
     },
     "execution_count": 3,
     "metadata": {},
     "output_type": "execute_result"
    }
   ],
   "source": [
    "df.head()"
   ]
  },
  {
   "cell_type": "markdown",
   "id": "e741ffb0",
   "metadata": {},
   "source": [
    "## Feature preprocessing (light)"
   ]
  },
  {
   "cell_type": "code",
   "execution_count": 4,
   "id": "5e0c3e4b",
   "metadata": {},
   "outputs": [],
   "source": [
    "#remove useless variables from the dataset\n",
    "column2drop = ['seismoacoustic', 'gdpuls', 'hazard','nbumps2', 'nbumps3', 'nbumps4', 'nbumps5', 'nbumps6', 'nbumps7', 'nbumps89', 'energy', 'maxenergy']\n",
    "df.drop(column2drop, axis=1, inplace=True)"
   ]
  },
  {
   "cell_type": "code",
   "execution_count": 5,
   "id": "265ed998",
   "metadata": {},
   "outputs": [
    {
     "data": {
      "text/html": [
       "<div>\n",
       "<style scoped>\n",
       "    .dataframe tbody tr th:only-of-type {\n",
       "        vertical-align: middle;\n",
       "    }\n",
       "\n",
       "    .dataframe tbody tr th {\n",
       "        vertical-align: top;\n",
       "    }\n",
       "\n",
       "    .dataframe thead th {\n",
       "        text-align: right;\n",
       "    }\n",
       "</style>\n",
       "<table border=\"1\" class=\"dataframe\">\n",
       "  <thead>\n",
       "    <tr style=\"text-align: right;\">\n",
       "      <th></th>\n",
       "      <th>seismic</th>\n",
       "      <th>shift</th>\n",
       "      <th>genergy</th>\n",
       "      <th>gpuls</th>\n",
       "      <th>gdenergy</th>\n",
       "      <th>nbumps</th>\n",
       "      <th>class</th>\n",
       "    </tr>\n",
       "  </thead>\n",
       "  <tbody>\n",
       "    <tr>\n",
       "      <th>0</th>\n",
       "      <td>a</td>\n",
       "      <td>N</td>\n",
       "      <td>15180</td>\n",
       "      <td>48</td>\n",
       "      <td>-72</td>\n",
       "      <td>0</td>\n",
       "      <td>0</td>\n",
       "    </tr>\n",
       "    <tr>\n",
       "      <th>1</th>\n",
       "      <td>a</td>\n",
       "      <td>N</td>\n",
       "      <td>14720</td>\n",
       "      <td>33</td>\n",
       "      <td>-70</td>\n",
       "      <td>1</td>\n",
       "      <td>0</td>\n",
       "    </tr>\n",
       "    <tr>\n",
       "      <th>2</th>\n",
       "      <td>a</td>\n",
       "      <td>N</td>\n",
       "      <td>8050</td>\n",
       "      <td>30</td>\n",
       "      <td>-81</td>\n",
       "      <td>0</td>\n",
       "      <td>0</td>\n",
       "    </tr>\n",
       "    <tr>\n",
       "      <th>3</th>\n",
       "      <td>a</td>\n",
       "      <td>N</td>\n",
       "      <td>28820</td>\n",
       "      <td>171</td>\n",
       "      <td>-23</td>\n",
       "      <td>1</td>\n",
       "      <td>0</td>\n",
       "    </tr>\n",
       "    <tr>\n",
       "      <th>4</th>\n",
       "      <td>a</td>\n",
       "      <td>N</td>\n",
       "      <td>12640</td>\n",
       "      <td>57</td>\n",
       "      <td>-63</td>\n",
       "      <td>0</td>\n",
       "      <td>0</td>\n",
       "    </tr>\n",
       "  </tbody>\n",
       "</table>\n",
       "</div>"
      ],
      "text/plain": [
       "  seismic shift  genergy  gpuls  gdenergy  nbumps  class\n",
       "0       a     N    15180     48       -72       0      0\n",
       "1       a     N    14720     33       -70       1      0\n",
       "2       a     N     8050     30       -81       0      0\n",
       "3       a     N    28820    171       -23       1      0\n",
       "4       a     N    12640     57       -63       0      0"
      ]
     },
     "execution_count": 5,
     "metadata": {},
     "output_type": "execute_result"
    }
   ],
   "source": [
    "df.head()"
   ]
  },
  {
   "cell_type": "markdown",
   "id": "0094a39e",
   "metadata": {},
   "source": [
    "## Pattern mining preprocessing"
   ]
  },
  {
   "cell_type": "code",
   "execution_count": 6,
   "id": "b8035880",
   "metadata": {},
   "outputs": [],
   "source": [
    "#numero tra parentesi è numero di bin, divide in quartili\n",
    "df['genergyBin'] = pd.qcut(df['genergy'], 4)\n",
    "df['gpulsBin'] = pd.qcut(df['gpuls'], 4)\n",
    "df['gdenergyBin'] = pd.qcut(df['gdenergy'], 4)\n",
    "df['nbumpsBin'] = pd.cut(df['nbumps'], 4)\n",
    "\n",
    "df.drop(['nbumps', 'gdenergy', 'genergy', 'gpuls'], axis=1, inplace=True)"
   ]
  },
  {
   "cell_type": "code",
   "execution_count": 7,
   "id": "b1429a30",
   "metadata": {},
   "outputs": [
    {
     "data": {
      "text/html": [
       "<div>\n",
       "<style scoped>\n",
       "    .dataframe tbody tr th:only-of-type {\n",
       "        vertical-align: middle;\n",
       "    }\n",
       "\n",
       "    .dataframe tbody tr th {\n",
       "        vertical-align: top;\n",
       "    }\n",
       "\n",
       "    .dataframe thead th {\n",
       "        text-align: right;\n",
       "    }\n",
       "</style>\n",
       "<table border=\"1\" class=\"dataframe\">\n",
       "  <thead>\n",
       "    <tr style=\"text-align: right;\">\n",
       "      <th></th>\n",
       "      <th>seismic</th>\n",
       "      <th>shift</th>\n",
       "      <th>class</th>\n",
       "      <th>genergyBin</th>\n",
       "      <th>gpulsBin</th>\n",
       "      <th>gdenergyBin</th>\n",
       "      <th>nbumpsBin</th>\n",
       "    </tr>\n",
       "  </thead>\n",
       "  <tbody>\n",
       "    <tr>\n",
       "      <th>0</th>\n",
       "      <td>a</td>\n",
       "      <td>N</td>\n",
       "      <td>0</td>\n",
       "      <td>(11660.0, 25485.0]</td>\n",
       "      <td>(1.999, 190.0]</td>\n",
       "      <td>(-96.001, -37.0]</td>\n",
       "      <td>(-0.009, 2.25]</td>\n",
       "    </tr>\n",
       "    <tr>\n",
       "      <th>1</th>\n",
       "      <td>a</td>\n",
       "      <td>N</td>\n",
       "      <td>0</td>\n",
       "      <td>(11660.0, 25485.0]</td>\n",
       "      <td>(1.999, 190.0]</td>\n",
       "      <td>(-96.001, -37.0]</td>\n",
       "      <td>(-0.009, 2.25]</td>\n",
       "    </tr>\n",
       "    <tr>\n",
       "      <th>2</th>\n",
       "      <td>a</td>\n",
       "      <td>N</td>\n",
       "      <td>0</td>\n",
       "      <td>(99.999, 11660.0]</td>\n",
       "      <td>(1.999, 190.0]</td>\n",
       "      <td>(-96.001, -37.0]</td>\n",
       "      <td>(-0.009, 2.25]</td>\n",
       "    </tr>\n",
       "    <tr>\n",
       "      <th>3</th>\n",
       "      <td>a</td>\n",
       "      <td>N</td>\n",
       "      <td>0</td>\n",
       "      <td>(25485.0, 52832.5]</td>\n",
       "      <td>(1.999, 190.0]</td>\n",
       "      <td>(-37.0, -6.0]</td>\n",
       "      <td>(-0.009, 2.25]</td>\n",
       "    </tr>\n",
       "    <tr>\n",
       "      <th>4</th>\n",
       "      <td>a</td>\n",
       "      <td>N</td>\n",
       "      <td>0</td>\n",
       "      <td>(11660.0, 25485.0]</td>\n",
       "      <td>(1.999, 190.0]</td>\n",
       "      <td>(-96.001, -37.0]</td>\n",
       "      <td>(-0.009, 2.25]</td>\n",
       "    </tr>\n",
       "  </tbody>\n",
       "</table>\n",
       "</div>"
      ],
      "text/plain": [
       "  seismic shift  class          genergyBin        gpulsBin       gdenergyBin  \\\n",
       "0       a     N      0  (11660.0, 25485.0]  (1.999, 190.0]  (-96.001, -37.0]   \n",
       "1       a     N      0  (11660.0, 25485.0]  (1.999, 190.0]  (-96.001, -37.0]   \n",
       "2       a     N      0   (99.999, 11660.0]  (1.999, 190.0]  (-96.001, -37.0]   \n",
       "3       a     N      0  (25485.0, 52832.5]  (1.999, 190.0]     (-37.0, -6.0]   \n",
       "4       a     N      0  (11660.0, 25485.0]  (1.999, 190.0]  (-96.001, -37.0]   \n",
       "\n",
       "        nbumpsBin  \n",
       "0  (-0.009, 2.25]  \n",
       "1  (-0.009, 2.25]  \n",
       "2  (-0.009, 2.25]  \n",
       "3  (-0.009, 2.25]  \n",
       "4  (-0.009, 2.25]  "
      ]
     },
     "execution_count": 7,
     "metadata": {},
     "output_type": "execute_result"
    }
   ],
   "source": [
    "df.head()"
   ]
  },
  {
   "cell_type": "code",
   "execution_count": 8,
   "id": "d8a2b02c",
   "metadata": {},
   "outputs": [],
   "source": [
    "df['genergyBin'] = df['genergyBin'].astype(str) + '_gene'\n",
    "df['gdenergyBin'] = df['gdenergyBin'].astype(str) + '_gdene'\n",
    "df['gpulsBin'] = df['gpulsBin'].astype(str) + '_gpuls'\n",
    "df['nbumpsBin'] = df['nbumpsBin'].astype(str) + '_bumps'"
   ]
  },
  {
   "cell_type": "code",
   "execution_count": 9,
   "id": "bc2511b3",
   "metadata": {},
   "outputs": [],
   "source": [
    "class_dict = {0: 'non hazardous', 1: 'hazardous'}\n",
    "df['class'] = df['class'].map(class_dict)"
   ]
  },
  {
   "cell_type": "code",
   "execution_count": 10,
   "id": "232cf746",
   "metadata": {},
   "outputs": [],
   "source": [
    "# Transform categorical attributes ('seismic' and 'shift') into numerical ones \n",
    "from sklearn.preprocessing import LabelEncoder\n",
    "le = LabelEncoder()\n",
    "\n",
    "df['seismic'] = le.fit_transform(df['seismic'])\n",
    "df['shift'] = le.fit_transform(df['shift'])"
   ]
  },
  {
   "cell_type": "code",
   "execution_count": 11,
   "id": "09ecc4a3",
   "metadata": {},
   "outputs": [],
   "source": [
    "seismic_dict = {0: 'lack of hazard', 1: 'low hazard'}\n",
    "df['seismic'] = df['seismic'].map(seismic_dict)\n",
    "\n",
    "shift_dict = {0: 'coal-getting', 1: 'preparation'}\n",
    "df['shift'] = df['shift'].map(shift_dict)"
   ]
  },
  {
   "cell_type": "code",
   "execution_count": 12,
   "id": "4f2099a9",
   "metadata": {},
   "outputs": [
    {
     "data": {
      "text/html": [
       "<div>\n",
       "<style scoped>\n",
       "    .dataframe tbody tr th:only-of-type {\n",
       "        vertical-align: middle;\n",
       "    }\n",
       "\n",
       "    .dataframe tbody tr th {\n",
       "        vertical-align: top;\n",
       "    }\n",
       "\n",
       "    .dataframe thead th {\n",
       "        text-align: right;\n",
       "    }\n",
       "</style>\n",
       "<table border=\"1\" class=\"dataframe\">\n",
       "  <thead>\n",
       "    <tr style=\"text-align: right;\">\n",
       "      <th></th>\n",
       "      <th>seismic</th>\n",
       "      <th>shift</th>\n",
       "      <th>class</th>\n",
       "      <th>genergyBin</th>\n",
       "      <th>gpulsBin</th>\n",
       "      <th>gdenergyBin</th>\n",
       "      <th>nbumpsBin</th>\n",
       "    </tr>\n",
       "  </thead>\n",
       "  <tbody>\n",
       "    <tr>\n",
       "      <th>0</th>\n",
       "      <td>lack of hazard</td>\n",
       "      <td>coal-getting</td>\n",
       "      <td>non hazardous</td>\n",
       "      <td>(11660.0, 25485.0]_gene</td>\n",
       "      <td>(1.999, 190.0]_gpuls</td>\n",
       "      <td>(-96.001, -37.0]_gdene</td>\n",
       "      <td>(-0.009, 2.25]_bumps</td>\n",
       "    </tr>\n",
       "    <tr>\n",
       "      <th>1</th>\n",
       "      <td>lack of hazard</td>\n",
       "      <td>coal-getting</td>\n",
       "      <td>non hazardous</td>\n",
       "      <td>(11660.0, 25485.0]_gene</td>\n",
       "      <td>(1.999, 190.0]_gpuls</td>\n",
       "      <td>(-96.001, -37.0]_gdene</td>\n",
       "      <td>(-0.009, 2.25]_bumps</td>\n",
       "    </tr>\n",
       "    <tr>\n",
       "      <th>2</th>\n",
       "      <td>lack of hazard</td>\n",
       "      <td>coal-getting</td>\n",
       "      <td>non hazardous</td>\n",
       "      <td>(99.999, 11660.0]_gene</td>\n",
       "      <td>(1.999, 190.0]_gpuls</td>\n",
       "      <td>(-96.001, -37.0]_gdene</td>\n",
       "      <td>(-0.009, 2.25]_bumps</td>\n",
       "    </tr>\n",
       "    <tr>\n",
       "      <th>3</th>\n",
       "      <td>lack of hazard</td>\n",
       "      <td>coal-getting</td>\n",
       "      <td>non hazardous</td>\n",
       "      <td>(25485.0, 52832.5]_gene</td>\n",
       "      <td>(1.999, 190.0]_gpuls</td>\n",
       "      <td>(-37.0, -6.0]_gdene</td>\n",
       "      <td>(-0.009, 2.25]_bumps</td>\n",
       "    </tr>\n",
       "    <tr>\n",
       "      <th>4</th>\n",
       "      <td>lack of hazard</td>\n",
       "      <td>coal-getting</td>\n",
       "      <td>non hazardous</td>\n",
       "      <td>(11660.0, 25485.0]_gene</td>\n",
       "      <td>(1.999, 190.0]_gpuls</td>\n",
       "      <td>(-96.001, -37.0]_gdene</td>\n",
       "      <td>(-0.009, 2.25]_bumps</td>\n",
       "    </tr>\n",
       "  </tbody>\n",
       "</table>\n",
       "</div>"
      ],
      "text/plain": [
       "          seismic         shift          class               genergyBin  \\\n",
       "0  lack of hazard  coal-getting  non hazardous  (11660.0, 25485.0]_gene   \n",
       "1  lack of hazard  coal-getting  non hazardous  (11660.0, 25485.0]_gene   \n",
       "2  lack of hazard  coal-getting  non hazardous   (99.999, 11660.0]_gene   \n",
       "3  lack of hazard  coal-getting  non hazardous  (25485.0, 52832.5]_gene   \n",
       "4  lack of hazard  coal-getting  non hazardous  (11660.0, 25485.0]_gene   \n",
       "\n",
       "               gpulsBin             gdenergyBin             nbumpsBin  \n",
       "0  (1.999, 190.0]_gpuls  (-96.001, -37.0]_gdene  (-0.009, 2.25]_bumps  \n",
       "1  (1.999, 190.0]_gpuls  (-96.001, -37.0]_gdene  (-0.009, 2.25]_bumps  \n",
       "2  (1.999, 190.0]_gpuls  (-96.001, -37.0]_gdene  (-0.009, 2.25]_bumps  \n",
       "3  (1.999, 190.0]_gpuls     (-37.0, -6.0]_gdene  (-0.009, 2.25]_bumps  \n",
       "4  (1.999, 190.0]_gpuls  (-96.001, -37.0]_gdene  (-0.009, 2.25]_bumps  "
      ]
     },
     "execution_count": 12,
     "metadata": {},
     "output_type": "execute_result"
    }
   ],
   "source": [
    "df.head()"
   ]
  },
  {
   "cell_type": "code",
   "execution_count": 13,
   "id": "bb5a528d",
   "metadata": {},
   "outputs": [],
   "source": [
    "X = df.values.tolist()"
   ]
  },
  {
   "cell_type": "code",
   "execution_count": 14,
   "id": "3deb352f",
   "metadata": {},
   "outputs": [
    {
     "data": {
      "text/plain": [
       "['lack of hazard',\n",
       " 'coal-getting',\n",
       " 'non hazardous',\n",
       " '(11660.0, 25485.0]_gene',\n",
       " '(1.999, 190.0]_gpuls',\n",
       " '(-96.001, -37.0]_gdene',\n",
       " '(-0.009, 2.25]_bumps']"
      ]
     },
     "execution_count": 14,
     "metadata": {},
     "output_type": "execute_result"
    }
   ],
   "source": [
    "X[0]"
   ]
  },
  {
   "cell_type": "code",
   "execution_count": 15,
   "id": "fb200a17",
   "metadata": {},
   "outputs": [],
   "source": [
    "#non usare\n",
    "#Y = df.values\n",
    "#Z = Y[df['class']=='hazardous']\n",
    "#Z"
   ]
  },
  {
   "cell_type": "code",
   "execution_count": 16,
   "id": "ff56abf4",
   "metadata": {},
   "outputs": [],
   "source": [
    "#!pip install pyfim\n",
    "from fim import apriori"
   ]
  },
  {
   "cell_type": "code",
   "execution_count": 17,
   "id": "0122bd50",
   "metadata": {},
   "outputs": [
    {
     "name": "stdout",
     "output_type": "stream",
     "text": [
      "Help on built-in function apriori in module fim:\n",
      "\n",
      "apriori(...)\n",
      "    apriori (tracts, target='s', supp=10, zmin=1, zmax=None, report='a',\n",
      "             eval='x', agg='x', thresh=10, prune=None, algo='b', mode='',\n",
      "             border=None)\n",
      "    Find frequent item sets with the Apriori algorithm.\n",
      "    tracts  transaction database to mine (mandatory)\n",
      "            The database must be an iterable of transactions;\n",
      "            each transaction must be an iterable of items;\n",
      "            each item must be a hashable object.\n",
      "            If the database is a dictionary, the transactions are\n",
      "            the keys, the values their (integer) multiplicities.\n",
      "    target  type of frequent item sets to find     (default: s)\n",
      "            s/a   sets/all   all     frequent item sets\n",
      "            c     closed     closed  frequent item sets\n",
      "            m     maximal    maximal frequent item sets\n",
      "            g     gens       generators\n",
      "            r     rules      association rules\n",
      "    supp    minimum support of an item set         (default: 10)\n",
      "            (positive: percentage, negative: absolute number)\n",
      "    conf    minimum confidence of an assoc. rule   (default: 80%)\n",
      "    zmin    minimum number of items per item set   (default: 1)\n",
      "    zmax    maximum number of items per item set   (default: no limit)\n",
      "    report  values to report with an item set      (default: a)\n",
      "            a     absolute item set support (number of transactions)\n",
      "            s     relative item set support as a fraction\n",
      "            S     relative item set support as a percentage\n",
      "            e     value of item set evaluation measure\n",
      "            E     value of item set evaluation measure as a percentage\n",
      "            (     combine values in a tuple (must be first character)\n",
      "            [     combine values in a list  (must be first character)\n",
      "            #     pattern spectrum as a dictionary  (no patterns)\n",
      "            =     pattern spectrum as a list        (no patterns)\n",
      "            |     pattern spectrum as three columns (no patterns)\n",
      "            for target 'r' (association rules) also available:\n",
      "            b     absolute body set  support (number of transactions)\n",
      "            x     relative body set  support as a fraction\n",
      "            X     relative body set  support as a percentage\n",
      "            h     absolute head item support (number of transactions)\n",
      "            y     relative head item support as a fraction\n",
      "            Y     relative head item support as a percentage\n",
      "            c     rule confidence as a fraction\n",
      "            C     rule confidence as a percentage\n",
      "            l     lift value of a rule (confidence/prior)\n",
      "            L     lift value of a rule as a percentage\n",
      "            Q     support of the empty set (total number of transactions)\n",
      "    eval    measure for item set evaluation        (default: x)\n",
      "            x     none       no measure / zero (default)\n",
      "            b     ldratio    binary logarithm of support quotient       (+)\n",
      "            c     conf       rule confidence                            (+)\n",
      "            d     confdiff   absolute confidence difference to prior    (+)\n",
      "            l     lift       lift value (confidence divided by prior)   (+)\n",
      "            a     liftdiff   absolute difference of lift value to 1     (+)\n",
      "            q     liftquot   difference of lift quotient to 1           (+)\n",
      "            v     cvct       conviction (inverse lift for negated head) (+)\n",
      "            e     cvctdiff   absolute difference of conviction to 1     (+)\n",
      "            r     cvctquot   difference of conviction quotient to 1     (+)\n",
      "            k     cprob      conditional probability ratio              (+)\n",
      "            j     import     importance (binary log. of prob. ratio)    (+)\n",
      "            z     cert       certainty factor (relative conf. change)   (+)\n",
      "            n     chi2       normalized chi^2 measure                   (+)\n",
      "            p     chi2pval   p-value from (unnormalized) chi^2 measure  (-)\n",
      "            y     yates      normalized chi^2 with Yates' correction    (+)\n",
      "            t     yatespval  p-value from Yates-corrected chi^2 measure (-)\n",
      "            i     info       information difference to prior            (+)\n",
      "            g     infopval   p-value from G statistic/info. difference  (-)\n",
      "            f     fetprob    Fisher's exact test (table probability)    (-)\n",
      "            h     fetchi2    Fisher's exact test (chi^2 measure)        (-)\n",
      "            m     fetinfo    Fisher's exact test (mutual information)   (-)\n",
      "            s     fetsupp    Fisher's exact test (support)              (-)\n",
      "            Measures marked with (+) must meet or exceed the threshold,\n",
      "            measures marked with (-) must not exceed the threshold\n",
      "            in order for the item set to be reported.\n",
      "    agg     evaluation measure aggregation mode    (default: x)\n",
      "            x     none       no aggregation (use first value)\n",
      "            m     min        minimum of individual measure values\n",
      "            n     max        maximum of individual measure values\n",
      "            a     avg        average of individual measure values\n",
      "    thresh  threshold for evaluation measure       (default: 10%)\n",
      "    prune   min. size for evaluation filtering     (default: no pruning)\n",
      "            = 0   backward filtering       (no subset check)\n",
      "            < 0   weak   forward filtering (one subset  must qualify)\n",
      "            > 0   strong forward filtering (all subsets must qualify)\n",
      "    algo    algorithm variant to use               (default: a)\n",
      "            b     basic      standard algorithm (only choice)\n",
      "    mode    operation mode indicators/flags        (default: None)\n",
      "            x     do not use perfect extension pruning\n",
      "            t/T   do not organize transactions as a prefix tree\n",
      "            y     a-posteriori pruning of infrequent item sets\n",
      "            z     invalidate evaluation below expected support\n",
      "            o     use original rule support definition (body & head)\n",
      "    border  support border for filtering item sets (default: None)\n",
      "            Must be a list or tuple of (absolute) minimum support values\n",
      "            per item set size (by which the list/tuple is indexed).\n",
      "    appear  dictionary mapping items to item appearance indicators,\n",
      "            with the key None referring to the default item appearance.\n",
      "            (If None does not occur as a key or no dictionary is given,\n",
      "            the default item appearance indicator is 'both'.)\n",
      "            This parameter is only used if the target type is rules.\n",
      "            * item may not appear anywhere in a rule:\n",
      "              '-', 'n', 'none', 'neither', 'ignore'\n",
      "            * item may appear only in rule body/antecedent:\n",
      "              'i', 'in', 'inp', 'input', 'b', 'body',\n",
      "              'a', 'ante', 'antecedent'\n",
      "            * item may appear only in rule head/consequent:\n",
      "              'o', 'out',      'output', 'h', 'head',\n",
      "              'c', 'cons', 'consequent'\n",
      "            * item may appear anywhere in a rule:\n",
      "              'io', 'i&o', 'inout', 'in&out', 'bh', 'b&h', 'both'\n",
      "    returns if report is not in ['#','=','|']:\n",
      "              if the target is association rules:\n",
      "                a list of rules (i.e. tuples with two or more elements),\n",
      "                each consisting of a head/consequent item, a tuple with\n",
      "                a body/antecedent item set, and the values selected by\n",
      "                the parameter 'report', which may be combined into a\n",
      "                tuple or a list if report[0] is '(' or '[', respectively.\n",
      "              if the target is a type of item sets:\n",
      "                a list of patterns (i.e. tuples with one or more elements),\n",
      "                each consisting of a tuple with a found frequent item set\n",
      "                and the values selected by the parameter 'report', which\n",
      "                may be combined into a tuple or list if report[0] is '('\n",
      "                or '[', respectively\n",
      "            if report in ['#','=','|']:\n",
      "              a pattern spectrum as a dictionary mapping pattern sizes\n",
      "              to the corresponding occurrence support ranges, as a list\n",
      "              of triplets (size, min. support, max. support) or as three\n",
      "              columns for sizes and minimum and maximum support values\n",
      "\n"
     ]
    }
   ],
   "source": [
    "help(apriori)"
   ]
  },
  {
   "cell_type": "code",
   "execution_count": 18,
   "id": "cc120469",
   "metadata": {},
   "outputs": [],
   "source": [
    "#supp=2 ; 0.02\n",
    "#supp=20 ; 0.2\n",
    "\n",
    "itemsets = apriori(X, target='s', supp=3, zmin=3, report='S')"
   ]
  },
  {
   "cell_type": "code",
   "execution_count": 19,
   "id": "5fa08afe",
   "metadata": {},
   "outputs": [
    {
     "data": {
      "text/plain": [
       "[(('hazardous', '(669.0, 4518.0]_gpuls', 'preparation'), 3.3281733746130033),\n",
       " (('hazardous', '(52832.5, 2595650.0]_gene', 'preparation'),\n",
       "  3.4442724458204337),\n",
       " (('hazardous', 'low hazard', 'preparation'), 3.2507739938080498),\n",
       " (('hazardous', 'preparation', '(-0.009, 2.25]_bumps'), 3.5990712074303404),\n",
       " (('(2.25, 4.5]_bumps', '(669.0, 4518.0]_gpuls', '(52832.5, 2595650.0]_gene'),\n",
       "  3.521671826625387)]"
      ]
     },
     "execution_count": 19,
     "metadata": {},
     "output_type": "execute_result"
    }
   ],
   "source": [
    "itemsets[:5]"
   ]
  },
  {
   "cell_type": "code",
   "execution_count": 20,
   "id": "8d7aa615",
   "metadata": {},
   "outputs": [
    {
     "data": {
      "text/plain": [
       "901"
      ]
     },
     "execution_count": 20,
     "metadata": {},
     "output_type": "execute_result"
    }
   ],
   "source": [
    "len(itemsets)"
   ]
  },
  {
   "cell_type": "code",
   "execution_count": 21,
   "id": "27ea8fb6",
   "metadata": {},
   "outputs": [
    {
     "data": {
      "text/plain": [
       "('hazardous', '(669.0, 4518.0]_gpuls', 'preparation')"
      ]
     },
     "execution_count": 21,
     "metadata": {},
     "output_type": "execute_result"
    }
   ],
   "source": [
    "# frequent itemset\n",
    "itemsets[0][0]"
   ]
  },
  {
   "cell_type": "code",
   "execution_count": 22,
   "id": "187e0083",
   "metadata": {},
   "outputs": [
    {
     "data": {
      "text/plain": [
       "3.3281733746130033"
      ]
     },
     "execution_count": 22,
     "metadata": {},
     "output_type": "execute_result"
    }
   ],
   "source": [
    "# support\n",
    "itemsets[0][1]"
   ]
  },
  {
   "cell_type": "code",
   "execution_count": 23,
   "id": "355d068e",
   "metadata": {},
   "outputs": [],
   "source": [
    "#maximal\n",
    "itemsets = apriori(X, target='m', supp=3, zmin=3, report='S')"
   ]
  },
  {
   "cell_type": "code",
   "execution_count": 24,
   "id": "cc2c0ebc",
   "metadata": {},
   "outputs": [
    {
     "data": {
      "text/plain": [
       "[(('hazardous', '(669.0, 4518.0]_gpuls', 'preparation'), 3.3281733746130033),\n",
       " (('hazardous', '(52832.5, 2595650.0]_gene', 'preparation'),\n",
       "  3.4442724458204337),\n",
       " (('hazardous', 'low hazard', 'preparation'), 3.2507739938080498),\n",
       " (('hazardous', 'preparation', '(-0.009, 2.25]_bumps'), 3.5990712074303404),\n",
       " (('(2.25, 4.5]_bumps',\n",
       "   '(669.0, 4518.0]_gpuls',\n",
       "   '(52832.5, 2595650.0]_gene',\n",
       "   'preparation'),\n",
       "  3.48297213622291)]"
      ]
     },
     "execution_count": 24,
     "metadata": {},
     "output_type": "execute_result"
    }
   ],
   "source": [
    "itemsets[:5]"
   ]
  },
  {
   "cell_type": "code",
   "execution_count": 25,
   "id": "5325f9a3",
   "metadata": {},
   "outputs": [
    {
     "data": {
      "text/plain": [
       "('hazardous', '(669.0, 4518.0]_gpuls', 'preparation')"
      ]
     },
     "execution_count": 25,
     "metadata": {},
     "output_type": "execute_result"
    }
   ],
   "source": [
    "itemsets[0][0]"
   ]
  },
  {
   "cell_type": "code",
   "execution_count": 26,
   "id": "acf46e59",
   "metadata": {},
   "outputs": [
    {
     "data": {
      "image/png": "[encoded data removed]",
      "text/plain": [
       "<Figure size 432x288 with 1 Axes>"
      ]
     },
     "metadata": {
      "needs_background": "light"
     },
     "output_type": "display_data"
    }
   ],
   "source": [
    "len_max_it = []\n",
    "len_cl_it = []\n",
    "len_all_it = []\n",
    "for i in range(2, 20+1):\n",
    "    max_itemsets = apriori(X, target='m', supp=i, zmin=3)\n",
    "    cl_itemsets = apriori(X, target='c', supp=i, zmin=3)\n",
    "    all_itemsets = apriori(X, target='s', supp=i, zmin=3)\n",
    "    len_max_it.append( len(max_itemsets)  )\n",
    "    len_cl_it.append( len(cl_itemsets) )\n",
    "    len_all_it.append( len(all_itemsets)  )\n",
    "    \n",
    "plt.plot(len_max_it, label='maximal')\n",
    "plt.plot(len_cl_it, label='closed')\n",
    "plt.plot(len_all_it, label='all')\n",
    "plt.legend(fontsize=20)\n",
    "plt.xticks(fontsize=20)\n",
    "plt.xlabel('%support', fontsize=15)\n",
    "\n",
    "plt.show()"
   ]
  },
  {
   "cell_type": "code",
   "execution_count": 43,
   "id": "b36eedd6",
   "metadata": {},
   "outputs": [
    {
     "data": {
      "image/png": "[encoded data removed]",
      "text/plain": [
       "<Figure size 432x288 with 1 Axes>"
      ]
     },
     "metadata": {
      "needs_background": "light"
     },
     "output_type": "display_data"
    }
   ],
   "source": [
    "filter_1 = []\n",
    "filter_2 = []\n",
    "for i in range(2, 20+1):\n",
    "    max_itemsets = apriori(X, target='m', supp=i, zmin=3)\n",
    "    \n",
    "    filter_1.append( len([item for item in max_itemsets if 'non hazardous' in item[0]])  )\n",
    "    filter_2.append( len([item for item in max_itemsets if 'hazardous' in item[0]]) )\n",
    "    \n",
    "plt.plot(range(2, len(filter_1) + 2), filter_1, label='w/ non hazardous')\n",
    "plt.plot(range(2, len(filter_1) + 2), filter_2, label='w/ hazardous')\n",
    "plt.legend(fontsize=20)\n",
    "plt.xticks(fontsize=1)\n",
    "plt.xlabel('%support', fontsize=15)\n",
    "#va fatto partire da 2 la x\n",
    "plt.show()"
   ]
  },
  {
   "cell_type": "code",
   "execution_count": 28,
   "id": "434c11dd",
   "metadata": {},
   "outputs": [],
   "source": [
    "rules = apriori(X, target='r', supp=3, zmin=3, conf=60, report='aScl')"
   ]
  },
  {
   "cell_type": "code",
   "execution_count": 29,
   "id": "ccee58e3-5b15-42cd-9321-7224e1c2e558",
   "metadata": {},
   "outputs": [
    {
     "data": {
      "text/plain": [
       "2111"
      ]
     },
     "execution_count": 29,
     "metadata": {},
     "output_type": "execute_result"
    }
   ],
   "source": [
    "len (rules)"
   ]
  },
  {
   "cell_type": "code",
   "execution_count": 30,
   "id": "c8412b01",
   "metadata": {},
   "outputs": [
    {
     "data": {
      "text/plain": [
       "[('(52832.5, 2595650.0]_gene',\n",
       "  ('hazardous', '(669.0, 4518.0]_gpuls', 'preparation'),\n",
       "  76,\n",
       "  2.941176470588235,\n",
       "  0.8837209302325582,\n",
       "  3.5348837209302326),\n",
       " ('(669.0, 4518.0]_gpuls',\n",
       "  ('hazardous', '(52832.5, 2595650.0]_gene', 'preparation'),\n",
       "  76,\n",
       "  2.941176470588235,\n",
       "  0.8539325842696629,\n",
       "  3.4210260430276107),\n",
       " ('(52832.5, 2595650.0]_gene',\n",
       "  ('hazardous', '(669.0, 4518.0]_gpuls'),\n",
       "  77,\n",
       "  2.9798761609907123,\n",
       "  0.875,\n",
       "  3.5),\n",
       " ('(669.0, 4518.0]_gpuls',\n",
       "  ('hazardous', '(52832.5, 2595650.0]_gene'),\n",
       "  77,\n",
       "  2.9798761609907123,\n",
       "  0.8369565217391305,\n",
       "  3.353016514998315),\n",
       " ('preparation',\n",
       "  ('hazardous', '(669.0, 4518.0]_gpuls'),\n",
       "  86,\n",
       "  3.3281733746130033,\n",
       "  0.9772727272727273,\n",
       "  1.5185043459246705)]"
      ]
     },
     "execution_count": 30,
     "metadata": {},
     "output_type": "execute_result"
    }
   ],
   "source": [
    "rules[:5]\n",
    "#Supporto in val assoluto\n",
    "#Supporto in percentuale\n",
    "#confidenza\n",
    "#Lift"
   ]
  },
  {
   "cell_type": "code",
   "execution_count": 31,
   "id": "3c729b62-002f-4c81-a4cc-4bcf7bc63a63",
   "metadata": {},
   "outputs": [],
   "source": [
    "#A=np.zeros(0)\n",
    "#for a in range (0,403):\n",
    "#    if rules[a][0]==\"hazardous\":\n",
    "#        np.append(rules[a][0], rules[a][1])"
   ]
  },
  {
   "cell_type": "code",
   "execution_count": 32,
   "id": "1cc9ba89-e6f7-4084-9494-e8b9971894f5",
   "metadata": {},
   "outputs": [
    {
     "data": {
      "text/plain": [
       "0"
      ]
     },
     "execution_count": 32,
     "metadata": {},
     "output_type": "execute_result"
    }
   ],
   "source": [
    "K= []\n",
    "for a in range(0, len(rules)):\n",
    "    if rules[a][1] == \"hazardous\":\n",
    "        K.append(rules[a])\n",
    "K   \n",
    "len(K)"
   ]
  },
  {
   "cell_type": "code",
   "execution_count": 33,
   "id": "7914668b-ad5e-4455-92d9-9134f9aefae5",
   "metadata": {},
   "outputs": [],
   "source": [
    "for a in range(0, len(K)):\n",
    "    print(K[a][0], K[a][1])    "
   ]
  },
  {
   "cell_type": "code",
   "execution_count": 34,
   "id": "f5129968",
   "metadata": {},
   "outputs": [
    {
     "data": {
      "text/plain": [
       "('(52832.5, 2595650.0]_gene',\n",
       " ('hazardous', '(669.0, 4518.0]_gpuls', 'preparation'))"
      ]
     },
     "execution_count": 34,
     "metadata": {},
     "output_type": "execute_result"
    }
   ],
   "source": [
    "# <--\n",
    "rules[0][0], rules[0][1]"
   ]
  },
  {
   "cell_type": "code",
   "execution_count": 35,
   "id": "d39753a2",
   "metadata": {},
   "outputs": [
    {
     "data": {
      "text/plain": [
       "76"
      ]
     },
     "execution_count": 35,
     "metadata": {},
     "output_type": "execute_result"
    }
   ],
   "source": [
    "# asbolute support\n",
    "rules[0][2]"
   ]
  },
  {
   "cell_type": "code",
   "execution_count": 36,
   "id": "827e3808",
   "metadata": {},
   "outputs": [
    {
     "data": {
      "text/plain": [
       "2.941176470588235"
      ]
     },
     "execution_count": 36,
     "metadata": {},
     "output_type": "execute_result"
    }
   ],
   "source": [
    "# support as percentage\n",
    "rules[0][3]"
   ]
  },
  {
   "cell_type": "code",
   "execution_count": 37,
   "id": "57d5a001",
   "metadata": {},
   "outputs": [
    {
     "data": {
      "text/plain": [
       "0.8837209302325582"
      ]
     },
     "execution_count": 37,
     "metadata": {},
     "output_type": "execute_result"
    }
   ],
   "source": [
    "# confidence\n",
    "rules[0][4]"
   ]
  },
  {
   "cell_type": "code",
   "execution_count": 38,
   "id": "0d55aa1a",
   "metadata": {},
   "outputs": [
    {
     "data": {
      "text/plain": [
       "3.5348837209302326"
      ]
     },
     "execution_count": 38,
     "metadata": {},
     "output_type": "execute_result"
    }
   ],
   "source": [
    "# lift\n",
    "rules[0][5]"
   ]
  },
  {
   "cell_type": "code",
   "execution_count": 39,
   "id": "b6cc3967",
   "metadata": {},
   "outputs": [
    {
     "data": {
      "text/plain": [
       "[]"
      ]
     },
     "execution_count": 39,
     "metadata": {},
     "output_type": "execute_result"
    }
   ],
   "source": [
    "K= []\n",
    "for a in range(0, len(rules)):\n",
    "    if rules[a][0] == \"hazardous\":\n",
    "        K.append(rules[a])\n",
    "        \n",
    "K"
   ]
  },
  {
   "cell_type": "code",
   "execution_count": 40,
   "id": "77e9e314",
   "metadata": {},
   "outputs": [
    {
     "data": {
      "text/plain": [
       "('lack of hazard',\n",
       " ('(-0.009, 2.25]_bumps', 'non hazardous'),\n",
       " 1486,\n",
       " 57.50773993808049,\n",
       " 0.6757617098681219,\n",
       " 1.038149975207626)"
      ]
     },
     "execution_count": 40,
     "metadata": {},
     "output_type": "execute_result"
    }
   ],
   "source": [
    "for r in rules:\n",
    "    if r[0] == 'hazardous':\n",
    "        print(r)\n",
    "        \n",
    "r"
   ]
  },
  {
   "cell_type": "code",
   "execution_count": 41,
   "id": "3ef10736",
   "metadata": {},
   "outputs": [
    {
     "ename": "IndexError",
     "evalue": "list index out of range",
     "output_type": "error",
     "traceback": [
      "\u001b[0;31m---------------------------------------------------------------------------\u001b[0m",
      "\u001b[0;31mIndexError\u001b[0m                                Traceback (most recent call last)",
      "\u001b[0;32m<ipython-input-41-5f60143ff669>\u001b[0m in \u001b[0;36m<module>\u001b[0;34m\u001b[0m\n\u001b[0;32m----> 1\u001b[0;31m \u001b[0;34m[\u001b[0m\u001b[0mr\u001b[0m \u001b[0;32mfor\u001b[0m \u001b[0mr\u001b[0m \u001b[0;32min\u001b[0m \u001b[0mrules\u001b[0m \u001b[0;32mif\u001b[0m \u001b[0mr\u001b[0m\u001b[0;34m[\u001b[0m\u001b[0;36m0\u001b[0m\u001b[0;34m]\u001b[0m \u001b[0;34m==\u001b[0m \u001b[0;34m'hazardous'\u001b[0m\u001b[0;34m]\u001b[0m\u001b[0;34m[\u001b[0m\u001b[0;36m0\u001b[0m\u001b[0;34m]\u001b[0m\u001b[0;34m\u001b[0m\u001b[0;34m\u001b[0m\u001b[0m\n\u001b[0m",
      "\u001b[0;31mIndexError\u001b[0m: list index out of range"
     ]
    }
   ],
   "source": [
    "[r for r in rules if r[0] == 'hazardous'][0]"
   ]
  },
  {
   "cell_type": "code",
   "execution_count": null,
   "id": "b73e3b3a",
   "metadata": {},
   "outputs": [],
   "source": [
    "print( 'to_predict:', [r for r in rules if r[0] == 'hazardous'][0][0])\n",
    "print( 'how?', [r for r in rules if r[0] == 'hazardous'][0][1])"
   ]
  },
  {
   "cell_type": "code",
   "execution_count": null,
   "id": "d7f8c4cb",
   "metadata": {},
   "outputs": [],
   "source": [
    "# left for exercise\n",
    "\n",
    "# using the same test set for classification (w/ random_state):\n",
    "# predict the target variable with the most interesting rule:\n",
    "# .... e.g., the most frequent;\n",
    "# .... e.g., the one w/ max lift\n",
    "# build a list of prediction, e.g. ['Survived', 'Not Survived', 'Survived']\n",
    "# evaluate this prediction with precision/recall/confusion matrix etc."
   ]
  },
  {
   "cell_type": "code",
   "execution_count": null,
   "id": "e9e68ade",
   "metadata": {},
   "outputs": [],
   "source": [
    "len_r = []\n",
    "for i in range(1, 20+1): #support\n",
    "    len_r_wrt_i = []\n",
    "    for j in range(60, 80+1): #confidence\n",
    "        rules = apriori(X, target='r', supp=i, zmin=3, conf=j, report='aScl')\n",
    "        \n",
    "        len_r_wrt_i.append(len(rules)) # study your characteristics/properties here\n",
    "        \n",
    "    len_r.append(len_r_wrt_i)"
   ]
  },
  {
   "cell_type": "code",
   "execution_count": null,
   "id": "d149ca05",
   "metadata": {},
   "outputs": [],
   "source": [
    "plt.imshow( len_r, cmap='Blues', alpha=0.8 )\n",
    "plt.xlabel('%support', fontsize=20)\n",
    "plt.ylabel('%confidence', fontsize=20)\n",
    "plt.xticks(fontsize=20)\n",
    "plt.yticks( np.arange(0,20+1,4), np.arange(60,80+1,4), fontsize=20  )\n",
    "plt.colorbar()\n",
    "\n",
    "plt.show()"
   ]
  },
  {
   "cell_type": "code",
   "execution_count": null,
   "id": "8a1acaaf",
   "metadata": {},
   "outputs": [],
   "source": []
  }
 ],
 "metadata": {
  "kernelspec": {
   "display_name": "Python 3",
   "language": "python",
   "name": "python3"
  },
  "language_info": {
   "codemirror_mode": {
    "name": "ipython",
    "version": 3
   },
   "file_extension": ".py",
   "mimetype": "text/x-python",
   "name": "python",
   "nbconvert_exporter": "python",
   "pygments_lexer": "ipython3",
   "version": "3.8.8"
  }
 },
 "nbformat": 4,
 "nbformat_minor": 5
}
