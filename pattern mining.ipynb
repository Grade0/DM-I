{
 "cells": [
  {
   "cell_type": "code",
   "execution_count": 1,
   "id": "738c0acd",
   "metadata": {},
   "outputs": [],
   "source": [
    "import numpy as np\n",
    "import pandas as pd\n",
    "\n",
    "import matplotlib.pyplot as plt\n",
    "%matplotlib inline"
   ]
  },
  {
   "cell_type": "code",
   "execution_count": 2,
   "id": "a812fa27",
   "metadata": {},
   "outputs": [],
   "source": [
    "df = pd.read_csv(\"seismic-bumps.csv\")"
   ]
  },
  {
   "cell_type": "code",
   "execution_count": 3,
   "id": "05d22e15",
   "metadata": {},
   "outputs": [
    {
     "data": {
      "text/html": [
       "<div>\n",
       "<style scoped>\n",
       "    .dataframe tbody tr th:only-of-type {\n",
       "        vertical-align: middle;\n",
       "    }\n",
       "\n",
       "    .dataframe tbody tr th {\n",
       "        vertical-align: top;\n",
       "    }\n",
       "\n",
       "    .dataframe thead th {\n",
       "        text-align: right;\n",
       "    }\n",
       "</style>\n",
       "<table border=\"1\" class=\"dataframe\">\n",
       "  <thead>\n",
       "    <tr style=\"text-align: right;\">\n",
       "      <th></th>\n",
       "      <th>seismic</th>\n",
       "      <th>seismoacoustic</th>\n",
       "      <th>shift</th>\n",
       "      <th>genergy</th>\n",
       "      <th>gpuls</th>\n",
       "      <th>gdenergy</th>\n",
       "      <th>gdpuls</th>\n",
       "      <th>hazard</th>\n",
       "      <th>nbumps</th>\n",
       "      <th>nbumps2</th>\n",
       "      <th>nbumps3</th>\n",
       "      <th>nbumps4</th>\n",
       "      <th>nbumps5</th>\n",
       "      <th>nbumps6</th>\n",
       "      <th>nbumps7</th>\n",
       "      <th>nbumps89</th>\n",
       "      <th>energy</th>\n",
       "      <th>maxenergy</th>\n",
       "      <th>class</th>\n",
       "    </tr>\n",
       "  </thead>\n",
       "  <tbody>\n",
       "    <tr>\n",
       "      <th>0</th>\n",
       "      <td>a</td>\n",
       "      <td>a</td>\n",
       "      <td>N</td>\n",
       "      <td>15180</td>\n",
       "      <td>48</td>\n",
       "      <td>-72</td>\n",
       "      <td>-72</td>\n",
       "      <td>a</td>\n",
       "      <td>0</td>\n",
       "      <td>0</td>\n",
       "      <td>0</td>\n",
       "      <td>0</td>\n",
       "      <td>0</td>\n",
       "      <td>0</td>\n",
       "      <td>0</td>\n",
       "      <td>0</td>\n",
       "      <td>0</td>\n",
       "      <td>0</td>\n",
       "      <td>0</td>\n",
       "    </tr>\n",
       "    <tr>\n",
       "      <th>1</th>\n",
       "      <td>a</td>\n",
       "      <td>a</td>\n",
       "      <td>N</td>\n",
       "      <td>14720</td>\n",
       "      <td>33</td>\n",
       "      <td>-70</td>\n",
       "      <td>-79</td>\n",
       "      <td>a</td>\n",
       "      <td>1</td>\n",
       "      <td>0</td>\n",
       "      <td>1</td>\n",
       "      <td>0</td>\n",
       "      <td>0</td>\n",
       "      <td>0</td>\n",
       "      <td>0</td>\n",
       "      <td>0</td>\n",
       "      <td>2000</td>\n",
       "      <td>2000</td>\n",
       "      <td>0</td>\n",
       "    </tr>\n",
       "    <tr>\n",
       "      <th>2</th>\n",
       "      <td>a</td>\n",
       "      <td>a</td>\n",
       "      <td>N</td>\n",
       "      <td>8050</td>\n",
       "      <td>30</td>\n",
       "      <td>-81</td>\n",
       "      <td>-78</td>\n",
       "      <td>a</td>\n",
       "      <td>0</td>\n",
       "      <td>0</td>\n",
       "      <td>0</td>\n",
       "      <td>0</td>\n",
       "      <td>0</td>\n",
       "      <td>0</td>\n",
       "      <td>0</td>\n",
       "      <td>0</td>\n",
       "      <td>0</td>\n",
       "      <td>0</td>\n",
       "      <td>0</td>\n",
       "    </tr>\n",
       "    <tr>\n",
       "      <th>3</th>\n",
       "      <td>a</td>\n",
       "      <td>a</td>\n",
       "      <td>N</td>\n",
       "      <td>28820</td>\n",
       "      <td>171</td>\n",
       "      <td>-23</td>\n",
       "      <td>40</td>\n",
       "      <td>a</td>\n",
       "      <td>1</td>\n",
       "      <td>0</td>\n",
       "      <td>1</td>\n",
       "      <td>0</td>\n",
       "      <td>0</td>\n",
       "      <td>0</td>\n",
       "      <td>0</td>\n",
       "      <td>0</td>\n",
       "      <td>3000</td>\n",
       "      <td>3000</td>\n",
       "      <td>0</td>\n",
       "    </tr>\n",
       "    <tr>\n",
       "      <th>4</th>\n",
       "      <td>a</td>\n",
       "      <td>a</td>\n",
       "      <td>N</td>\n",
       "      <td>12640</td>\n",
       "      <td>57</td>\n",
       "      <td>-63</td>\n",
       "      <td>-52</td>\n",
       "      <td>a</td>\n",
       "      <td>0</td>\n",
       "      <td>0</td>\n",
       "      <td>0</td>\n",
       "      <td>0</td>\n",
       "      <td>0</td>\n",
       "      <td>0</td>\n",
       "      <td>0</td>\n",
       "      <td>0</td>\n",
       "      <td>0</td>\n",
       "      <td>0</td>\n",
       "      <td>0</td>\n",
       "    </tr>\n",
       "  </tbody>\n",
       "</table>\n",
       "</div>"
      ],
      "text/plain": [
       "  seismic seismoacoustic shift  genergy  gpuls  gdenergy  gdpuls hazard  \\\n",
       "0       a              a     N    15180     48       -72     -72      a   \n",
       "1       a              a     N    14720     33       -70     -79      a   \n",
       "2       a              a     N     8050     30       -81     -78      a   \n",
       "3       a              a     N    28820    171       -23      40      a   \n",
       "4       a              a     N    12640     57       -63     -52      a   \n",
       "\n",
       "   nbumps  nbumps2  nbumps3  nbumps4  nbumps5  nbumps6  nbumps7  nbumps89  \\\n",
       "0       0        0        0        0        0        0        0         0   \n",
       "1       1        0        1        0        0        0        0         0   \n",
       "2       0        0        0        0        0        0        0         0   \n",
       "3       1        0        1        0        0        0        0         0   \n",
       "4       0        0        0        0        0        0        0         0   \n",
       "\n",
       "   energy  maxenergy  class  \n",
       "0       0          0      0  \n",
       "1    2000       2000      0  \n",
       "2       0          0      0  \n",
       "3    3000       3000      0  \n",
       "4       0          0      0  "
      ]
     },
     "execution_count": 3,
     "metadata": {},
     "output_type": "execute_result"
    }
   ],
   "source": [
    "df.head()"
   ]
  },
  {
   "cell_type": "markdown",
   "id": "e741ffb0",
   "metadata": {},
   "source": [
    "## Feature preprocessing (light)"
   ]
  },
  {
   "cell_type": "code",
   "execution_count": 4,
   "id": "5e0c3e4b",
   "metadata": {},
   "outputs": [],
   "source": [
    "#remove useless variables from the dataset\n",
    "column2drop = ['seismoacoustic', 'gdpuls', 'hazard','nbumps2', 'nbumps3', 'nbumps4', 'nbumps5', 'nbumps6', 'nbumps7', 'nbumps89', 'energy', 'maxenergy']\n",
    "df.drop(column2drop, axis=1, inplace=True)"
   ]
  },
  {
   "cell_type": "code",
   "execution_count": 5,
   "id": "265ed998",
   "metadata": {},
   "outputs": [
    {
     "data": {
      "text/html": [
       "<div>\n",
       "<style scoped>\n",
       "    .dataframe tbody tr th:only-of-type {\n",
       "        vertical-align: middle;\n",
       "    }\n",
       "\n",
       "    .dataframe tbody tr th {\n",
       "        vertical-align: top;\n",
       "    }\n",
       "\n",
       "    .dataframe thead th {\n",
       "        text-align: right;\n",
       "    }\n",
       "</style>\n",
       "<table border=\"1\" class=\"dataframe\">\n",
       "  <thead>\n",
       "    <tr style=\"text-align: right;\">\n",
       "      <th></th>\n",
       "      <th>seismic</th>\n",
       "      <th>shift</th>\n",
       "      <th>genergy</th>\n",
       "      <th>gpuls</th>\n",
       "      <th>gdenergy</th>\n",
       "      <th>nbumps</th>\n",
       "      <th>class</th>\n",
       "    </tr>\n",
       "  </thead>\n",
       "  <tbody>\n",
       "    <tr>\n",
       "      <th>0</th>\n",
       "      <td>a</td>\n",
       "      <td>N</td>\n",
       "      <td>15180</td>\n",
       "      <td>48</td>\n",
       "      <td>-72</td>\n",
       "      <td>0</td>\n",
       "      <td>0</td>\n",
       "    </tr>\n",
       "    <tr>\n",
       "      <th>1</th>\n",
       "      <td>a</td>\n",
       "      <td>N</td>\n",
       "      <td>14720</td>\n",
       "      <td>33</td>\n",
       "      <td>-70</td>\n",
       "      <td>1</td>\n",
       "      <td>0</td>\n",
       "    </tr>\n",
       "    <tr>\n",
       "      <th>2</th>\n",
       "      <td>a</td>\n",
       "      <td>N</td>\n",
       "      <td>8050</td>\n",
       "      <td>30</td>\n",
       "      <td>-81</td>\n",
       "      <td>0</td>\n",
       "      <td>0</td>\n",
       "    </tr>\n",
       "    <tr>\n",
       "      <th>3</th>\n",
       "      <td>a</td>\n",
       "      <td>N</td>\n",
       "      <td>28820</td>\n",
       "      <td>171</td>\n",
       "      <td>-23</td>\n",
       "      <td>1</td>\n",
       "      <td>0</td>\n",
       "    </tr>\n",
       "    <tr>\n",
       "      <th>4</th>\n",
       "      <td>a</td>\n",
       "      <td>N</td>\n",
       "      <td>12640</td>\n",
       "      <td>57</td>\n",
       "      <td>-63</td>\n",
       "      <td>0</td>\n",
       "      <td>0</td>\n",
       "    </tr>\n",
       "  </tbody>\n",
       "</table>\n",
       "</div>"
      ],
      "text/plain": [
       "  seismic shift  genergy  gpuls  gdenergy  nbumps  class\n",
       "0       a     N    15180     48       -72       0      0\n",
       "1       a     N    14720     33       -70       1      0\n",
       "2       a     N     8050     30       -81       0      0\n",
       "3       a     N    28820    171       -23       1      0\n",
       "4       a     N    12640     57       -63       0      0"
      ]
     },
     "execution_count": 5,
     "metadata": {},
     "output_type": "execute_result"
    }
   ],
   "source": [
    "df.head()"
   ]
  },
  {
   "cell_type": "markdown",
   "id": "0094a39e",
   "metadata": {},
   "source": [
    "## Pattern mining preprocessing"
   ]
  },
  {
   "cell_type": "code",
   "execution_count": 6,
   "id": "b8035880",
   "metadata": {},
   "outputs": [],
   "source": [
    "#numero tra parentesi è numero di bin, divide in quartili\n",
    "df['genergyBin'] = pd.qcut(df['genergy'], 4)\n",
    "df['gpulsBin'] = pd.qcut(df['gpuls'], 4)\n",
    "df['gdenergyBin'] = pd.qcut(df['gdenergy'], 4)\n",
    "\n",
    "df.drop(['gdenergy', 'genergy', 'gpuls'], axis=1, inplace=True)"
   ]
  },
  {
   "cell_type": "code",
   "execution_count": 7,
   "id": "b1429a30",
   "metadata": {},
   "outputs": [
    {
     "data": {
      "text/html": [
       "<div>\n",
       "<style scoped>\n",
       "    .dataframe tbody tr th:only-of-type {\n",
       "        vertical-align: middle;\n",
       "    }\n",
       "\n",
       "    .dataframe tbody tr th {\n",
       "        vertical-align: top;\n",
       "    }\n",
       "\n",
       "    .dataframe thead th {\n",
       "        text-align: right;\n",
       "    }\n",
       "</style>\n",
       "<table border=\"1\" class=\"dataframe\">\n",
       "  <thead>\n",
       "    <tr style=\"text-align: right;\">\n",
       "      <th></th>\n",
       "      <th>seismic</th>\n",
       "      <th>shift</th>\n",
       "      <th>nbumps</th>\n",
       "      <th>class</th>\n",
       "      <th>genergyBin</th>\n",
       "      <th>gpulsBin</th>\n",
       "      <th>gdenergyBin</th>\n",
       "    </tr>\n",
       "  </thead>\n",
       "  <tbody>\n",
       "    <tr>\n",
       "      <th>0</th>\n",
       "      <td>a</td>\n",
       "      <td>N</td>\n",
       "      <td>0</td>\n",
       "      <td>0</td>\n",
       "      <td>(11660.0, 25485.0]</td>\n",
       "      <td>(1.999, 190.0]</td>\n",
       "      <td>(-96.001, -37.0]</td>\n",
       "    </tr>\n",
       "    <tr>\n",
       "      <th>1</th>\n",
       "      <td>a</td>\n",
       "      <td>N</td>\n",
       "      <td>1</td>\n",
       "      <td>0</td>\n",
       "      <td>(11660.0, 25485.0]</td>\n",
       "      <td>(1.999, 190.0]</td>\n",
       "      <td>(-96.001, -37.0]</td>\n",
       "    </tr>\n",
       "    <tr>\n",
       "      <th>2</th>\n",
       "      <td>a</td>\n",
       "      <td>N</td>\n",
       "      <td>0</td>\n",
       "      <td>0</td>\n",
       "      <td>(99.999, 11660.0]</td>\n",
       "      <td>(1.999, 190.0]</td>\n",
       "      <td>(-96.001, -37.0]</td>\n",
       "    </tr>\n",
       "    <tr>\n",
       "      <th>3</th>\n",
       "      <td>a</td>\n",
       "      <td>N</td>\n",
       "      <td>1</td>\n",
       "      <td>0</td>\n",
       "      <td>(25485.0, 52832.5]</td>\n",
       "      <td>(1.999, 190.0]</td>\n",
       "      <td>(-37.0, -6.0]</td>\n",
       "    </tr>\n",
       "    <tr>\n",
       "      <th>4</th>\n",
       "      <td>a</td>\n",
       "      <td>N</td>\n",
       "      <td>0</td>\n",
       "      <td>0</td>\n",
       "      <td>(11660.0, 25485.0]</td>\n",
       "      <td>(1.999, 190.0]</td>\n",
       "      <td>(-96.001, -37.0]</td>\n",
       "    </tr>\n",
       "  </tbody>\n",
       "</table>\n",
       "</div>"
      ],
      "text/plain": [
       "  seismic shift  nbumps  class          genergyBin        gpulsBin  \\\n",
       "0       a     N       0      0  (11660.0, 25485.0]  (1.999, 190.0]   \n",
       "1       a     N       1      0  (11660.0, 25485.0]  (1.999, 190.0]   \n",
       "2       a     N       0      0   (99.999, 11660.0]  (1.999, 190.0]   \n",
       "3       a     N       1      0  (25485.0, 52832.5]  (1.999, 190.0]   \n",
       "4       a     N       0      0  (11660.0, 25485.0]  (1.999, 190.0]   \n",
       "\n",
       "        gdenergyBin  \n",
       "0  (-96.001, -37.0]  \n",
       "1  (-96.001, -37.0]  \n",
       "2  (-96.001, -37.0]  \n",
       "3     (-37.0, -6.0]  \n",
       "4  (-96.001, -37.0]  "
      ]
     },
     "execution_count": 7,
     "metadata": {},
     "output_type": "execute_result"
    }
   ],
   "source": [
    "df.head()"
   ]
  },
  {
   "cell_type": "code",
   "execution_count": 8,
   "id": "d8a2b02c",
   "metadata": {},
   "outputs": [],
   "source": [
    "df['genergyBin'] = df['genergyBin'].astype(str) + '_gene'\n",
    "df['gdenergyBin'] = df['gdenergyBin'].astype(str) + '_gdene'\n",
    "df['gpulsBin'] = df['gpulsBin'].astype(str) + '_gpuls'"
   ]
  },
  {
   "cell_type": "code",
   "execution_count": 9,
   "id": "bc2511b3",
   "metadata": {},
   "outputs": [],
   "source": [
    "class_dict = {0: 'non hazardous', 1: 'hazardous'}\n",
    "df['class'] = df['class'].map(class_dict)"
   ]
  },
  {
   "cell_type": "code",
   "execution_count": 10,
   "id": "232cf746",
   "metadata": {},
   "outputs": [],
   "source": [
    "# Transform categorical attributes ('seismic' and 'shift') into numerical ones \n",
    "from sklearn.preprocessing import LabelEncoder\n",
    "le = LabelEncoder()\n",
    "\n",
    "df['seismic'] = le.fit_transform(df['seismic'])\n",
    "df['shift'] = le.fit_transform(df['shift'])"
   ]
  },
  {
   "cell_type": "code",
   "execution_count": 11,
   "id": "09ecc4a3",
   "metadata": {},
   "outputs": [],
   "source": [
    "seismic_dict = {0: 'lack of hazard', 1: 'low hazard'}\n",
    "df['seismic'] = df['seismic'].map(seismic_dict)\n",
    "\n",
    "shift_dict = {0: 'coal-getting', 1: 'preparation'}\n",
    "df['shift'] = df['shift'].map(shift_dict)"
   ]
  },
  {
   "cell_type": "code",
   "execution_count": 12,
   "id": "4f2099a9",
   "metadata": {},
   "outputs": [
    {
     "data": {
      "text/html": [
       "<div>\n",
       "<style scoped>\n",
       "    .dataframe tbody tr th:only-of-type {\n",
       "        vertical-align: middle;\n",
       "    }\n",
       "\n",
       "    .dataframe tbody tr th {\n",
       "        vertical-align: top;\n",
       "    }\n",
       "\n",
       "    .dataframe thead th {\n",
       "        text-align: right;\n",
       "    }\n",
       "</style>\n",
       "<table border=\"1\" class=\"dataframe\">\n",
       "  <thead>\n",
       "    <tr style=\"text-align: right;\">\n",
       "      <th></th>\n",
       "      <th>seismic</th>\n",
       "      <th>shift</th>\n",
       "      <th>nbumps</th>\n",
       "      <th>class</th>\n",
       "      <th>genergyBin</th>\n",
       "      <th>gpulsBin</th>\n",
       "      <th>gdenergyBin</th>\n",
       "    </tr>\n",
       "  </thead>\n",
       "  <tbody>\n",
       "    <tr>\n",
       "      <th>0</th>\n",
       "      <td>lack of hazard</td>\n",
       "      <td>coal-getting</td>\n",
       "      <td>0</td>\n",
       "      <td>non hazardous</td>\n",
       "      <td>(11660.0, 25485.0]_gene</td>\n",
       "      <td>(1.999, 190.0]_gpuls</td>\n",
       "      <td>(-96.001, -37.0]_gdene</td>\n",
       "    </tr>\n",
       "    <tr>\n",
       "      <th>1</th>\n",
       "      <td>lack of hazard</td>\n",
       "      <td>coal-getting</td>\n",
       "      <td>1</td>\n",
       "      <td>non hazardous</td>\n",
       "      <td>(11660.0, 25485.0]_gene</td>\n",
       "      <td>(1.999, 190.0]_gpuls</td>\n",
       "      <td>(-96.001, -37.0]_gdene</td>\n",
       "    </tr>\n",
       "    <tr>\n",
       "      <th>2</th>\n",
       "      <td>lack of hazard</td>\n",
       "      <td>coal-getting</td>\n",
       "      <td>0</td>\n",
       "      <td>non hazardous</td>\n",
       "      <td>(99.999, 11660.0]_gene</td>\n",
       "      <td>(1.999, 190.0]_gpuls</td>\n",
       "      <td>(-96.001, -37.0]_gdene</td>\n",
       "    </tr>\n",
       "    <tr>\n",
       "      <th>3</th>\n",
       "      <td>lack of hazard</td>\n",
       "      <td>coal-getting</td>\n",
       "      <td>1</td>\n",
       "      <td>non hazardous</td>\n",
       "      <td>(25485.0, 52832.5]_gene</td>\n",
       "      <td>(1.999, 190.0]_gpuls</td>\n",
       "      <td>(-37.0, -6.0]_gdene</td>\n",
       "    </tr>\n",
       "    <tr>\n",
       "      <th>4</th>\n",
       "      <td>lack of hazard</td>\n",
       "      <td>coal-getting</td>\n",
       "      <td>0</td>\n",
       "      <td>non hazardous</td>\n",
       "      <td>(11660.0, 25485.0]_gene</td>\n",
       "      <td>(1.999, 190.0]_gpuls</td>\n",
       "      <td>(-96.001, -37.0]_gdene</td>\n",
       "    </tr>\n",
       "  </tbody>\n",
       "</table>\n",
       "</div>"
      ],
      "text/plain": [
       "          seismic         shift  nbumps          class  \\\n",
       "0  lack of hazard  coal-getting       0  non hazardous   \n",
       "1  lack of hazard  coal-getting       1  non hazardous   \n",
       "2  lack of hazard  coal-getting       0  non hazardous   \n",
       "3  lack of hazard  coal-getting       1  non hazardous   \n",
       "4  lack of hazard  coal-getting       0  non hazardous   \n",
       "\n",
       "                genergyBin              gpulsBin             gdenergyBin  \n",
       "0  (11660.0, 25485.0]_gene  (1.999, 190.0]_gpuls  (-96.001, -37.0]_gdene  \n",
       "1  (11660.0, 25485.0]_gene  (1.999, 190.0]_gpuls  (-96.001, -37.0]_gdene  \n",
       "2   (99.999, 11660.0]_gene  (1.999, 190.0]_gpuls  (-96.001, -37.0]_gdene  \n",
       "3  (25485.0, 52832.5]_gene  (1.999, 190.0]_gpuls     (-37.0, -6.0]_gdene  \n",
       "4  (11660.0, 25485.0]_gene  (1.999, 190.0]_gpuls  (-96.001, -37.0]_gdene  "
      ]
     },
     "execution_count": 12,
     "metadata": {},
     "output_type": "execute_result"
    }
   ],
   "source": [
    "df.head()"
   ]
  },
  {
   "cell_type": "code",
   "execution_count": 13,
   "id": "bb5a528d",
   "metadata": {},
   "outputs": [],
   "source": [
    "X = df.values.tolist()"
   ]
  },
  {
   "cell_type": "code",
   "execution_count": 14,
   "id": "3deb352f",
   "metadata": {},
   "outputs": [
    {
     "data": {
      "text/plain": [
       "['lack of hazard',\n",
       " 'coal-getting',\n",
       " 0,\n",
       " 'non hazardous',\n",
       " '(11660.0, 25485.0]_gene',\n",
       " '(1.999, 190.0]_gpuls',\n",
       " '(-96.001, -37.0]_gdene']"
      ]
     },
     "execution_count": 14,
     "metadata": {},
     "output_type": "execute_result"
    }
   ],
   "source": [
    "X[0]"
   ]
  },
  {
   "cell_type": "code",
   "execution_count": null,
   "id": "fb200a17",
   "metadata": {},
   "outputs": [],
   "source": [
    "Y = df.values\n",
    "Z = Y[df['class']=='hazardous']\n",
    "Z"
   ]
  },
  {
   "cell_type": "code",
   "execution_count": 15,
   "id": "ff56abf4",
   "metadata": {},
   "outputs": [],
   "source": [
    "#!pip install pyfim\n",
    "from fim import apriori"
   ]
  },
  {
   "cell_type": "code",
   "execution_count": 16,
   "id": "0122bd50",
   "metadata": {},
   "outputs": [
    {
     "name": "stdout",
     "output_type": "stream",
     "text": [
      "Help on built-in function apriori in module fim:\n",
      "\n",
      "apriori(...)\n",
      "    apriori (tracts, target='s', supp=10, zmin=1, zmax=None, report='a',\n",
      "             eval='x', agg='x', thresh=10, prune=None, algo='b', mode='',\n",
      "             border=None)\n",
      "    Find frequent item sets with the Apriori algorithm.\n",
      "    tracts  transaction database to mine (mandatory)\n",
      "            The database must be an iterable of transactions;\n",
      "            each transaction must be an iterable of items;\n",
      "            each item must be a hashable object.\n",
      "            If the database is a dictionary, the transactions are\n",
      "            the keys, the values their (integer) multiplicities.\n",
      "    target  type of frequent item sets to find     (default: s)\n",
      "            s/a   sets/all   all     frequent item sets\n",
      "            c     closed     closed  frequent item sets\n",
      "            m     maximal    maximal frequent item sets\n",
      "            g     gens       generators\n",
      "            r     rules      association rules\n",
      "    supp    minimum support of an item set         (default: 10)\n",
      "            (positive: percentage, negative: absolute number)\n",
      "    conf    minimum confidence of an assoc. rule   (default: 80%)\n",
      "    zmin    minimum number of items per item set   (default: 1)\n",
      "    zmax    maximum number of items per item set   (default: no limit)\n",
      "    report  values to report with an item set      (default: a)\n",
      "            a     absolute item set support (number of transactions)\n",
      "            s     relative item set support as a fraction\n",
      "            S     relative item set support as a percentage\n",
      "            e     value of item set evaluation measure\n",
      "            E     value of item set evaluation measure as a percentage\n",
      "            (     combine values in a tuple (must be first character)\n",
      "            [     combine values in a list  (must be first character)\n",
      "            #     pattern spectrum as a dictionary  (no patterns)\n",
      "            =     pattern spectrum as a list        (no patterns)\n",
      "            |     pattern spectrum as three columns (no patterns)\n",
      "            for target 'r' (association rules) also available:\n",
      "            b     absolute body set  support (number of transactions)\n",
      "            x     relative body set  support as a fraction\n",
      "            X     relative body set  support as a percentage\n",
      "            h     absolute head item support (number of transactions)\n",
      "            y     relative head item support as a fraction\n",
      "            Y     relative head item support as a percentage\n",
      "            c     rule confidence as a fraction\n",
      "            C     rule confidence as a percentage\n",
      "            l     lift value of a rule (confidence/prior)\n",
      "            L     lift value of a rule as a percentage\n",
      "            Q     support of the empty set (total number of transactions)\n",
      "    eval    measure for item set evaluation        (default: x)\n",
      "            x     none       no measure / zero (default)\n",
      "            b     ldratio    binary logarithm of support quotient       (+)\n",
      "            c     conf       rule confidence                            (+)\n",
      "            d     confdiff   absolute confidence difference to prior    (+)\n",
      "            l     lift       lift value (confidence divided by prior)   (+)\n",
      "            a     liftdiff   absolute difference of lift value to 1     (+)\n",
      "            q     liftquot   difference of lift quotient to 1           (+)\n",
      "            v     cvct       conviction (inverse lift for negated head) (+)\n",
      "            e     cvctdiff   absolute difference of conviction to 1     (+)\n",
      "            r     cvctquot   difference of conviction quotient to 1     (+)\n",
      "            k     cprob      conditional probability ratio              (+)\n",
      "            j     import     importance (binary log. of prob. ratio)    (+)\n",
      "            z     cert       certainty factor (relative conf. change)   (+)\n",
      "            n     chi2       normalized chi^2 measure                   (+)\n",
      "            p     chi2pval   p-value from (unnormalized) chi^2 measure  (-)\n",
      "            y     yates      normalized chi^2 with Yates' correction    (+)\n",
      "            t     yatespval  p-value from Yates-corrected chi^2 measure (-)\n",
      "            i     info       information difference to prior            (+)\n",
      "            g     infopval   p-value from G statistic/info. difference  (-)\n",
      "            f     fetprob    Fisher's exact test (table probability)    (-)\n",
      "            h     fetchi2    Fisher's exact test (chi^2 measure)        (-)\n",
      "            m     fetinfo    Fisher's exact test (mutual information)   (-)\n",
      "            s     fetsupp    Fisher's exact test (support)              (-)\n",
      "            Measures marked with (+) must meet or exceed the threshold,\n",
      "            measures marked with (-) must not exceed the threshold\n",
      "            in order for the item set to be reported.\n",
      "    agg     evaluation measure aggregation mode    (default: x)\n",
      "            x     none       no aggregation (use first value)\n",
      "            m     min        minimum of individual measure values\n",
      "            n     max        maximum of individual measure values\n",
      "            a     avg        average of individual measure values\n",
      "    thresh  threshold for evaluation measure       (default: 10%)\n",
      "    prune   min. size for evaluation filtering     (default: no pruning)\n",
      "            = 0   backward filtering       (no subset check)\n",
      "            < 0   weak   forward filtering (one subset  must qualify)\n",
      "            > 0   strong forward filtering (all subsets must qualify)\n",
      "    algo    algorithm variant to use               (default: a)\n",
      "            b     basic      standard algorithm (only choice)\n",
      "    mode    operation mode indicators/flags        (default: None)\n",
      "            x     do not use perfect extension pruning\n",
      "            t/T   do not organize transactions as a prefix tree\n",
      "            y     a-posteriori pruning of infrequent item sets\n",
      "            z     invalidate evaluation below expected support\n",
      "            o     use original rule support definition (body & head)\n",
      "    border  support border for filtering item sets (default: None)\n",
      "            Must be a list or tuple of (absolute) minimum support values\n",
      "            per item set size (by which the list/tuple is indexed).\n",
      "    appear  dictionary mapping items to item appearance indicators,\n",
      "            with the key None referring to the default item appearance.\n",
      "            (If None does not occur as a key or no dictionary is given,\n",
      "            the default item appearance indicator is 'both'.)\n",
      "            This parameter is only used if the target type is rules.\n",
      "            * item may not appear anywhere in a rule:\n",
      "              '-', 'n', 'none', 'neither', 'ignore'\n",
      "            * item may appear only in rule body/antecedent:\n",
      "              'i', 'in', 'inp', 'input', 'b', 'body',\n",
      "              'a', 'ante', 'antecedent'\n",
      "            * item may appear only in rule head/consequent:\n",
      "              'o', 'out',      'output', 'h', 'head',\n",
      "              'c', 'cons', 'consequent'\n",
      "            * item may appear anywhere in a rule:\n",
      "              'io', 'i&o', 'inout', 'in&out', 'bh', 'b&h', 'both'\n",
      "    returns if report is not in ['#','=','|']:\n",
      "              if the target is association rules:\n",
      "                a list of rules (i.e. tuples with two or more elements),\n",
      "                each consisting of a head/consequent item, a tuple with\n",
      "                a body/antecedent item set, and the values selected by\n",
      "                the parameter 'report', which may be combined into a\n",
      "                tuple or a list if report[0] is '(' or '[', respectively.\n",
      "              if the target is a type of item sets:\n",
      "                a list of patterns (i.e. tuples with one or more elements),\n",
      "                each consisting of a tuple with a found frequent item set\n",
      "                and the values selected by the parameter 'report', which\n",
      "                may be combined into a tuple or list if report[0] is '('\n",
      "                or '[', respectively\n",
      "            if report in ['#','=','|']:\n",
      "              a pattern spectrum as a dictionary mapping pattern sizes\n",
      "              to the corresponding occurrence support ranges, as a list\n",
      "              of triplets (size, min. support, max. support) or as three\n",
      "              columns for sizes and minimum and maximum support values\n",
      "\n"
     ]
    }
   ],
   "source": [
    "help(apriori)"
   ]
  },
  {
   "cell_type": "code",
   "execution_count": 17,
   "id": "cc120469",
   "metadata": {},
   "outputs": [],
   "source": [
    "#supp=2 ; 0.02\n",
    "#supp=20 ; 0.2\n",
    "\n",
    "itemsets = apriori(X, target='s', supp=2, zmin=3, report='S')"
   ]
  },
  {
   "cell_type": "code",
   "execution_count": 18,
   "id": "91c6ebfa",
   "metadata": {},
   "outputs": [
    {
     "data": {
      "text/plain": [
       "[((4, 'non hazardous', 'preparation'), 2.28328173374613),\n",
       " ((3, '(669.0, 4518.0]_gpuls', '(52832.5, 2595650.0]_gene'),\n",
       "  2.2058823529411766),\n",
       " ((3, '(669.0, 4518.0]_gpuls', '(52832.5, 2595650.0]_gene', 'preparation'),\n",
       "  2.1671826625387),\n",
       " ((3, '(669.0, 4518.0]_gpuls', 'preparation'), 2.28328173374613),\n",
       " ((3, '(52832.5, 2595650.0]_gene', 'preparation'), 2.825077399380805)]"
      ]
     },
     "execution_count": 18,
     "metadata": {},
     "output_type": "execute_result"
    }
   ],
   "source": [
    "itemsets[:5]"
   ]
  },
  {
   "cell_type": "code",
   "execution_count": 19,
   "id": "27ea8fb6",
   "metadata": {},
   "outputs": [
    {
     "data": {
      "text/plain": [
       "(4, 'non hazardous', 'preparation')"
      ]
     },
     "execution_count": 19,
     "metadata": {},
     "output_type": "execute_result"
    }
   ],
   "source": [
    "# frequent itemset\n",
    "itemsets[0][0]"
   ]
  },
  {
   "cell_type": "code",
   "execution_count": 20,
   "id": "187e0083",
   "metadata": {},
   "outputs": [
    {
     "data": {
      "text/plain": [
       "2.28328173374613"
      ]
     },
     "execution_count": 20,
     "metadata": {},
     "output_type": "execute_result"
    }
   ],
   "source": [
    "# support\n",
    "itemsets[0][1]"
   ]
  },
  {
   "cell_type": "code",
   "execution_count": 21,
   "id": "355d068e",
   "metadata": {},
   "outputs": [],
   "source": [
    "#maximal\n",
    "itemsets = apriori(X, target='m', supp=2, zmin=3, report='S')"
   ]
  },
  {
   "cell_type": "code",
   "execution_count": 22,
   "id": "cc2c0ebc",
   "metadata": {},
   "outputs": [
    {
     "data": {
      "text/plain": [
       "[((4, 'preparation', 'non hazardous'), 2.28328173374613),\n",
       " ((3, '(669.0, 4518.0]_gpuls', '(52832.5, 2595650.0]_gene', 'preparation'),\n",
       "  2.1671826625387),\n",
       " ((3, '(52832.5, 2595650.0]_gene', 'non hazardous'), 2.0123839009287927),\n",
       " ((3, 'low hazard', 'preparation'), 2.4380804953560373),\n",
       " ((3, 'preparation', 'lack of hazard'), 2.244582043343653)]"
      ]
     },
     "execution_count": 22,
     "metadata": {},
     "output_type": "execute_result"
    }
   ],
   "source": [
    "itemsets[:5]"
   ]
  },
  {
   "cell_type": "code",
   "execution_count": 23,
   "id": "5325f9a3",
   "metadata": {},
   "outputs": [
    {
     "data": {
      "text/plain": [
       "(4, 'preparation', 'non hazardous')"
      ]
     },
     "execution_count": 23,
     "metadata": {},
     "output_type": "execute_result"
    }
   ],
   "source": [
    "itemsets[0][0]"
   ]
  },
  {
   "cell_type": "code",
   "execution_count": 24,
   "id": "c80a4d6b",
   "metadata": {},
   "outputs": [
    {
     "data": {
      "image/png": "[encoded data removed]",
      "text/plain": [
       "<Figure size 432x288 with 1 Axes>"
      ]
     },
     "metadata": {
      "needs_background": "light"
     },
     "output_type": "display_data"
    }
   ],
   "source": [
    "len_max_it = []\n",
    "len_cl_it = []\n",
    "for i in range(2, 20+1):\n",
    "    max_itemsets = apriori(X, target='m', supp=i, zmin=3)\n",
    "    cl_itemsets = apriori(X, target='c', supp=i, zmin=3)\n",
    "    len_max_it.append( len(max_itemsets)  )\n",
    "    len_cl_it.append( len(cl_itemsets) )\n",
    "    \n",
    "plt.plot(len_max_it, label='maximal')\n",
    "plt.plot(len_cl_it, label='closed')\n",
    "plt.legend(fontsize=20)\n",
    "plt.xticks(fontsize=20)\n",
    "plt.xlabel('%support', fontsize=15)\n",
    "\n",
    "plt.show()"
   ]
  },
  {
   "cell_type": "code",
   "execution_count": 25,
   "id": "b36eedd6",
   "metadata": {},
   "outputs": [
    {
     "data": {
      "image/png": "[encoded data removed]",
      "text/plain": [
       "<Figure size 432x288 with 1 Axes>"
      ]
     },
     "metadata": {
      "needs_background": "light"
     },
     "output_type": "display_data"
    }
   ],
   "source": [
    "filter_1 = []\n",
    "filter_2 = []\n",
    "for i in range(2, 20+1):\n",
    "    max_itemsets = apriori(X, target='m', supp=i, zmin=3)\n",
    "    \n",
    "    filter_1.append( len([item for item in max_itemsets if 'non hazardous' in item[0]])  )\n",
    "    filter_2.append( len([item for item in max_itemsets if 'hazardous' in item[0]]) )\n",
    "    \n",
    "plt.plot(filter_1, label='w/ non hazardous')\n",
    "plt.plot(filter_2, label='w/ hazardous')\n",
    "plt.legend(fontsize=20)\n",
    "plt.xticks(fontsize=20)\n",
    "plt.xlabel('%support', fontsize=15)\n",
    "\n",
    "plt.show()"
   ]
  },
  {
   "cell_type": "code",
   "execution_count": 26,
   "id": "434c11dd",
   "metadata": {},
   "outputs": [],
   "source": [
    "rules = apriori(X, target='r', supp=10, zmin=3, conf=60, report='aScl')"
   ]
  },
  {
   "cell_type": "code",
   "execution_count": 27,
   "id": "c8412b01",
   "metadata": {},
   "outputs": [
    {
     "data": {
      "text/plain": [
       "[('non hazardous',\n",
       "  (1, 'preparation'),\n",
       "  374,\n",
       "  14.473684210526317,\n",
       "  0.9396984924623115,\n",
       "  1.0058744426357138),\n",
       " ('preparation',\n",
       "  (1, 'non hazardous'),\n",
       "  374,\n",
       "  14.473684210526317,\n",
       "  0.6596119929453262,\n",
       "  1.02491725181643),\n",
       " ('non hazardous',\n",
       "  (1, 'lack of hazard'),\n",
       "  368,\n",
       "  14.241486068111456,\n",
       "  0.9558441558441558,\n",
       "  1.0231571245655753),\n",
       " ('lack of hazard',\n",
       "  (1, 'non hazardous'),\n",
       "  368,\n",
       "  14.241486068111456,\n",
       "  0.6490299823633157,\n",
       "  0.9970829217757478),\n",
       " ('lack of hazard',\n",
       "  ('(-37.0, -6.0]_gdene', 0, 'non hazardous'),\n",
       "  235,\n",
       "  9.094427244582043,\n",
       "  0.6791907514450867,\n",
       "  1.043417896393641)]"
      ]
     },
     "execution_count": 27,
     "metadata": {},
     "output_type": "execute_result"
    }
   ],
   "source": [
    "rules[:5]"
   ]
  },
  {
   "cell_type": "code",
   "execution_count": 28,
   "id": "f5129968",
   "metadata": {},
   "outputs": [
    {
     "data": {
      "text/plain": [
       "('non hazardous', (1, 'preparation'))"
      ]
     },
     "execution_count": 28,
     "metadata": {},
     "output_type": "execute_result"
    }
   ],
   "source": [
    "# <--\n",
    "rules[0][0], rules[0][1]"
   ]
  },
  {
   "cell_type": "code",
   "execution_count": 29,
   "id": "d39753a2",
   "metadata": {},
   "outputs": [
    {
     "data": {
      "text/plain": [
       "374"
      ]
     },
     "execution_count": 29,
     "metadata": {},
     "output_type": "execute_result"
    }
   ],
   "source": [
    "# asbolute support\n",
    "rules[0][2]"
   ]
  },
  {
   "cell_type": "code",
   "execution_count": 30,
   "id": "827e3808",
   "metadata": {},
   "outputs": [
    {
     "data": {
      "text/plain": [
       "14.473684210526317"
      ]
     },
     "execution_count": 30,
     "metadata": {},
     "output_type": "execute_result"
    }
   ],
   "source": [
    "# support as percentage\n",
    "rules[0][3]"
   ]
  },
  {
   "cell_type": "code",
   "execution_count": 31,
   "id": "57d5a001",
   "metadata": {},
   "outputs": [
    {
     "data": {
      "text/plain": [
       "0.9396984924623115"
      ]
     },
     "execution_count": 31,
     "metadata": {},
     "output_type": "execute_result"
    }
   ],
   "source": [
    "# confidence\n",
    "rules[0][4]"
   ]
  },
  {
   "cell_type": "code",
   "execution_count": 32,
   "id": "0d55aa1a",
   "metadata": {},
   "outputs": [
    {
     "data": {
      "text/plain": [
       "1.0058744426357138"
      ]
     },
     "execution_count": 32,
     "metadata": {},
     "output_type": "execute_result"
    }
   ],
   "source": [
    "# lift\n",
    "rules[0][5]"
   ]
  },
  {
   "cell_type": "code",
   "execution_count": 33,
   "id": "dd6975f8",
   "metadata": {},
   "outputs": [
    {
     "name": "stdout",
     "output_type": "stream",
     "text": [
      "('non hazardous', (1, 'preparation'), 374, 14.473684210526317, 0.9396984924623115, 1.0058744426357138)\n",
      "('non hazardous', (1, 'lack of hazard'), 368, 14.241486068111456, 0.9558441558441558, 1.0231571245655753)\n",
      "('non hazardous', ('(-37.0, -6.0]_gdene', 0), 346, 13.390092879256965, 0.9801699716713881, 1.0491960260144435)\n",
      "('non hazardous', ('(-37.0, -6.0]_gdene', 'preparation'), 392, 15.170278637770899, 0.9074074074074074, 0.9713093375065206)\n",
      "('non hazardous', ('(-37.0, -6.0]_gdene', 'lack of hazard'), 394, 15.247678018575852, 0.9563106796116505, 1.0236565021195132)\n",
      "('non hazardous', ('(-6.0, 38.0]_gdene', 0), 345, 13.351393188854487, 0.9691011235955056, 1.0373476815951892)\n",
      "('non hazardous', ('(-6.0, 38.0]_gdene', 'preparation', 'lack of hazard'), 243, 9.404024767801857, 0.9204545454545454, 0.9852752880921894)\n",
      "('non hazardous', ('(-6.0, 38.0]_gdene', 'preparation'), 403, 15.595975232198143, 0.9117647058823529, 0.975973487986744)\n",
      "('non hazardous', ('(-6.0, 38.0]_gdene', 'lack of hazard'), 410, 15.86687306501548, 0.9468822170900693, 1.0135640633640177)\n",
      "('non hazardous', ('(38.0, 1245.0]_gdene', '(669.0, 4518.0]_gpuls'), 252, 9.75232198142415, 0.9032258064516129, 0.9668332576101772)\n",
      "('non hazardous', ('(38.0, 1245.0]_gdene', 'low hazard'), 264, 10.21671826625387, 0.9041095890410958, 0.9677792784101872)\n",
      "('non hazardous', ('(38.0, 1245.0]_gdene', 0), 330, 12.770897832817338, 0.953757225433526, 1.0209232272246194)\n",
      "('non hazardous', ('(38.0, 1245.0]_gdene', 'preparation'), 412, 15.944272445820435, 0.9074889867841409, 0.9713966619097847)\n",
      "('non hazardous', ('(38.0, 1245.0]_gdene', 'lack of hazard'), 334, 12.925696594427244, 0.9488636363636364, 1.015685019206146)\n",
      "('non hazardous', ('(11660.0, 25485.0]_gene', '(190.0, 379.0]_gpuls'), 248, 9.597523219814242, 0.9538461538461539, 1.0210184182015167)\n",
      "('non hazardous', ('(11660.0, 25485.0]_gene', 0, 'preparation'), 281, 10.874613003095975, 0.9623287671232876, 1.0300983986108432)\n",
      "('non hazardous', ('(11660.0, 25485.0]_gene', 0), 414, 16.021671826625386, 0.9741176470588235, 1.0427174813587408)\n",
      "('non hazardous', ('(11660.0, 25485.0]_gene', 'preparation'), 429, 16.602167182662537, 0.9512195121951219, 1.0182068017863277)\n",
      "('non hazardous', ('(11660.0, 25485.0]_gene', 'lack of hazard'), 372, 14.396284829721361, 0.9612403100775194, 1.0289332896604433)\n",
      "('non hazardous', ('(669.0, 4518.0]_gpuls', '(52832.5, 2595650.0]_gene', 'preparation'), 348, 13.46749226006192, 0.8207547169811321, 0.8785543449375498)\n",
      "('non hazardous', ('(669.0, 4518.0]_gpuls', '(52832.5, 2595650.0]_gene'), 365, 14.125386996904025, 0.8257918552036199, 0.8839462112038748)\n",
      "('non hazardous', ('(669.0, 4518.0]_gpuls', 'low hazard', 'preparation'), 277, 10.719814241486068, 0.8470948012232415, 0.906749364689667)\n",
      "('non hazardous', ('(669.0, 4518.0]_gpuls', 'low hazard'), 296, 11.455108359133128, 0.8530259365994236, 0.9130981856557211)\n",
      "('non hazardous', ('(669.0, 4518.0]_gpuls', 'preparation', 'lack of hazard'), 237, 9.171826625386997, 0.8681318681318682, 0.9292679151834081)\n",
      "('non hazardous', ('(669.0, 4518.0]_gpuls', 'preparation'), 514, 19.891640866873065, 0.8566666666666667, 0.9169953051643193)\n",
      "('non hazardous', ('(669.0, 4518.0]_gpuls', 'lack of hazard'), 261, 10.10061919504644, 0.8758389261744967, 0.9375177237924189)\n",
      "('non hazardous', ('(379.0, 669.0]_gpuls', '(25485.0, 52832.5]_gene', 'preparation'), 265, 10.255417956656347, 0.9233449477351916, 0.9883692398292192)\n",
      "('non hazardous', ('(379.0, 669.0]_gpuls', '(25485.0, 52832.5]_gene'), 278, 10.758513931888544, 0.9266666666666666, 0.9919248826291079)\n",
      "('non hazardous', ('(379.0, 669.0]_gpuls', 'low hazard'), 263, 10.178018575851393, 0.9195804195804196, 0.9843396040579139)\n",
      "('non hazardous', ('(379.0, 669.0]_gpuls', 0, 'preparation'), 295, 11.41640866873065, 0.9394904458598726, 1.005651744864089)\n",
      "('non hazardous', ('(379.0, 669.0]_gpuls', 0), 358, 13.854489164086687, 0.9470899470899471, 1.0137864222371264)\n",
      "('non hazardous', ('(379.0, 669.0]_gpuls', 'preparation', 'lack of hazard'), 288, 11.145510835913312, 0.9504950495049505, 1.0174313205968484)\n",
      "('non hazardous', ('(379.0, 669.0]_gpuls', 'preparation'), 511, 19.775541795665635, 0.930783242258652, 0.9963313579106698)\n",
      "('non hazardous', ('(379.0, 669.0]_gpuls', 'lack of hazard'), 343, 13.273993808049536, 0.9554317548746518, 1.0227156812742753)\n",
      "('non hazardous', ('(52832.5, 2595650.0]_gene', 'low hazard'), 211, 8.1656346749226, 0.8022813688212928, 0.8587800567664542)\n",
      "('non hazardous', ('(52832.5, 2595650.0]_gene', 'preparation', 'lack of hazard'), 267, 10.3328173374613, 0.8782894736842105, 0.9401408450704225)\n",
      "('non hazardous', ('(52832.5, 2595650.0]_gene', 'preparation'), 466, 18.03405572755418, 0.8396396396396396, 0.8987691917269383)\n",
      "('non hazardous', ('(52832.5, 2595650.0]_gene', 'lack of hazard'), 343, 13.273993808049536, 0.8955613577023499, 0.9586290589489942)\n",
      "('non hazardous', ('(25485.0, 52832.5]_gene', 'low hazard'), 251, 9.713622291021672, 0.9194139194139194, 0.9841613785275757)\n",
      "('non hazardous', ('(25485.0, 52832.5]_gene', 0, 'preparation'), 255, 9.868421052631579, 0.9340659340659341, 0.9998452251973379)\n",
      "('non hazardous', ('(25485.0, 52832.5]_gene', 0), 301, 11.64860681114551, 0.940625, 1.0068661971830986)\n",
      "('non hazardous', ('(25485.0, 52832.5]_gene', 'preparation', 'lack of hazard'), 278, 10.758513931888544, 0.9391891891891891, 1.0053292729349068)\n",
      "('non hazardous', ('(25485.0, 52832.5]_gene', 'preparation'), 511, 19.775541795665635, 0.9274047186932849, 0.9927149101505586)\n",
      "('non hazardous', ('(25485.0, 52832.5]_gene', 'lack of hazard'), 354, 13.69969040247678, 0.9490616621983914, 1.0158969905222217)\n",
      "('non hazardous', ('(190.0, 379.0]_gpuls', 0, 'lack of hazard'), 279, 10.797213622291022, 0.9858657243816255, 1.0552928880704724)\n",
      "('non hazardous', ('(190.0, 379.0]_gpuls', 0), 383, 14.821981424148605, 0.9845758354755784, 1.0539121619175205)\n",
      "('non hazardous', ('(190.0, 379.0]_gpuls', 'preparation', 'lack of hazard'), 260, 10.061919504643962, 0.948905109489051, 1.0157294129741956)\n",
      "('non hazardous', ('(190.0, 379.0]_gpuls', 'preparation'), 392, 15.170278637770899, 0.9423076923076923, 1.0086673889490791)\n",
      "('non hazardous', ('(190.0, 379.0]_gpuls', 'lack of hazard'), 445, 17.221362229102166, 0.96529284164859, 1.0332712107787725)\n",
      "('non hazardous', ('(99.999, 11660.0]_gene', '(1.999, 190.0]_gpuls', 'coal-getting', 0, 'lack of hazard'), 297, 11.493808049535604, 0.99, 1.059718309859155)\n",
      "('non hazardous', ('(99.999, 11660.0]_gene', '(1.999, 190.0]_gpuls', 'coal-getting', 0), 338, 13.080495356037153, 0.9912023460410557, 1.061005328156623)\n",
      "('non hazardous', ('(99.999, 11660.0]_gene', '(1.999, 190.0]_gpuls', 'coal-getting', 'lack of hazard'), 349, 13.506191950464396, 0.9803370786516854, 1.0493749010919449)\n",
      "('non hazardous', ('(99.999, 11660.0]_gene', '(1.999, 190.0]_gpuls', 'coal-getting'), 396, 15.325077399380804, 0.9777777777777777, 1.0466353677621283)\n",
      "('non hazardous', ('(99.999, 11660.0]_gene', '(1.999, 190.0]_gpuls', 0, 'lack of hazard'), 312, 12.074303405572756, 0.9904761904761905, 1.060228034875922)\n",
      "('non hazardous', ('(99.999, 11660.0]_gene', '(1.999, 190.0]_gpuls', 0), 364, 14.086687306501547, 0.9918256130790191, 1.0616724872395134)\n",
      "('non hazardous', ('(99.999, 11660.0]_gene', '(1.999, 190.0]_gpuls', 'lack of hazard'), 372, 14.396284829721361, 0.9815303430079155, 1.050652198149318)\n",
      "('non hazardous', ('(99.999, 11660.0]_gene', '(1.999, 190.0]_gpuls'), 433, 16.756965944272444, 0.9774266365688488, 1.0462594982990494)\n",
      "('non hazardous', ('(99.999, 11660.0]_gene', '(-96.001, -37.0]_gdene', 0), 264, 10.21671826625387, 0.9962264150943396, 1.0663832048897157)\n",
      "('non hazardous', ('(99.999, 11660.0]_gene', '(-96.001, -37.0]_gdene', 'lack of hazard'), 258, 9.98452012383901, 0.9847328244274809, 1.0540802064294161)\n",
      "('non hazardous', ('(99.999, 11660.0]_gene', '(-96.001, -37.0]_gdene'), 310, 11.996904024767801, 0.9779179810725552, 1.0467854445283689)\n",
      "('non hazardous', ('(99.999, 11660.0]_gene', 'coal-getting', 0, 'lack of hazard'), 392, 15.170278637770899, 0.98989898989899, 1.0596101863707497)\n",
      "('non hazardous', ('(99.999, 11660.0]_gene', 'coal-getting', 0), 462, 17.879256965944272, 0.9914163090128756, 1.0612343589433597)\n",
      "('non hazardous', ('(99.999, 11660.0]_gene', 'coal-getting', 'lack of hazard'), 453, 17.53095975232198, 0.982646420824295, 1.05184687299502)\n",
      "('non hazardous', ('(99.999, 11660.0]_gene', 'coal-getting'), 531, 20.54953560371517, 0.9815157116451017, 1.0506365364088412)\n",
      "('non hazardous', ('(99.999, 11660.0]_gene', 0, 'lack of hazard'), 457, 17.685758513931887, 0.9913232104121475, 1.0611347041031438)\n",
      "('non hazardous', ('(99.999, 11660.0]_gene', 0), 549, 21.246130030959755, 0.9927667269439421, 1.0626798767287269)\n",
      "('non hazardous', ('(99.999, 11660.0]_gene', 'lack of hazard'), 530, 20.510835913312693, 0.9833024118738405, 1.0525490605973504)\n",
      "('non hazardous', ('(1.999, 190.0]_gpuls', '(-96.001, -37.0]_gdene', 'coal-getting'), 256, 9.907120743034056, 0.9696969696969697, 1.037985488689714)\n",
      "('non hazardous', ('(1.999, 190.0]_gpuls', '(-96.001, -37.0]_gdene', 'lack of hazard'), 273, 10.56501547987616, 0.9646643109540636, 1.0325984173592793)\n",
      "('non hazardous', ('(1.999, 190.0]_gpuls', '(-96.001, -37.0]_gdene'), 322, 12.461300309597522, 0.9611940298507463, 1.0288837502627706)\n",
      "('non hazardous', ('(1.999, 190.0]_gpuls', 'coal-getting', 0, 'lack of hazard'), 382, 14.783281733746131, 0.9896373056994818, 1.0593300737064877)\n",
      "('non hazardous', ('(1.999, 190.0]_gpuls', 'coal-getting', 0), 427, 16.524767801857585, 0.9907192575406032, 1.0604882193392373)\n",
      "('non hazardous', ('(1.999, 190.0]_gpuls', 'coal-getting', 'lack of hazard'), 480, 18.575851393188856, 0.9795918367346939, 1.0485771773498131)\n",
      "('non hazardous', ('(1.999, 190.0]_gpuls', 'coal-getting'), 537, 20.781733746130033, 0.9781420765027322, 1.0470253213268683)\n",
      "('non hazardous', ('(1.999, 190.0]_gpuls', 0, 'lack of hazard'), 407, 15.750773993808048, 0.9902676399026764, 1.0600047976423015)\n",
      "('non hazardous', ('(1.999, 190.0]_gpuls', 0), 465, 17.9953560371517, 0.9914712153518124, 1.0612931319258836)\n",
      "('non hazardous', ('(1.999, 190.0]_gpuls', 'lack of hazard'), 550, 21.28482972136223, 0.975177304964539, 1.0438517630606332)\n",
      "('non hazardous', ('(-96.001, -37.0]_gdene', 'coal-getting', 'lack of hazard'), 275, 10.642414860681114, 0.975177304964539, 1.0438517630606332)\n",
      "('non hazardous', ('(-96.001, -37.0]_gdene', 'coal-getting'), 317, 12.26780185758514, 0.9723926380368099, 1.0408709928281346)\n",
      "('non hazardous', ('(-96.001, -37.0]_gdene', 0, 'lack of hazard'), 315, 12.190402476780186, 0.9905660377358491, 1.0603242094073877)\n",
      "('non hazardous', ('(-96.001, -37.0]_gdene', 0), 403, 15.595975232198143, 0.9853300733496333, 1.0547195151348188)\n",
      "('non hazardous', ('(-96.001, -37.0]_gdene', 'preparation'), 303, 11.726006191950464, 0.9044776119402985, 0.9681732184149674)\n",
      "('non hazardous', ('(-96.001, -37.0]_gdene', 'lack of hazard'), 461, 17.840557275541798, 0.9505154639175257, 1.017453172644112)\n",
      "('non hazardous', ('low hazard', 0, 'preparation'), 316, 12.229102167182662, 0.9432835820895522, 1.0097120033634643)\n",
      "('non hazardous', ('low hazard', 0), 436, 16.873065015479877, 0.9582417582417583, 1.0257235722024454)\n",
      "('non hazardous', ('low hazard', 'preparation'), 655, 25.34829721362229, 0.8863328822733424, 0.9487506908841411)\n",
      "('non hazardous', ('coal-getting', 0, 'lack of hazard'), 565, 21.86532507739938, 0.989492119089317, 1.0591746626871563)\n",
      "('non hazardous', ('coal-getting', 0), 685, 26.509287925696594, 0.9913169319826338, 1.0611279835307066)\n",
      "('non hazardous', ('coal-getting', 'lack of hazard'), 744, 28.792569659442723, 0.9815303430079155, 1.050652198149318)\n",
      "('non hazardous', (0, 'preparation', 'lack of hazard'), 423, 16.36996904024768, 0.9657534246575342, 1.0337642292108817)\n",
      "('non hazardous', (0, 'preparation'), 739, 28.59907120743034, 0.9560155239327296, 1.0233405608294008)\n",
      "('non hazardous', (0, 'lack of hazard'), 988, 38.23529411764706, 0.979187314172448, 1.0481441672831837)\n",
      "('non hazardous', ('preparation', 'lack of hazard'), 855, 33.088235294117645, 0.9253246753246753, 0.990488384854582)\n"
     ]
    }
   ],
   "source": [
    "for r in rules:\n",
    "    if r[0] == 'non hazardous':\n",
    "        print(r)"
   ]
  },
  {
   "cell_type": "code",
   "execution_count": 34,
   "id": "3ef10736",
   "metadata": {},
   "outputs": [
    {
     "data": {
      "text/plain": [
       "('non hazardous',\n",
       " (1, 'preparation'),\n",
       " 374,\n",
       " 14.473684210526317,\n",
       " 0.9396984924623115,\n",
       " 1.0058744426357138)"
      ]
     },
     "execution_count": 34,
     "metadata": {},
     "output_type": "execute_result"
    }
   ],
   "source": [
    "[r for r in rules if r[0] == 'non hazardous'][0]"
   ]
  },
  {
   "cell_type": "code",
   "execution_count": 35,
   "id": "b73e3b3a",
   "metadata": {},
   "outputs": [
    {
     "name": "stdout",
     "output_type": "stream",
     "text": [
      "to_predict: non hazardous\n",
      "how? (1, 'preparation')\n"
     ]
    }
   ],
   "source": [
    "print( 'to_predict:', [r for r in rules if r[0] == 'non hazardous'][0][0])\n",
    "print( 'how?', [r for r in rules if r[0] == 'non hazardous'][0][1])"
   ]
  },
  {
   "cell_type": "code",
   "execution_count": 36,
   "id": "d7f8c4cb",
   "metadata": {},
   "outputs": [],
   "source": [
    "# left for exercise\n",
    "\n",
    "# using the same test set for classification (w/ random_state):\n",
    "# predict the target variable with the most interesting rule:\n",
    "# .... e.g., the most frequent;\n",
    "# .... e.g., the one w/ max lift\n",
    "# build a list of prediction, e.g. ['Survived', 'Not Survived', 'Survived']\n",
    "# evaluate this prediction with precision/recall/confusion matrix etc."
   ]
  },
  {
   "cell_type": "code",
   "execution_count": 37,
   "id": "e9e68ade",
   "metadata": {},
   "outputs": [],
   "source": [
    "len_r = []\n",
    "for i in range(1, 20+1): #support\n",
    "    len_r_wrt_i = []\n",
    "    for j in range(60, 80+1): #confidence\n",
    "        rules = apriori(X, target='r', supp=i, zmin=3, conf=j, report='aScl')\n",
    "        \n",
    "        len_r_wrt_i.append(len(rules)) # study your characteristics/properties here\n",
    "        \n",
    "    len_r.append(len_r_wrt_i)"
   ]
  },
  {
   "cell_type": "code",
   "execution_count": 38,
   "id": "d149ca05",
   "metadata": {},
   "outputs": [
    {
     "data": {
      "image/png": "[encoded data removed]",
      "text/plain": [
       "<Figure size 432x288 with 2 Axes>"
      ]
     },
     "metadata": {
      "needs_background": "light"
     },
     "output_type": "display_data"
    }
   ],
   "source": [
    "plt.imshow( len_r, cmap='Blues', alpha=0.8 )\n",
    "plt.xlabel('%support', fontsize=20)\n",
    "plt.ylabel('%confidence', fontsize=20)\n",
    "plt.xticks(fontsize=20)\n",
    "plt.yticks( np.arange(0,20+1,4), np.arange(60,80+1,4), fontsize=20  )\n",
    "plt.colorbar()\n",
    "\n",
    "plt.show()"
   ]
  }
 ],
 "metadata": {
  "kernelspec": {
   "display_name": "Python 3",
   "language": "python",
   "name": "python3"
  },
  "language_info": {
   "codemirror_mode": {
    "name": "ipython",
    "version": 3
   },
   "file_extension": ".py",
   "mimetype": "text/x-python",
   "name": "python",
   "nbconvert_exporter": "python",
   "pygments_lexer": "ipython3",
   "version": "3.8.8"
  }
 },
 "nbformat": 4,
 "nbformat_minor": 5
}
