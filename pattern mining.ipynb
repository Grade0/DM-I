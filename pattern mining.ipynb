{
 "cells": [
  {
   "cell_type": "code",
   "execution_count": 1,
   "id": "738c0acd",
   "metadata": {},
   "outputs": [],
   "source": [
    "import numpy as np\n",
    "import pandas as pd\n",
    "\n",
    "import matplotlib.pyplot as plt\n",
    "%matplotlib inline"
   ]
  },
  {
   "cell_type": "code",
   "execution_count": 2,
   "id": "a812fa27",
   "metadata": {},
   "outputs": [],
   "source": [
    "df = pd.read_csv(\"seismic-bumps.csv\")"
   ]
  },
  {
   "cell_type": "code",
   "execution_count": 3,
   "id": "05d22e15",
   "metadata": {},
   "outputs": [
    {
     "data": {
      "text/html": [
       "<div>\n",
       "<style scoped>\n",
       "    .dataframe tbody tr th:only-of-type {\n",
       "        vertical-align: middle;\n",
       "    }\n",
       "\n",
       "    .dataframe tbody tr th {\n",
       "        vertical-align: top;\n",
       "    }\n",
       "\n",
       "    .dataframe thead th {\n",
       "        text-align: right;\n",
       "    }\n",
       "</style>\n",
       "<table border=\"1\" class=\"dataframe\">\n",
       "  <thead>\n",
       "    <tr style=\"text-align: right;\">\n",
       "      <th></th>\n",
       "      <th>seismic</th>\n",
       "      <th>seismoacoustic</th>\n",
       "      <th>shift</th>\n",
       "      <th>genergy</th>\n",
       "      <th>gpuls</th>\n",
       "      <th>gdenergy</th>\n",
       "      <th>gdpuls</th>\n",
       "      <th>hazard</th>\n",
       "      <th>nbumps</th>\n",
       "      <th>nbumps2</th>\n",
       "      <th>nbumps3</th>\n",
       "      <th>nbumps4</th>\n",
       "      <th>nbumps5</th>\n",
       "      <th>nbumps6</th>\n",
       "      <th>nbumps7</th>\n",
       "      <th>nbumps89</th>\n",
       "      <th>energy</th>\n",
       "      <th>maxenergy</th>\n",
       "      <th>class</th>\n",
       "    </tr>\n",
       "  </thead>\n",
       "  <tbody>\n",
       "    <tr>\n",
       "      <th>0</th>\n",
       "      <td>a</td>\n",
       "      <td>a</td>\n",
       "      <td>N</td>\n",
       "      <td>15180</td>\n",
       "      <td>48</td>\n",
       "      <td>-72</td>\n",
       "      <td>-72</td>\n",
       "      <td>a</td>\n",
       "      <td>0</td>\n",
       "      <td>0</td>\n",
       "      <td>0</td>\n",
       "      <td>0</td>\n",
       "      <td>0</td>\n",
       "      <td>0</td>\n",
       "      <td>0</td>\n",
       "      <td>0</td>\n",
       "      <td>0</td>\n",
       "      <td>0</td>\n",
       "      <td>0</td>\n",
       "    </tr>\n",
       "    <tr>\n",
       "      <th>1</th>\n",
       "      <td>a</td>\n",
       "      <td>a</td>\n",
       "      <td>N</td>\n",
       "      <td>14720</td>\n",
       "      <td>33</td>\n",
       "      <td>-70</td>\n",
       "      <td>-79</td>\n",
       "      <td>a</td>\n",
       "      <td>1</td>\n",
       "      <td>0</td>\n",
       "      <td>1</td>\n",
       "      <td>0</td>\n",
       "      <td>0</td>\n",
       "      <td>0</td>\n",
       "      <td>0</td>\n",
       "      <td>0</td>\n",
       "      <td>2000</td>\n",
       "      <td>2000</td>\n",
       "      <td>0</td>\n",
       "    </tr>\n",
       "    <tr>\n",
       "      <th>2</th>\n",
       "      <td>a</td>\n",
       "      <td>a</td>\n",
       "      <td>N</td>\n",
       "      <td>8050</td>\n",
       "      <td>30</td>\n",
       "      <td>-81</td>\n",
       "      <td>-78</td>\n",
       "      <td>a</td>\n",
       "      <td>0</td>\n",
       "      <td>0</td>\n",
       "      <td>0</td>\n",
       "      <td>0</td>\n",
       "      <td>0</td>\n",
       "      <td>0</td>\n",
       "      <td>0</td>\n",
       "      <td>0</td>\n",
       "      <td>0</td>\n",
       "      <td>0</td>\n",
       "      <td>0</td>\n",
       "    </tr>\n",
       "    <tr>\n",
       "      <th>3</th>\n",
       "      <td>a</td>\n",
       "      <td>a</td>\n",
       "      <td>N</td>\n",
       "      <td>28820</td>\n",
       "      <td>171</td>\n",
       "      <td>-23</td>\n",
       "      <td>40</td>\n",
       "      <td>a</td>\n",
       "      <td>1</td>\n",
       "      <td>0</td>\n",
       "      <td>1</td>\n",
       "      <td>0</td>\n",
       "      <td>0</td>\n",
       "      <td>0</td>\n",
       "      <td>0</td>\n",
       "      <td>0</td>\n",
       "      <td>3000</td>\n",
       "      <td>3000</td>\n",
       "      <td>0</td>\n",
       "    </tr>\n",
       "    <tr>\n",
       "      <th>4</th>\n",
       "      <td>a</td>\n",
       "      <td>a</td>\n",
       "      <td>N</td>\n",
       "      <td>12640</td>\n",
       "      <td>57</td>\n",
       "      <td>-63</td>\n",
       "      <td>-52</td>\n",
       "      <td>a</td>\n",
       "      <td>0</td>\n",
       "      <td>0</td>\n",
       "      <td>0</td>\n",
       "      <td>0</td>\n",
       "      <td>0</td>\n",
       "      <td>0</td>\n",
       "      <td>0</td>\n",
       "      <td>0</td>\n",
       "      <td>0</td>\n",
       "      <td>0</td>\n",
       "      <td>0</td>\n",
       "    </tr>\n",
       "  </tbody>\n",
       "</table>\n",
       "</div>"
      ],
      "text/plain": [
       "  seismic seismoacoustic shift  genergy  gpuls  gdenergy  gdpuls hazard  \\\n",
       "0       a              a     N    15180     48       -72     -72      a   \n",
       "1       a              a     N    14720     33       -70     -79      a   \n",
       "2       a              a     N     8050     30       -81     -78      a   \n",
       "3       a              a     N    28820    171       -23      40      a   \n",
       "4       a              a     N    12640     57       -63     -52      a   \n",
       "\n",
       "   nbumps  nbumps2  nbumps3  nbumps4  nbumps5  nbumps6  nbumps7  nbumps89  \\\n",
       "0       0        0        0        0        0        0        0         0   \n",
       "1       1        0        1        0        0        0        0         0   \n",
       "2       0        0        0        0        0        0        0         0   \n",
       "3       1        0        1        0        0        0        0         0   \n",
       "4       0        0        0        0        0        0        0         0   \n",
       "\n",
       "   energy  maxenergy  class  \n",
       "0       0          0      0  \n",
       "1    2000       2000      0  \n",
       "2       0          0      0  \n",
       "3    3000       3000      0  \n",
       "4       0          0      0  "
      ]
     },
     "execution_count": 3,
     "metadata": {},
     "output_type": "execute_result"
    }
   ],
   "source": [
    "df.head()"
   ]
  },
  {
   "cell_type": "markdown",
   "id": "e741ffb0",
   "metadata": {},
   "source": [
    "## Feature preprocessing (light)"
   ]
  },
  {
   "cell_type": "code",
   "execution_count": 4,
   "id": "5e0c3e4b",
   "metadata": {},
   "outputs": [],
   "source": [
    "#remove useless variables from the dataset\n",
    "column2drop = ['seismoacoustic', 'gdpuls', 'hazard','nbumps2', 'nbumps3', 'nbumps4', 'nbumps5', 'nbumps6', 'nbumps7', 'nbumps89', 'energy', 'maxenergy']\n",
    "df.drop(column2drop, axis=1, inplace=True)"
   ]
  },
  {
   "cell_type": "code",
   "execution_count": 5,
   "id": "265ed998",
   "metadata": {},
   "outputs": [
    {
     "data": {
      "text/html": [
       "<div>\n",
       "<style scoped>\n",
       "    .dataframe tbody tr th:only-of-type {\n",
       "        vertical-align: middle;\n",
       "    }\n",
       "\n",
       "    .dataframe tbody tr th {\n",
       "        vertical-align: top;\n",
       "    }\n",
       "\n",
       "    .dataframe thead th {\n",
       "        text-align: right;\n",
       "    }\n",
       "</style>\n",
       "<table border=\"1\" class=\"dataframe\">\n",
       "  <thead>\n",
       "    <tr style=\"text-align: right;\">\n",
       "      <th></th>\n",
       "      <th>seismic</th>\n",
       "      <th>shift</th>\n",
       "      <th>genergy</th>\n",
       "      <th>gpuls</th>\n",
       "      <th>gdenergy</th>\n",
       "      <th>nbumps</th>\n",
       "      <th>class</th>\n",
       "    </tr>\n",
       "  </thead>\n",
       "  <tbody>\n",
       "    <tr>\n",
       "      <th>0</th>\n",
       "      <td>a</td>\n",
       "      <td>N</td>\n",
       "      <td>15180</td>\n",
       "      <td>48</td>\n",
       "      <td>-72</td>\n",
       "      <td>0</td>\n",
       "      <td>0</td>\n",
       "    </tr>\n",
       "    <tr>\n",
       "      <th>1</th>\n",
       "      <td>a</td>\n",
       "      <td>N</td>\n",
       "      <td>14720</td>\n",
       "      <td>33</td>\n",
       "      <td>-70</td>\n",
       "      <td>1</td>\n",
       "      <td>0</td>\n",
       "    </tr>\n",
       "    <tr>\n",
       "      <th>2</th>\n",
       "      <td>a</td>\n",
       "      <td>N</td>\n",
       "      <td>8050</td>\n",
       "      <td>30</td>\n",
       "      <td>-81</td>\n",
       "      <td>0</td>\n",
       "      <td>0</td>\n",
       "    </tr>\n",
       "    <tr>\n",
       "      <th>3</th>\n",
       "      <td>a</td>\n",
       "      <td>N</td>\n",
       "      <td>28820</td>\n",
       "      <td>171</td>\n",
       "      <td>-23</td>\n",
       "      <td>1</td>\n",
       "      <td>0</td>\n",
       "    </tr>\n",
       "    <tr>\n",
       "      <th>4</th>\n",
       "      <td>a</td>\n",
       "      <td>N</td>\n",
       "      <td>12640</td>\n",
       "      <td>57</td>\n",
       "      <td>-63</td>\n",
       "      <td>0</td>\n",
       "      <td>0</td>\n",
       "    </tr>\n",
       "  </tbody>\n",
       "</table>\n",
       "</div>"
      ],
      "text/plain": [
       "  seismic shift  genergy  gpuls  gdenergy  nbumps  class\n",
       "0       a     N    15180     48       -72       0      0\n",
       "1       a     N    14720     33       -70       1      0\n",
       "2       a     N     8050     30       -81       0      0\n",
       "3       a     N    28820    171       -23       1      0\n",
       "4       a     N    12640     57       -63       0      0"
      ]
     },
     "execution_count": 5,
     "metadata": {},
     "output_type": "execute_result"
    }
   ],
   "source": [
    "df.head()"
   ]
  },
  {
   "cell_type": "markdown",
   "id": "0094a39e",
   "metadata": {},
   "source": [
    "## Pattern mining preprocessing"
   ]
  },
  {
   "cell_type": "code",
   "execution_count": 6,
   "id": "b8035880",
   "metadata": {},
   "outputs": [],
   "source": [
    "#numero tra parentesi è numero di bin, divide in quartili\n",
    "df['genergyBin'] = pd.qcut(df['genergy'], 4)\n",
    "df['gpulsBin'] = pd.qcut(df['gpuls'], 4)\n",
    "df['gdenergyBin'] = pd.qcut(df['gdenergy'], 4)\n",
    "\n",
    "df.drop(['gdenergy', 'genergy', 'gpuls'], axis=1, inplace=True)"
   ]
  },
  {
   "cell_type": "code",
   "execution_count": 7,
   "id": "b1429a30",
   "metadata": {},
   "outputs": [
    {
     "data": {
      "text/html": [
       "<div>\n",
       "<style scoped>\n",
       "    .dataframe tbody tr th:only-of-type {\n",
       "        vertical-align: middle;\n",
       "    }\n",
       "\n",
       "    .dataframe tbody tr th {\n",
       "        vertical-align: top;\n",
       "    }\n",
       "\n",
       "    .dataframe thead th {\n",
       "        text-align: right;\n",
       "    }\n",
       "</style>\n",
       "<table border=\"1\" class=\"dataframe\">\n",
       "  <thead>\n",
       "    <tr style=\"text-align: right;\">\n",
       "      <th></th>\n",
       "      <th>seismic</th>\n",
       "      <th>shift</th>\n",
       "      <th>nbumps</th>\n",
       "      <th>class</th>\n",
       "      <th>genergyBin</th>\n",
       "      <th>gpulsBin</th>\n",
       "      <th>gdenergyBin</th>\n",
       "    </tr>\n",
       "  </thead>\n",
       "  <tbody>\n",
       "    <tr>\n",
       "      <th>0</th>\n",
       "      <td>a</td>\n",
       "      <td>N</td>\n",
       "      <td>0</td>\n",
       "      <td>0</td>\n",
       "      <td>(11660.0, 25485.0]</td>\n",
       "      <td>(1.999, 190.0]</td>\n",
       "      <td>(-96.001, -37.0]</td>\n",
       "    </tr>\n",
       "    <tr>\n",
       "      <th>1</th>\n",
       "      <td>a</td>\n",
       "      <td>N</td>\n",
       "      <td>1</td>\n",
       "      <td>0</td>\n",
       "      <td>(11660.0, 25485.0]</td>\n",
       "      <td>(1.999, 190.0]</td>\n",
       "      <td>(-96.001, -37.0]</td>\n",
       "    </tr>\n",
       "    <tr>\n",
       "      <th>2</th>\n",
       "      <td>a</td>\n",
       "      <td>N</td>\n",
       "      <td>0</td>\n",
       "      <td>0</td>\n",
       "      <td>(99.999, 11660.0]</td>\n",
       "      <td>(1.999, 190.0]</td>\n",
       "      <td>(-96.001, -37.0]</td>\n",
       "    </tr>\n",
       "    <tr>\n",
       "      <th>3</th>\n",
       "      <td>a</td>\n",
       "      <td>N</td>\n",
       "      <td>1</td>\n",
       "      <td>0</td>\n",
       "      <td>(25485.0, 52832.5]</td>\n",
       "      <td>(1.999, 190.0]</td>\n",
       "      <td>(-37.0, -6.0]</td>\n",
       "    </tr>\n",
       "    <tr>\n",
       "      <th>4</th>\n",
       "      <td>a</td>\n",
       "      <td>N</td>\n",
       "      <td>0</td>\n",
       "      <td>0</td>\n",
       "      <td>(11660.0, 25485.0]</td>\n",
       "      <td>(1.999, 190.0]</td>\n",
       "      <td>(-96.001, -37.0]</td>\n",
       "    </tr>\n",
       "  </tbody>\n",
       "</table>\n",
       "</div>"
      ],
      "text/plain": [
       "  seismic shift  nbumps  class          genergyBin        gpulsBin  \\\n",
       "0       a     N       0      0  (11660.0, 25485.0]  (1.999, 190.0]   \n",
       "1       a     N       1      0  (11660.0, 25485.0]  (1.999, 190.0]   \n",
       "2       a     N       0      0   (99.999, 11660.0]  (1.999, 190.0]   \n",
       "3       a     N       1      0  (25485.0, 52832.5]  (1.999, 190.0]   \n",
       "4       a     N       0      0  (11660.0, 25485.0]  (1.999, 190.0]   \n",
       "\n",
       "        gdenergyBin  \n",
       "0  (-96.001, -37.0]  \n",
       "1  (-96.001, -37.0]  \n",
       "2  (-96.001, -37.0]  \n",
       "3     (-37.0, -6.0]  \n",
       "4  (-96.001, -37.0]  "
      ]
     },
     "execution_count": 7,
     "metadata": {},
     "output_type": "execute_result"
    }
   ],
   "source": [
    "df.head()"
   ]
  },
  {
   "cell_type": "code",
   "execution_count": 8,
   "id": "d8a2b02c",
   "metadata": {},
   "outputs": [],
   "source": [
    "df['genergyBin'] = df['genergyBin'].astype(str) + '_gene'\n",
    "df['gdenergyBin'] = df['gdenergyBin'].astype(str) + '_gdene'\n",
    "df['gpulsBin'] = df['gpulsBin'].astype(str) + '_gpuls'"
   ]
  },
  {
   "cell_type": "code",
   "execution_count": 9,
   "id": "bc2511b3",
   "metadata": {},
   "outputs": [],
   "source": [
    "class_dict = {0: 'non hazardous', 1: 'hazardous'}\n",
    "df['class'] = df['class'].map(class_dict)"
   ]
  },
  {
   "cell_type": "code",
   "execution_count": 10,
   "id": "232cf746",
   "metadata": {},
   "outputs": [],
   "source": [
    "# Transform categorical attributes ('seismic' and 'shift') into numerical ones \n",
    "from sklearn.preprocessing import LabelEncoder\n",
    "le = LabelEncoder()\n",
    "\n",
    "df['seismic'] = le.fit_transform(df['seismic'])\n",
    "df['shift'] = le.fit_transform(df['shift'])"
   ]
  },
  {
   "cell_type": "code",
   "execution_count": 11,
   "id": "09ecc4a3",
   "metadata": {},
   "outputs": [],
   "source": [
    "seismic_dict = {0: 'lack of hazard', 1: 'low hazard'}\n",
    "df['seismic'] = df['seismic'].map(seismic_dict)\n",
    "\n",
    "shift_dict = {0: 'coal-getting', 1: 'preparation'}\n",
    "df['shift'] = df['shift'].map(shift_dict)"
   ]
  },
  {
   "cell_type": "code",
   "execution_count": 12,
   "id": "4f2099a9",
   "metadata": {},
   "outputs": [
    {
     "data": {
      "text/html": [
       "<div>\n",
       "<style scoped>\n",
       "    .dataframe tbody tr th:only-of-type {\n",
       "        vertical-align: middle;\n",
       "    }\n",
       "\n",
       "    .dataframe tbody tr th {\n",
       "        vertical-align: top;\n",
       "    }\n",
       "\n",
       "    .dataframe thead th {\n",
       "        text-align: right;\n",
       "    }\n",
       "</style>\n",
       "<table border=\"1\" class=\"dataframe\">\n",
       "  <thead>\n",
       "    <tr style=\"text-align: right;\">\n",
       "      <th></th>\n",
       "      <th>seismic</th>\n",
       "      <th>shift</th>\n",
       "      <th>nbumps</th>\n",
       "      <th>class</th>\n",
       "      <th>genergyBin</th>\n",
       "      <th>gpulsBin</th>\n",
       "      <th>gdenergyBin</th>\n",
       "    </tr>\n",
       "  </thead>\n",
       "  <tbody>\n",
       "    <tr>\n",
       "      <th>0</th>\n",
       "      <td>lack of hazard</td>\n",
       "      <td>coal-getting</td>\n",
       "      <td>0</td>\n",
       "      <td>non hazardous</td>\n",
       "      <td>(11660.0, 25485.0]_gene</td>\n",
       "      <td>(1.999, 190.0]_gpuls</td>\n",
       "      <td>(-96.001, -37.0]_gdene</td>\n",
       "    </tr>\n",
       "    <tr>\n",
       "      <th>1</th>\n",
       "      <td>lack of hazard</td>\n",
       "      <td>coal-getting</td>\n",
       "      <td>1</td>\n",
       "      <td>non hazardous</td>\n",
       "      <td>(11660.0, 25485.0]_gene</td>\n",
       "      <td>(1.999, 190.0]_gpuls</td>\n",
       "      <td>(-96.001, -37.0]_gdene</td>\n",
       "    </tr>\n",
       "    <tr>\n",
       "      <th>2</th>\n",
       "      <td>lack of hazard</td>\n",
       "      <td>coal-getting</td>\n",
       "      <td>0</td>\n",
       "      <td>non hazardous</td>\n",
       "      <td>(99.999, 11660.0]_gene</td>\n",
       "      <td>(1.999, 190.0]_gpuls</td>\n",
       "      <td>(-96.001, -37.0]_gdene</td>\n",
       "    </tr>\n",
       "    <tr>\n",
       "      <th>3</th>\n",
       "      <td>lack of hazard</td>\n",
       "      <td>coal-getting</td>\n",
       "      <td>1</td>\n",
       "      <td>non hazardous</td>\n",
       "      <td>(25485.0, 52832.5]_gene</td>\n",
       "      <td>(1.999, 190.0]_gpuls</td>\n",
       "      <td>(-37.0, -6.0]_gdene</td>\n",
       "    </tr>\n",
       "    <tr>\n",
       "      <th>4</th>\n",
       "      <td>lack of hazard</td>\n",
       "      <td>coal-getting</td>\n",
       "      <td>0</td>\n",
       "      <td>non hazardous</td>\n",
       "      <td>(11660.0, 25485.0]_gene</td>\n",
       "      <td>(1.999, 190.0]_gpuls</td>\n",
       "      <td>(-96.001, -37.0]_gdene</td>\n",
       "    </tr>\n",
       "  </tbody>\n",
       "</table>\n",
       "</div>"
      ],
      "text/plain": [
       "          seismic         shift  nbumps          class  \\\n",
       "0  lack of hazard  coal-getting       0  non hazardous   \n",
       "1  lack of hazard  coal-getting       1  non hazardous   \n",
       "2  lack of hazard  coal-getting       0  non hazardous   \n",
       "3  lack of hazard  coal-getting       1  non hazardous   \n",
       "4  lack of hazard  coal-getting       0  non hazardous   \n",
       "\n",
       "                genergyBin              gpulsBin             gdenergyBin  \n",
       "0  (11660.0, 25485.0]_gene  (1.999, 190.0]_gpuls  (-96.001, -37.0]_gdene  \n",
       "1  (11660.0, 25485.0]_gene  (1.999, 190.0]_gpuls  (-96.001, -37.0]_gdene  \n",
       "2   (99.999, 11660.0]_gene  (1.999, 190.0]_gpuls  (-96.001, -37.0]_gdene  \n",
       "3  (25485.0, 52832.5]_gene  (1.999, 190.0]_gpuls     (-37.0, -6.0]_gdene  \n",
       "4  (11660.0, 25485.0]_gene  (1.999, 190.0]_gpuls  (-96.001, -37.0]_gdene  "
      ]
     },
     "execution_count": 12,
     "metadata": {},
     "output_type": "execute_result"
    }
   ],
   "source": [
    "df.head()"
   ]
  },
  {
   "cell_type": "code",
   "execution_count": 13,
   "id": "bb5a528d",
   "metadata": {},
   "outputs": [],
   "source": [
    "X = df.values.tolist()"
   ]
  },
  {
   "cell_type": "code",
   "execution_count": 14,
   "id": "3deb352f",
   "metadata": {},
   "outputs": [
    {
     "data": {
      "text/plain": [
       "['lack of hazard',\n",
       " 'coal-getting',\n",
       " 0,\n",
       " 'non hazardous',\n",
       " '(11660.0, 25485.0]_gene',\n",
       " '(1.999, 190.0]_gpuls',\n",
       " '(-96.001, -37.0]_gdene']"
      ]
     },
     "execution_count": 14,
     "metadata": {},
     "output_type": "execute_result"
    }
   ],
   "source": [
    "X[0]"
   ]
  },
  {
   "cell_type": "code",
   "execution_count": 15,
   "id": "fb200a17",
   "metadata": {},
   "outputs": [
    {
     "data": {
      "text/plain": [
       "array([['lack of hazard', 'preparation', 1, ...,\n",
       "        '(52832.5, 2595650.0]_gene', '(190.0, 379.0]_gpuls',\n",
       "        '(-96.001, -37.0]_gdene'],\n",
       "       ['lack of hazard', 'preparation', 2, ...,\n",
       "        '(52832.5, 2595650.0]_gene', '(669.0, 4518.0]_gpuls',\n",
       "        '(-37.0, -6.0]_gdene'],\n",
       "       ['lack of hazard', 'coal-getting', 1, ...,\n",
       "        '(52832.5, 2595650.0]_gene', '(1.999, 190.0]_gpuls',\n",
       "        '(-96.001, -37.0]_gdene'],\n",
       "       ...,\n",
       "       ['low hazard', 'preparation', 0, ..., '(25485.0, 52832.5]_gene',\n",
       "        '(379.0, 669.0]_gpuls', '(38.0, 1245.0]_gdene'],\n",
       "       ['lack of hazard', 'coal-getting', 0, ...,\n",
       "        '(99.999, 11660.0]_gene', '(190.0, 379.0]_gpuls',\n",
       "        '(-37.0, -6.0]_gdene'],\n",
       "       ['lack of hazard', 'preparation', 0, ...,\n",
       "        '(25485.0, 52832.5]_gene', '(379.0, 669.0]_gpuls',\n",
       "        '(38.0, 1245.0]_gdene']], dtype=object)"
      ]
     },
     "execution_count": 15,
     "metadata": {},
     "output_type": "execute_result"
    }
   ],
   "source": [
    "Y = df.values\n",
    "Z = Y[df['class']=='hazardous']\n",
    "Z"
   ]
  },
  {
   "cell_type": "code",
   "execution_count": 16,
   "id": "ff56abf4",
   "metadata": {},
   "outputs": [],
   "source": [
    "#!pip install pyfim\n",
    "from fim import apriori"
   ]
  },
  {
   "cell_type": "code",
   "execution_count": 17,
   "id": "0122bd50",
   "metadata": {},
   "outputs": [
    {
     "name": "stdout",
     "output_type": "stream",
     "text": [
      "Help on built-in function apriori in module fim:\n",
      "\n",
      "apriori(...)\n",
      "    apriori (tracts, target='s', supp=10, zmin=1, zmax=None, report='a',\n",
      "             eval='x', agg='x', thresh=10, prune=None, algo='b', mode='',\n",
      "             border=None)\n",
      "    Find frequent item sets with the Apriori algorithm.\n",
      "    tracts  transaction database to mine (mandatory)\n",
      "            The database must be an iterable of transactions;\n",
      "            each transaction must be an iterable of items;\n",
      "            each item must be a hashable object.\n",
      "            If the database is a dictionary, the transactions are\n",
      "            the keys, the values their (integer) multiplicities.\n",
      "    target  type of frequent item sets to find     (default: s)\n",
      "            s/a   sets/all   all     frequent item sets\n",
      "            c     closed     closed  frequent item sets\n",
      "            m     maximal    maximal frequent item sets\n",
      "            g     gens       generators\n",
      "            r     rules      association rules\n",
      "    supp    minimum support of an item set         (default: 10)\n",
      "            (positive: percentage, negative: absolute number)\n",
      "    conf    minimum confidence of an assoc. rule   (default: 80%)\n",
      "    zmin    minimum number of items per item set   (default: 1)\n",
      "    zmax    maximum number of items per item set   (default: no limit)\n",
      "    report  values to report with an item set      (default: a)\n",
      "            a     absolute item set support (number of transactions)\n",
      "            s     relative item set support as a fraction\n",
      "            S     relative item set support as a percentage\n",
      "            e     value of item set evaluation measure\n",
      "            E     value of item set evaluation measure as a percentage\n",
      "            (     combine values in a tuple (must be first character)\n",
      "            [     combine values in a list  (must be first character)\n",
      "            #     pattern spectrum as a dictionary  (no patterns)\n",
      "            =     pattern spectrum as a list        (no patterns)\n",
      "            |     pattern spectrum as three columns (no patterns)\n",
      "            for target 'r' (association rules) also available:\n",
      "            b     absolute body set  support (number of transactions)\n",
      "            x     relative body set  support as a fraction\n",
      "            X     relative body set  support as a percentage\n",
      "            h     absolute head item support (number of transactions)\n",
      "            y     relative head item support as a fraction\n",
      "            Y     relative head item support as a percentage\n",
      "            c     rule confidence as a fraction\n",
      "            C     rule confidence as a percentage\n",
      "            l     lift value of a rule (confidence/prior)\n",
      "            L     lift value of a rule as a percentage\n",
      "            Q     support of the empty set (total number of transactions)\n",
      "    eval    measure for item set evaluation        (default: x)\n",
      "            x     none       no measure / zero (default)\n",
      "            b     ldratio    binary logarithm of support quotient       (+)\n",
      "            c     conf       rule confidence                            (+)\n",
      "            d     confdiff   absolute confidence difference to prior    (+)\n",
      "            l     lift       lift value (confidence divided by prior)   (+)\n",
      "            a     liftdiff   absolute difference of lift value to 1     (+)\n",
      "            q     liftquot   difference of lift quotient to 1           (+)\n",
      "            v     cvct       conviction (inverse lift for negated head) (+)\n",
      "            e     cvctdiff   absolute difference of conviction to 1     (+)\n",
      "            r     cvctquot   difference of conviction quotient to 1     (+)\n",
      "            k     cprob      conditional probability ratio              (+)\n",
      "            j     import     importance (binary log. of prob. ratio)    (+)\n",
      "            z     cert       certainty factor (relative conf. change)   (+)\n",
      "            n     chi2       normalized chi^2 measure                   (+)\n",
      "            p     chi2pval   p-value from (unnormalized) chi^2 measure  (-)\n",
      "            y     yates      normalized chi^2 with Yates' correction    (+)\n",
      "            t     yatespval  p-value from Yates-corrected chi^2 measure (-)\n",
      "            i     info       information difference to prior            (+)\n",
      "            g     infopval   p-value from G statistic/info. difference  (-)\n",
      "            f     fetprob    Fisher's exact test (table probability)    (-)\n",
      "            h     fetchi2    Fisher's exact test (chi^2 measure)        (-)\n",
      "            m     fetinfo    Fisher's exact test (mutual information)   (-)\n",
      "            s     fetsupp    Fisher's exact test (support)              (-)\n",
      "            Measures marked with (+) must meet or exceed the threshold,\n",
      "            measures marked with (-) must not exceed the threshold\n",
      "            in order for the item set to be reported.\n",
      "    agg     evaluation measure aggregation mode    (default: x)\n",
      "            x     none       no aggregation (use first value)\n",
      "            m     min        minimum of individual measure values\n",
      "            n     max        maximum of individual measure values\n",
      "            a     avg        average of individual measure values\n",
      "    thresh  threshold for evaluation measure       (default: 10%)\n",
      "    prune   min. size for evaluation filtering     (default: no pruning)\n",
      "            = 0   backward filtering       (no subset check)\n",
      "            < 0   weak   forward filtering (one subset  must qualify)\n",
      "            > 0   strong forward filtering (all subsets must qualify)\n",
      "    algo    algorithm variant to use               (default: a)\n",
      "            b     basic      standard algorithm (only choice)\n",
      "    mode    operation mode indicators/flags        (default: None)\n",
      "            x     do not use perfect extension pruning\n",
      "            t/T   do not organize transactions as a prefix tree\n",
      "            y     a-posteriori pruning of infrequent item sets\n",
      "            z     invalidate evaluation below expected support\n",
      "            o     use original rule support definition (body & head)\n",
      "    border  support border for filtering item sets (default: None)\n",
      "            Must be a list or tuple of (absolute) minimum support values\n",
      "            per item set size (by which the list/tuple is indexed).\n",
      "    appear  dictionary mapping items to item appearance indicators,\n",
      "            with the key None referring to the default item appearance.\n",
      "            (If None does not occur as a key or no dictionary is given,\n",
      "            the default item appearance indicator is 'both'.)\n",
      "            This parameter is only used if the target type is rules.\n",
      "            * item may not appear anywhere in a rule:\n",
      "              '-', 'n', 'none', 'neither', 'ignore'\n",
      "            * item may appear only in rule body/antecedent:\n",
      "              'i', 'in', 'inp', 'input', 'b', 'body',\n",
      "              'a', 'ante', 'antecedent'\n",
      "            * item may appear only in rule head/consequent:\n",
      "              'o', 'out',      'output', 'h', 'head',\n",
      "              'c', 'cons', 'consequent'\n",
      "            * item may appear anywhere in a rule:\n",
      "              'io', 'i&o', 'inout', 'in&out', 'bh', 'b&h', 'both'\n",
      "    returns if report is not in ['#','=','|']:\n",
      "              if the target is association rules:\n",
      "                a list of rules (i.e. tuples with two or more elements),\n",
      "                each consisting of a head/consequent item, a tuple with\n",
      "                a body/antecedent item set, and the values selected by\n",
      "                the parameter 'report', which may be combined into a\n",
      "                tuple or a list if report[0] is '(' or '[', respectively.\n",
      "              if the target is a type of item sets:\n",
      "                a list of patterns (i.e. tuples with one or more elements),\n",
      "                each consisting of a tuple with a found frequent item set\n",
      "                and the values selected by the parameter 'report', which\n",
      "                may be combined into a tuple or list if report[0] is '('\n",
      "                or '[', respectively\n",
      "            if report in ['#','=','|']:\n",
      "              a pattern spectrum as a dictionary mapping pattern sizes\n",
      "              to the corresponding occurrence support ranges, as a list\n",
      "              of triplets (size, min. support, max. support) or as three\n",
      "              columns for sizes and minimum and maximum support values\n",
      "\n"
     ]
    }
   ],
   "source": [
    "help(apriori)"
   ]
  },
  {
   "cell_type": "code",
   "execution_count": 18,
   "id": "cc120469",
   "metadata": {},
   "outputs": [],
   "source": [
    "#supp=2 ; 0.02\n",
    "#supp=20 ; 0.2\n",
    "\n",
    "itemsets = apriori(Z, target='s', supp=2, zmin=3, report='S')"
   ]
  },
  {
   "cell_type": "code",
   "execution_count": 19,
   "id": "91c6ebfa",
   "metadata": {},
   "outputs": [
    {
     "data": {
      "text/plain": [
       "[((5, 'hazardous', 'preparation'), 4.705882352941177),\n",
       " ((5,\n",
       "   '(38.0, 1245.0]_gdene',\n",
       "   'hazardous',\n",
       "   'preparation',\n",
       "   '(52832.5, 2595650.0]_gene'),\n",
       "  2.3529411764705883),\n",
       " ((5, '(38.0, 1245.0]_gdene', 'hazardous', 'preparation'), 2.3529411764705883),\n",
       " ((5, '(38.0, 1245.0]_gdene', 'hazardous', '(52832.5, 2595650.0]_gene'),\n",
       "  2.3529411764705883),\n",
       " ((5, '(38.0, 1245.0]_gdene', 'hazardous'), 2.3529411764705883)]"
      ]
     },
     "execution_count": 19,
     "metadata": {},
     "output_type": "execute_result"
    }
   ],
   "source": [
    "itemsets[:5]"
   ]
  },
  {
   "cell_type": "code",
   "execution_count": 20,
   "id": "27ea8fb6",
   "metadata": {},
   "outputs": [
    {
     "data": {
      "text/plain": [
       "(5, 'hazardous', 'preparation')"
      ]
     },
     "execution_count": 20,
     "metadata": {},
     "output_type": "execute_result"
    }
   ],
   "source": [
    "# frequent itemset\n",
    "itemsets[0][0]"
   ]
  },
  {
   "cell_type": "code",
   "execution_count": 21,
   "id": "187e0083",
   "metadata": {},
   "outputs": [
    {
     "data": {
      "text/plain": [
       "4.705882352941177"
      ]
     },
     "execution_count": 21,
     "metadata": {},
     "output_type": "execute_result"
    }
   ],
   "source": [
    "# support\n",
    "itemsets[0][1]"
   ]
  },
  {
   "cell_type": "code",
   "execution_count": 22,
   "id": "355d068e",
   "metadata": {},
   "outputs": [],
   "source": [
    "#maximal\n",
    "itemsets = apriori(Z, target='m', supp=2, zmin=3, report='S')"
   ]
  },
  {
   "cell_type": "code",
   "execution_count": 23,
   "id": "cc2c0ebc",
   "metadata": {},
   "outputs": [
    {
     "data": {
      "text/plain": [
       "[((5,\n",
       "   '(38.0, 1245.0]_gdene',\n",
       "   '(52832.5, 2595650.0]_gene',\n",
       "   'preparation',\n",
       "   'hazardous'),\n",
       "  2.3529411764705883),\n",
       " ((5, 'low hazard', '(52832.5, 2595650.0]_gene', 'preparation', 'hazardous'),\n",
       "  2.3529411764705883),\n",
       " ((5,\n",
       "   '(669.0, 4518.0]_gpuls',\n",
       "   '(52832.5, 2595650.0]_gene',\n",
       "   'preparation',\n",
       "   'hazardous'),\n",
       "  2.3529411764705883),\n",
       " ((6,\n",
       "   '(-6.0, 38.0]_gdene',\n",
       "   'lack of hazard',\n",
       "   '(52832.5, 2595650.0]_gene',\n",
       "   'preparation',\n",
       "   'hazardous'),\n",
       "  2.3529411764705883),\n",
       " ((6,\n",
       "   'lack of hazard',\n",
       "   '(669.0, 4518.0]_gpuls',\n",
       "   '(52832.5, 2595650.0]_gene',\n",
       "   'preparation',\n",
       "   'hazardous'),\n",
       "  2.3529411764705883)]"
      ]
     },
     "execution_count": 23,
     "metadata": {},
     "output_type": "execute_result"
    }
   ],
   "source": [
    "itemsets[:5]"
   ]
  },
  {
   "cell_type": "code",
   "execution_count": 24,
   "id": "5325f9a3",
   "metadata": {},
   "outputs": [
    {
     "data": {
      "text/plain": [
       "(5,\n",
       " '(38.0, 1245.0]_gdene',\n",
       " '(52832.5, 2595650.0]_gene',\n",
       " 'preparation',\n",
       " 'hazardous')"
      ]
     },
     "execution_count": 24,
     "metadata": {},
     "output_type": "execute_result"
    }
   ],
   "source": [
    "itemsets[0][0]"
   ]
  },
  {
   "cell_type": "code",
   "execution_count": 25,
   "id": "c80a4d6b",
   "metadata": {},
   "outputs": [
    {
     "data": {
      "image/png": "[encoded data removed]",
      "text/plain": [
       "<Figure size 432x288 with 1 Axes>"
      ]
     },
     "metadata": {
      "needs_background": "light"
     },
     "output_type": "display_data"
    }
   ],
   "source": [
    "len_max_it = []\n",
    "len_cl_it = []\n",
    "for i in range(2, 20+1):\n",
    "    max_itemsets = apriori(Z, target='m', supp=i, zmin=3)\n",
    "    cl_itemsets = apriori(Z, target='c', supp=i, zmin=3)\n",
    "    len_max_it.append( len(max_itemsets)  )\n",
    "    len_cl_it.append( len(cl_itemsets) )\n",
    "    \n",
    "plt.plot(len_max_it, label='maximal')\n",
    "plt.plot(len_cl_it, label='closed')\n",
    "plt.legend(fontsize=20)\n",
    "plt.xticks(fontsize=20)\n",
    "plt.xlabel('%support', fontsize=15)\n",
    "\n",
    "plt.show()"
   ]
  },
  {
   "cell_type": "code",
   "execution_count": 26,
   "id": "b36eedd6",
   "metadata": {},
   "outputs": [
    {
     "data": {
      "image/png": "[encoded data removed]",
      "text/plain": [
       "<Figure size 432x288 with 1 Axes>"
      ]
     },
     "metadata": {
      "needs_background": "light"
     },
     "output_type": "display_data"
    }
   ],
   "source": [
    "filter_1 = []\n",
    "filter_2 = []\n",
    "for i in range(2, 20+1):\n",
    "    max_itemsets = apriori(Z, target='m', supp=i, zmin=3)\n",
    "    \n",
    "    filter_1.append( len([item for item in max_itemsets if 'non hazardous' in item[0]])  )\n",
    "    filter_2.append( len([item for item in max_itemsets if 'hazardous' in item[0]]) )\n",
    "    \n",
    "plt.plot(filter_1, label='w/ non hazardous')\n",
    "plt.plot(filter_2, label='w/ hazardous')\n",
    "plt.legend(fontsize=20)\n",
    "plt.xticks(fontsize=20)\n",
    "plt.xlabel('%support', fontsize=15)\n",
    "\n",
    "plt.show()"
   ]
  },
  {
   "cell_type": "code",
   "execution_count": 27,
   "id": "434c11dd",
   "metadata": {},
   "outputs": [],
   "source": [
    "rules = apriori(Z, target='r', supp=10, zmin=3, conf=60, report='aScl')"
   ]
  },
  {
   "cell_type": "code",
   "execution_count": 28,
   "id": "ccee58e3-5b15-42cd-9321-7224e1c2e558",
   "metadata": {},
   "outputs": [
    {
     "data": {
      "text/plain": [
       "403"
      ]
     },
     "execution_count": 28,
     "metadata": {},
     "output_type": "execute_result"
    }
   ],
   "source": [
    "len (rules)"
   ]
  },
  {
   "cell_type": "code",
   "execution_count": 29,
   "id": "c8412b01",
   "metadata": {},
   "outputs": [
    {
     "data": {
      "text/plain": [
       "[('(1.999, 190.0]_gpuls',\n",
       "  ('coal-getting', 'hazardous'),\n",
       "  12,\n",
       "  7.0588235294117645,\n",
       "  0.7058823529411765,\n",
       "  7.0588235294117645),\n",
       " ('coal-getting',\n",
       "  ('(1.999, 190.0]_gpuls', 'hazardous'),\n",
       "  12,\n",
       "  7.0588235294117645,\n",
       "  0.7058823529411765,\n",
       "  7.0588235294117645),\n",
       " ('lack of hazard',\n",
       "  ('coal-getting', 'hazardous'),\n",
       "  14,\n",
       "  8.235294117647058,\n",
       "  0.8235294117647058,\n",
       "  1.6867469879518073),\n",
       " ('(-96.001, -37.0]_gdene',\n",
       "  ('(1.999, 190.0]_gpuls', 'hazardous'),\n",
       "  13,\n",
       "  7.647058823529412,\n",
       "  0.7647058823529411,\n",
       "  3.1707317073170733),\n",
       " ('lack of hazard',\n",
       "  ('(1.999, 190.0]_gpuls', 'hazardous'),\n",
       "  14,\n",
       "  8.235294117647058,\n",
       "  0.8235294117647058,\n",
       "  1.6867469879518073)]"
      ]
     },
     "execution_count": 29,
     "metadata": {},
     "output_type": "execute_result"
    }
   ],
   "source": [
    "rules[:5]\n",
    "#Supporto in val assoluto\n",
    "#Supporto in percentuale\n",
    "#confidenza\n",
    "#Lift"
   ]
  },
  {
   "cell_type": "code",
   "execution_count": 30,
   "id": "3c729b62-002f-4c81-a4cc-4bcf7bc63a63",
   "metadata": {},
   "outputs": [],
   "source": [
    "#A=np.zeros(0)\n",
    "#for a in range (0,403):\n",
    "#    if rules[a][0]==\"hazardous\":\n",
    "#        np.append(rules[a][0], rules[a][1])"
   ]
  },
  {
   "cell_type": "code",
   "execution_count": 54,
   "id": "447cefef",
   "metadata": {},
   "outputs": [
    {
     "data": {
      "text/plain": [
       "'(-96.001, -37.0]_gdene'"
      ]
     },
     "execution_count": 54,
     "metadata": {},
     "output_type": "execute_result"
    }
   ],
   "source": [
    "rules[0][0]"
   ]
  },
  {
   "cell_type": "code",
   "execution_count": 68,
   "id": "1cc9ba89-e6f7-4084-9494-e8b9971894f5",
   "metadata": {},
   "outputs": [
    {
     "data": {
      "text/plain": [
       "[('hazardous',\n",
       "  (2, '(669.0, 4518.0]_gpuls', '(52832.5, 2595650.0]_gene', 'preparation'),\n",
       "  22,\n",
       "  12.941176470588237,\n",
       "  1.0,\n",
       "  1.0),\n",
       " ('hazardous',\n",
       "  ('(379.0, 669.0]_gpuls', '(25485.0, 52832.5]_gene', 'preparation'),\n",
       "  22,\n",
       "  12.941176470588237,\n",
       "  1.0,\n",
       "  1.0),\n",
       " ('hazardous',\n",
       "  ('(379.0, 669.0]_gpuls', 'low hazard', 'preparation'),\n",
       "  23,\n",
       "  13.529411764705882,\n",
       "  1.0,\n",
       "  1.0),\n",
       " ('hazardous',\n",
       "  ('(379.0, 669.0]_gpuls', 'preparation'),\n",
       "  38,\n",
       "  22.35294117647059,\n",
       "  1.0,\n",
       "  1.0),\n",
       " ('hazardous',\n",
       "  (0, 'low hazard', 'preparation'),\n",
       "  19,\n",
       "  11.176470588235295,\n",
       "  1.0,\n",
       "  1.0),\n",
       " ('hazardous', (0, 'preparation'), 34, 20.0, 1.0, 1.0),\n",
       " ('hazardous',\n",
       "  ('(25485.0, 52832.5]_gene', 'low hazard', 'preparation'),\n",
       "  22,\n",
       "  12.941176470588237,\n",
       "  1.0,\n",
       "  1.0),\n",
       " ('hazardous',\n",
       "  ('(25485.0, 52832.5]_gene', 'preparation'),\n",
       "  40,\n",
       "  23.52941176470588,\n",
       "  1.0,\n",
       "  1.0),\n",
       " ('hazardous',\n",
       "  ('(-96.001, -37.0]_gdene', 'preparation'),\n",
       "  32,\n",
       "  18.823529411764707,\n",
       "  1.0,\n",
       "  1.0),\n",
       " ('hazardous',\n",
       "  ('(-6.0, 38.0]_gdene',\n",
       "   '(669.0, 4518.0]_gpuls',\n",
       "   '(52832.5, 2595650.0]_gene',\n",
       "   'preparation'),\n",
       "  22,\n",
       "  12.941176470588237,\n",
       "  1.0,\n",
       "  1.0),\n",
       " ('hazardous',\n",
       "  ('(-37.0, -6.0]_gdene',\n",
       "   '(669.0, 4518.0]_gpuls',\n",
       "   '(52832.5, 2595650.0]_gene',\n",
       "   'preparation'),\n",
       "  19,\n",
       "  11.176470588235295,\n",
       "  1.0,\n",
       "  1.0),\n",
       " ('hazardous',\n",
       "  ('(-37.0, -6.0]_gdene', '(52832.5, 2595650.0]_gene', 'preparation'),\n",
       "  21,\n",
       "  12.352941176470589,\n",
       "  1.0,\n",
       "  1.0),\n",
       " ('hazardous',\n",
       "  ('(-37.0, -6.0]_gdene', 'preparation'),\n",
       "  40,\n",
       "  23.52941176470588,\n",
       "  1.0,\n",
       "  1.0),\n",
       " ('hazardous',\n",
       "  ('(38.0, 1245.0]_gdene', '(52832.5, 2595650.0]_gene', 'preparation'),\n",
       "  26,\n",
       "  15.294117647058824,\n",
       "  1.0,\n",
       "  1.0),\n",
       " ('hazardous',\n",
       "  ('(38.0, 1245.0]_gdene', 'preparation'),\n",
       "  42,\n",
       "  24.705882352941178,\n",
       "  1.0,\n",
       "  1.0),\n",
       " ('hazardous',\n",
       "  ('lack of hazard', '(52832.5, 2595650.0]_gene', 'preparation'),\n",
       "  37,\n",
       "  21.764705882352942,\n",
       "  1.0,\n",
       "  1.0),\n",
       " ('hazardous',\n",
       "  ('lack of hazard', 'preparation'),\n",
       "  69,\n",
       "  40.588235294117645,\n",
       "  1.0,\n",
       "  1.0),\n",
       " ('hazardous',\n",
       "  ('low hazard', '(52832.5, 2595650.0]_gene', 'preparation'),\n",
       "  52,\n",
       "  30.58823529411765,\n",
       "  1.0,\n",
       "  1.0),\n",
       " ('hazardous',\n",
       "  ('low hazard', 'preparation'),\n",
       "  84,\n",
       "  49.411764705882355,\n",
       "  1.0,\n",
       "  1.0)]"
      ]
     },
     "execution_count": 68,
     "metadata": {},
     "output_type": "execute_result"
    }
   ],
   "source": [
    "K= []\n",
    "for a in range(0, len(rules)):\n",
    "    if rules[a][0] == \"hazardous\":\n",
    "        K.append(rules[a])\n",
    "        \n",
    "K"
   ]
  },
  {
   "cell_type": "code",
   "execution_count": 71,
   "id": "7914668b-ad5e-4455-92d9-9134f9aefae5",
   "metadata": {},
   "outputs": [
    {
     "name": "stdout",
     "output_type": "stream",
     "text": [
      "hazardous (2, '(669.0, 4518.0]_gpuls', '(52832.5, 2595650.0]_gene', 'preparation')\n",
      "hazardous ('(379.0, 669.0]_gpuls', '(25485.0, 52832.5]_gene', 'preparation')\n",
      "hazardous ('(379.0, 669.0]_gpuls', 'low hazard', 'preparation')\n",
      "hazardous ('(379.0, 669.0]_gpuls', 'preparation')\n",
      "hazardous (0, 'low hazard', 'preparation')\n",
      "hazardous (0, 'preparation')\n",
      "hazardous ('(25485.0, 52832.5]_gene', 'low hazard', 'preparation')\n",
      "hazardous ('(25485.0, 52832.5]_gene', 'preparation')\n",
      "hazardous ('(-96.001, -37.0]_gdene', 'preparation')\n",
      "hazardous ('(-6.0, 38.0]_gdene', '(669.0, 4518.0]_gpuls', '(52832.5, 2595650.0]_gene', 'preparation')\n",
      "hazardous ('(-37.0, -6.0]_gdene', '(669.0, 4518.0]_gpuls', '(52832.5, 2595650.0]_gene', 'preparation')\n",
      "hazardous ('(-37.0, -6.0]_gdene', '(52832.5, 2595650.0]_gene', 'preparation')\n",
      "hazardous ('(-37.0, -6.0]_gdene', 'preparation')\n",
      "hazardous ('(38.0, 1245.0]_gdene', '(52832.5, 2595650.0]_gene', 'preparation')\n",
      "hazardous ('(38.0, 1245.0]_gdene', 'preparation')\n",
      "hazardous ('lack of hazard', '(52832.5, 2595650.0]_gene', 'preparation')\n",
      "hazardous ('lack of hazard', 'preparation')\n",
      "hazardous ('low hazard', '(52832.5, 2595650.0]_gene', 'preparation')\n",
      "hazardous ('low hazard', 'preparation')\n"
     ]
    }
   ],
   "source": [
    "for a in range(0, len(K)):\n",
    "    print(K[a][0], K[a][1])    "
   ]
  },
  {
   "cell_type": "code",
   "execution_count": 50,
   "id": "f5129968",
   "metadata": {},
   "outputs": [
    {
     "data": {
      "text/plain": [
       "('(-96.001, -37.0]_gdene', ('(1.999, 190.0]_gpuls', 'hazardous'))"
      ]
     },
     "execution_count": 50,
     "metadata": {},
     "output_type": "execute_result"
    }
   ],
   "source": [
    "# <--\n",
    "rules[0][0], rules[0][1]"
   ]
  },
  {
   "cell_type": "code",
   "execution_count": 51,
   "id": "d39753a2",
   "metadata": {},
   "outputs": [
    {
     "data": {
      "text/plain": [
       "13"
      ]
     },
     "execution_count": 51,
     "metadata": {},
     "output_type": "execute_result"
    }
   ],
   "source": [
    "# asbolute support\n",
    "rules[0][2]"
   ]
  },
  {
   "cell_type": "code",
   "execution_count": 52,
   "id": "827e3808",
   "metadata": {},
   "outputs": [
    {
     "data": {
      "text/plain": [
       "7.647058823529412"
      ]
     },
     "execution_count": 52,
     "metadata": {},
     "output_type": "execute_result"
    }
   ],
   "source": [
    "# support as percentage\n",
    "rules[0][3]"
   ]
  },
  {
   "cell_type": "code",
   "execution_count": null,
   "id": "57d5a001",
   "metadata": {},
   "outputs": [],
   "source": [
    "# confidence\n",
    "rules[0][4]"
   ]
  },
  {
   "cell_type": "code",
   "execution_count": null,
   "id": "0d55aa1a",
   "metadata": {},
   "outputs": [],
   "source": [
    "# lift\n",
    "rules[0][5]"
   ]
  },
  {
   "cell_type": "code",
   "execution_count": null,
   "id": "3ef10736",
   "metadata": {},
   "outputs": [],
   "source": [
    "[r for r in rules if r[0] == 'hazardous'][0]"
   ]
  },
  {
   "cell_type": "code",
   "execution_count": null,
   "id": "b73e3b3a",
   "metadata": {},
   "outputs": [],
   "source": [
    "print( 'to_predict:', [r for r in rules if r[0] == 'hazardous'][0][0])\n",
    "print( 'how?', [r for r in rules if r[0] == 'hazardous'][0][1])"
   ]
  },
  {
   "cell_type": "code",
   "execution_count": null,
   "id": "d7f8c4cb",
   "metadata": {},
   "outputs": [],
   "source": [
    "# left for exercise\n",
    "\n",
    "# using the same test set for classification (w/ random_state):\n",
    "# predict the target variable with the most interesting rule:\n",
    "# .... e.g., the most frequent;\n",
    "# .... e.g., the one w/ max lift\n",
    "# build a list of prediction, e.g. ['Survived', 'Not Survived', 'Survived']\n",
    "# evaluate this prediction with precision/recall/confusion matrix etc."
   ]
  },
  {
   "cell_type": "code",
   "execution_count": null,
   "id": "e9e68ade",
   "metadata": {},
   "outputs": [],
   "source": [
    "len_r = []\n",
    "for i in range(1, 20+1): #support\n",
    "    len_r_wrt_i = []\n",
    "    for j in range(60, 80+1): #confidence\n",
    "        rules = apriori(Z, target='r', supp=i, zmin=3, conf=j, report='aScl')\n",
    "        \n",
    "        len_r_wrt_i.append(len(rules)) # study your characteristics/properties here\n",
    "        \n",
    "    len_r.append(len_r_wrt_i)"
   ]
  },
  {
   "cell_type": "code",
   "execution_count": null,
   "id": "d149ca05",
   "metadata": {},
   "outputs": [],
   "source": [
    "plt.imshow( len_r, cmap='Blues', alpha=0.8 )\n",
    "plt.xlabel('%support', fontsize=20)\n",
    "plt.ylabel('%confidence', fontsize=20)\n",
    "plt.xticks(fontsize=20)\n",
    "plt.yticks( np.arange(0,20+1,4), np.arange(60,80+1,4), fontsize=20  )\n",
    "plt.colorbar()\n",
    "\n",
    "plt.show()"
   ]
  },
  {
   "cell_type": "code",
   "execution_count": null,
   "id": "1ba64c8a-6df9-4940-9280-f7dbe927f5f6",
   "metadata": {},
   "outputs": [],
   "source": []
  },
  {
   "cell_type": "code",
   "execution_count": null,
   "id": "62e7226f-c4af-4b9a-8eb7-57154f90f6a5",
   "metadata": {},
   "outputs": [],
   "source": []
  },
  {
   "cell_type": "code",
   "execution_count": null,
   "id": "41e84553-a25f-4bd1-8f11-ecb666a848fb",
   "metadata": {},
   "outputs": [],
   "source": []
  },
  {
   "cell_type": "code",
   "execution_count": null,
   "id": "daedfd0c-5431-4aff-b370-408a8841767c",
   "metadata": {},
   "outputs": [],
   "source": []
  }
 ],
 "metadata": {
  "kernelspec": {
   "display_name": "Python 3",
   "language": "python",
   "name": "python3"
  },
  "language_info": {
   "codemirror_mode": {
    "name": "ipython",
    "version": 3
   },
   "file_extension": ".py",
   "mimetype": "text/x-python",
   "name": "python",
   "nbconvert_exporter": "python",
   "pygments_lexer": "ipython3",
   "version": "3.8.8"
  }
 },
 "nbformat": 4,
 "nbformat_minor": 5
}
